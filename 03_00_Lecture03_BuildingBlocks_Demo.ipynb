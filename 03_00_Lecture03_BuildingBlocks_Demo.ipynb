{
  "nbformat": 4,
  "nbformat_minor": 0,
  "metadata": {
    "colab": {
      "provenance": [],
      "authorship_tag": "ABX9TyM6JfSFVWiIBPthTUEl5whX",
      "include_colab_link": true
    },
    "kernelspec": {
      "name": "python3",
      "display_name": "Python 3"
    },
    "language_info": {
      "name": "python"
    }
  },
  "cells": [
    {
      "cell_type": "markdown",
      "metadata": {
        "id": "view-in-github",
        "colab_type": "text"
      },
      "source": [
        "<a href=\"https://colab.research.google.com/github/isys5002-itp/ISYS5002-2024-S2/blob/main/03_00_Lecture03_BuildingBlocks_Demo.ipynb\" target=\"_parent\"><img src=\"https://colab.research.google.com/assets/colab-badge.svg\" alt=\"Open In Colab\"/></a>"
      ]
    },
    {
      "cell_type": "markdown",
      "source": [
        "## Even or Odd"
      ],
      "metadata": {
        "id": "DXnnsmEC4A3r"
      }
    },
    {
      "cell_type": "markdown",
      "source": [
        "# Problem Solving Methodology\n",
        "\n",
        "## Task: When given a number, you are asked to inspect it and determine whether it is an odd or even number."
      ],
      "metadata": {
        "id": "3vQNP84Hb2zy"
      }
    },
    {
      "cell_type": "markdown",
      "source": [
        "## Problem statement:\n",
        "Create a program that takes a number and determines whether the given number is even or odd. The program should display a message indicating the result, stating whether the input number is even or odd.\n",
        "\n"
      ],
      "metadata": {
        "id": "i7SHXiMQdF6a"
      }
    },
    {
      "cell_type": "markdown",
      "source": [
        "### Input and Output\n",
        "\n",
        "**Input:** A numerical value (integer or floating-point) representing the number to be checked.\n",
        "\n",
        "\n",
        "**Output:** A message indicating whether the input number is even or odd.\n",
        "\n",
        "\n",
        "\n"
      ],
      "metadata": {
        "id": "3XfNNBWGdR7h"
      }
    },
    {
      "cell_type": "markdown",
      "source": [
        "### Work through an example by hand\n",
        "\n",
        "To determine if a number is even, check if the number is divisible by 2 without leaving any remainder.\n",
        "\n",
        "*Example 1:*\n",
        "\n",
        "```\n",
        "Input: 7\n",
        "\n",
        "Process: 7 / 2 = 3 remainder 1\n",
        "Process: 7 % 2 == 1\n",
        "\n",
        "Output: \"7 is odd.\"\n",
        "```\n",
        "\n",
        "\n",
        "*Example 2:*\n",
        "\n",
        "\n",
        "```\n",
        "Input: 14\n",
        "\n",
        "Process: 14 / 2 = 7 remainder 0\n",
        "Process: 14 % 2 == 0\n",
        "\n",
        "Output: \"14 is even.\"\n",
        "```\n",
        "\n"
      ],
      "metadata": {
        "id": "JIPHc8jTd99w"
      }
    },
    {
      "cell_type": "markdown",
      "source": [
        "### Algorithm:\n",
        "\n",
        "```\n",
        "Get a numerical value as input\n",
        "\n",
        "If num is divisible by 2 with no remainder (i.e., num % 2 == 0), then it's even.\n",
        "> Print \"num is even.\"\n",
        "\n",
        "If num is not divisible by 2 (i.e., num % 2 != 0), then it's odd.\n",
        "> Print \"num is odd.\"\n",
        "\n",
        "display the result message\n",
        "```\n",
        "\n"
      ],
      "metadata": {
        "id": "ID_ko8B8dVjp"
      }
    },
    {
      "cell_type": "markdown",
      "source": [
        "## Pseudocode: Check Even or Odd\n",
        "\n",
        "\n",
        "```\n",
        "Input: A number num\n",
        "\n",
        "Output: Display whether num is even or odd\n",
        "\n",
        "1. Start\n",
        "2. Input num\n",
        "3. If num % 2 == 0, then\n",
        "     - Display \"The number is even.\"\n",
        "   Else\n",
        "     - Display \"The number is odd.\"\n",
        "4. End\n",
        "```\n",
        "\n",
        "\n"
      ],
      "metadata": {
        "id": "sbBOQWSxsJXv"
      }
    },
    {
      "cell_type": "code",
      "source": [
        "str_number = input(\"Enter a number: \")\n",
        "\n",
        "number = float(str_number) # implicityly converting the dat type from string to int\n",
        "\n",
        "if number % 2 == 0:\n",
        "  result = 'even'\n",
        "else:\n",
        "  result = 'odd'\n",
        "\n",
        "print(\"Number \", number , \" is \", result)\n"
      ],
      "metadata": {
        "id": "TBb68Iq9ckz5",
        "colab": {
          "base_uri": "https://localhost:8080/"
        },
        "outputId": "34742d83-bcea-4f2c-ee22-c0bea445b93a"
      },
      "execution_count": 3,
      "outputs": [
        {
          "output_type": "stream",
          "name": "stdout",
          "text": [
            "Enter a number: 23\n",
            "Number  23.0  is  odd\n"
          ]
        }
      ]
    },
    {
      "cell_type": "markdown",
      "source": [
        "# Control flow structures - repetition/looping structures"
      ],
      "metadata": {
        "id": "IwRhlwUtoBPR"
      }
    },
    {
      "cell_type": "markdown",
      "source": [
        "## using `while` loop"
      ],
      "metadata": {
        "id": "FgSnEN7mGxTO"
      }
    },
    {
      "cell_type": "code",
      "source": [
        "while True:\n",
        "    str_number = input(\"Enter a number (enter 'q' to quit): \")\n",
        "    if str_number.lower() == 'q':\n",
        "        break\n",
        "\n",
        "    number = float(str_number)  # converting the data type from string to float\n",
        "\n",
        "    if number % 2 == 0:\n",
        "        result = 'even'\n",
        "    else:\n",
        "        result = 'odd'\n",
        "\n",
        "    print(\"Number\", number, \"is\", result)\n"
      ],
      "metadata": {
        "id": "T9KLk2T_oImS",
        "colab": {
          "base_uri": "https://localhost:8080/"
        },
        "outputId": "b8c5ecee-4579-47be-def0-cd16151526d4"
      },
      "execution_count": 7,
      "outputs": [
        {
          "name": "stdout",
          "output_type": "stream",
          "text": [
            "Enter a number (enter 'q' to quit): Q\n"
          ]
        }
      ]
    },
    {
      "cell_type": "markdown",
      "source": [
        "## using `for` loop\n",
        "\n",
        "controlled loop"
      ],
      "metadata": {
        "id": "SFgc7TBKtRsD"
      }
    },
    {
      "cell_type": "code",
      "source": [
        "for i in range(3): # 0, 1, 2\n",
        "    str_number = input(\"Enter a number: \")\n",
        "    number = float(str_number)  # converting the data type from string to float\n",
        "\n",
        "    if number % 2 == 0:\n",
        "        result = 'even'\n",
        "    else:\n",
        "        result = 'odd'\n",
        "\n",
        "    print(\"Number\", number, \"is\", result)\n"
      ],
      "metadata": {
        "id": "LmcOWNj0tRGY",
        "colab": {
          "base_uri": "https://localhost:8080/"
        },
        "outputId": "009988bd-0977-4473-8076-80359b91b822"
      },
      "execution_count": 8,
      "outputs": [
        {
          "output_type": "stream",
          "name": "stdout",
          "text": [
            "Enter a number: 21.\n",
            "Number 21.0 is odd\n",
            "Enter a number: 23\n",
            "Number 23.0 is odd\n",
            "Enter a number: 45\n",
            "Number 45.0 is odd\n"
          ]
        }
      ]
    },
    {
      "cell_type": "markdown",
      "source": [
        "## Loop through list"
      ],
      "metadata": {
        "id": "X8nG5rjwuJM7"
      }
    },
    {
      "cell_type": "code",
      "source": [
        "numbers = [10, 15, 20, 25, 30] # mutable\n",
        "\n",
        "numbers.append(35)\n",
        "#numbers.append(36)\n",
        "\n",
        "for number in numbers:\n",
        "    if number % 2 == 0:\n",
        "        result = 'even'\n",
        "    else:\n",
        "        result = 'odd'\n",
        "\n",
        "    print(\"Number\", number, \"is\", result)\n",
        "\n"
      ],
      "metadata": {
        "id": "mJFVdXFCuIke",
        "colab": {
          "base_uri": "https://localhost:8080/"
        },
        "outputId": "5bff9e27-36a2-4463-c2a3-94dea003ef6d"
      },
      "execution_count": 10,
      "outputs": [
        {
          "output_type": "stream",
          "name": "stdout",
          "text": [
            "Number 10 is even\n",
            "Number 15 is odd\n",
            "Number 20 is even\n",
            "Number 25 is odd\n",
            "Number 30 is even\n",
            "Number 35 is odd\n"
          ]
        }
      ]
    },
    {
      "cell_type": "code",
      "source": [
        "tuple_numbers = (10, 15, 20, 25, 30) #immutable\n",
        "\n",
        "for number in tuple_numbers:\n",
        "    if number % 2 == 0:\n",
        "        result = 'even'\n",
        "    else:\n",
        "        result = 'odd'\n",
        "\n",
        "    print(\"Number\", number, \"is\", result)\n"
      ],
      "metadata": {
        "id": "PCzvuM0tG-R-",
        "colab": {
          "base_uri": "https://localhost:8080/"
        },
        "outputId": "386cb7d5-f14b-4bae-a235-58fd4b3f9de7"
      },
      "execution_count": 11,
      "outputs": [
        {
          "output_type": "stream",
          "name": "stdout",
          "text": [
            "Number 10 is even\n",
            "Number 15 is odd\n",
            "Number 20 is even\n",
            "Number 25 is odd\n",
            "Number 30 is even\n"
          ]
        }
      ]
    },
    {
      "cell_type": "markdown",
      "source": [
        "# Functions"
      ],
      "metadata": {
        "id": "iUuhwWqKTEtE"
      }
    },
    {
      "cell_type": "code",
      "source": [
        "str_number = input(\"Enter a number: \")\n",
        "\n",
        "number = float(str_number) # implicityly converting the dat type from string to int\n",
        "\n",
        "if number % 2 == 0:\n",
        "  result = 'even'\n",
        "else:\n",
        "  result = 'odd'\n",
        "\n",
        "print(\"Number \", number , \" is \", result)"
      ],
      "metadata": {
        "id": "_ar3okPtvQeV"
      },
      "execution_count": null,
      "outputs": []
    },
    {
      "cell_type": "code",
      "source": [
        "# FUNCTION: Determine whether the input value is odd or even and return the appropriate result\n",
        "def odd_even(value):\n",
        "\n",
        "  if value % 2 == 0:\n",
        "    result = 'even'\n",
        "  else:\n",
        "    result = 'odd'\n",
        "\n",
        "  return result"
      ],
      "metadata": {
        "id": "07gikEUGXyH6"
      },
      "execution_count": 12,
      "outputs": []
    },
    {
      "cell_type": "code",
      "source": [
        "# get user input\n",
        "number = int(input(\"Enter a number: \"))\n",
        "\n",
        "# detemine odd or even number\n",
        "# call odd_even function and store the resulting value in variable 'result'\n",
        "result = odd_even(number)\n",
        "\n",
        "\n",
        "# display the result\n",
        "print(number, \"is an\", result, \"number\")"
      ],
      "metadata": {
        "id": "YXA42MNzYADM",
        "colab": {
          "base_uri": "https://localhost:8080/"
        },
        "outputId": "8216fe07-ea36-4c4b-8a11-ba18a97dbb9e"
      },
      "execution_count": 13,
      "outputs": [
        {
          "output_type": "stream",
          "name": "stdout",
          "text": [
            "Enter a number: 21\n",
            "21 is an odd number\n"
          ]
        }
      ]
    },
    {
      "cell_type": "markdown",
      "source": [
        "**Optional** Try:\n",
        "* take input one\n",
        "* take input two\n",
        "* perform odd/even ops\n",
        "* display output\n",
        "* provide option to continue"
      ],
      "metadata": {
        "id": "lTNYQeJUXTQC"
      }
    }
  ]
}