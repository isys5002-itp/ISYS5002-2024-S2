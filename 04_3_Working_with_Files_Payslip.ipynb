{
  "cells": [
    {
      "cell_type": "markdown",
      "metadata": {
        "id": "view-in-github",
        "colab_type": "text"
      },
      "source": [
        "<a href=\"https://colab.research.google.com/github/isys5002-itp/ISYS5002-2024-S2/blob/main/04_3_Working_with_Files_Payslip.ipynb\" target=\"_parent\"><img src=\"https://colab.research.google.com/assets/colab-badge.svg\" alt=\"Open In Colab\"/></a>"
      ]
    },
    {
      "cell_type": "markdown",
      "metadata": {
        "id": "b5IJBQVMWWWZ"
      },
      "source": [
        "# **File Input & Output**\n",
        "For program to retain data between the times it is run, you must save the data\n",
        "- Data is saved to a file, typically on computer disk\n",
        "- Saved data can be retrieved and used at a later time\n",
        "\n",
        "“***Writing data to***”: saving data on a file\n",
        "<br>***Output file***: a file that data is written to\n",
        "<br>*“**Reading data from**”*: process of retrieving data from a file\n",
        "<br>***Input file***: a file from which data is read\n",
        "\n",
        "Three steps when a program uses a file\n",
        "- Open the file\n",
        "- Process the file\n",
        "- Close the file\n",
        "\n",
        "**Types of files**\n",
        "<br>\n",
        "- A **text file** is a sequence of characters\n",
        "- A **binary file** (for images, videos and more) is a sequence of bytes\n",
        "- First character in a text file or byte in a binary file is located at position 0\n",
        "  - In a file of n characters or bytes, the highest position number is n – 1 (**end-of-file marker**)\n",
        "- For each file you **open**, Python creates a **file object** that you’ll use to interact with the file\n",
        "\n",
        "\n",
        "**Comma-separated values (CSV) file**\n",
        "- CSV files are the most common format used for importing and exporting data from spreadsheets and databases.\n",
        "- CSV files are text files that have delimiters. A delimiter is a character that separates data values.\n",
        "\n"
      ]
    },
    {
      "cell_type": "markdown",
      "source": [
        "# CSV File"
      ],
      "metadata": {
        "id": "BieUazgSLMeI"
      }
    },
    {
      "cell_type": "markdown",
      "metadata": {
        "id": "KiOs3fgB9CD8"
      },
      "source": [
        "## Reading and Writing CSV file\n",
        "\n",
        "Text files work fine when we are referencing small amounts of information, but when we use larger amounts of data, adding structure helps in organizing and retrieving values.\n",
        "\n",
        "One common format found in business and social sciences alike (as well as any field concerned with data science) is the comma-separated values (CSV) format.\n",
        "\n",
        "**CSV files** are the most common format used for importing and exporting data from spreadsheets and databases.\n",
        "\n",
        "CSV files are text files that have delimiters.  A **delimiter** is a character that separates data values.\n",
        "\n",
        "You can explore CSV files in spreadsheet software (such as Microsoft Excel), which will remove delimiters (usually commas) and store data values in separate cells.\n",
        "\n",
        "\n",
        "One of the benefits of importing data files such as CSV files is the ability to read in a lot of data at once, parsing the data so your code can access individual values within the data. **By default, CSV files use commas (“,”) to separate data values**.\n",
        "\n"
      ]
    },
    {
      "cell_type": "markdown",
      "source": [
        "Imports the built-in **`csv` module** for working with CSV (Comma Separated Values) files, which are a common file format used for storing tabular data."
      ],
      "metadata": {
        "id": "W8IeHiwhoKPV"
      }
    },
    {
      "cell_type": "code",
      "source": [
        "#import csv module\n",
        "import csv"
      ],
      "metadata": {
        "id": "HzELdjjOlqYW"
      },
      "execution_count": null,
      "outputs": []
    },
    {
      "cell_type": "markdown",
      "source": [
        "## Writing data to file"
      ],
      "metadata": {
        "id": "gdPyuSMuGqlT"
      }
    },
    {
      "cell_type": "code",
      "source": [
        "#Writing to a CSV file\n",
        "\n",
        "#open file and write records\n",
        "with open(\"sales_data.csv\", 'w') as sales_data:\n",
        "\n",
        "  '''\n",
        "  Creates a writer object which will convert the user’s data into\n",
        "  delimited strings on the given file-like object (payslip_data).\n",
        "  '''\n",
        "  writer = csv.writer(sales_data) # 'writer' object write data to the CSV file opened\n",
        "\n",
        "  writer.writerow(['name', 'salary', 'sales'])\n",
        "\n",
        "  writer.writerow(['Ram', '25000', '20000'])\n",
        "  writer.writerow(['Radha', '30000', '40000'])\n",
        "\n",
        "  # continue for for three more data\n",
        "\n"
      ],
      "metadata": {
        "id": "QHHhkU2aD6hU"
      },
      "execution_count": null,
      "outputs": []
    },
    {
      "cell_type": "markdown",
      "source": [
        "### Generalise it - User Input Storage in File\n",
        "\n",
        "Take input form user and write to file"
      ],
      "metadata": {
        "id": "4uhKJwVJGfEh"
      }
    },
    {
      "cell_type": "code",
      "source": [
        "\n",
        "with open(\"payslip_data.csv\", 'w') as payslip_data:\n",
        "  writer = csv.writer(payslip_data) # 'writer' object write data to the CSV file opened\n",
        "  writer.writerow(['name', 'salary', 'sales', 'comm_rate'])\n",
        "\n",
        "  # get user input - name\n",
        "  name = input(\"Please enter name: \")\n",
        "\n",
        "  # get user input for salary\n",
        "  salary = int(input(\"Please enter salary: \"))\n",
        "\n",
        "  # get user input for sales\n",
        "  sales = int(input(\"Please enter sales: \"))\n",
        "\n",
        "  # get user input for commission\n",
        "  comm_rate = float(input(\"Please enter commission rate: \"))\n",
        "\n",
        "  # write user data to file\n",
        "  writer.writerow([name, salary, sales, comm_rate])\n",
        "\n",
        "\n"
      ],
      "metadata": {
        "id": "y9nnaTCQJABT"
      },
      "execution_count": null,
      "outputs": []
    },
    {
      "cell_type": "markdown",
      "source": [
        "### Dynamic Data Collection\n",
        "Modify the code to prompt the user to decide if they want to continue."
      ],
      "metadata": {
        "id": "66kVOTaSJUUT"
      }
    },
    {
      "cell_type": "code",
      "source": [],
      "metadata": {
        "id": "hS4CTcxiFKLU"
      },
      "execution_count": null,
      "outputs": []
    },
    {
      "cell_type": "markdown",
      "source": [
        "## Reading data from file"
      ],
      "metadata": {
        "id": "n5ezYXDPGxMK"
      }
    },
    {
      "cell_type": "code",
      "source": [
        "with open('sales_data.csv', 'r') as file:\n",
        "    csvreader = csv.reader(file)\n",
        "\n",
        "    for row in csvreader:\n",
        "        print(row) # print each row in the file\n"
      ],
      "metadata": {
        "id": "Uqb_T9GyyiQ7"
      },
      "execution_count": null,
      "outputs": []
    },
    {
      "cell_type": "code",
      "source": [
        "# remove the header\n",
        "with open('sales_data.csv', 'r') as file:\n",
        "    csvreader = csv.reader(file)\n",
        "    next(csvreader)  # Skip the header row\n",
        "\n",
        "    for row in csvreader:\n",
        "        print(row) # print each row in the file"
      ],
      "metadata": {
        "id": "SusT2sSN6WQK"
      },
      "execution_count": null,
      "outputs": []
    },
    {
      "cell_type": "markdown",
      "source": [
        "### File Data Reading and Processing"
      ],
      "metadata": {
        "id": "88ulKsDaG2qr"
      }
    },
    {
      "cell_type": "code",
      "source": [
        "import csv\n",
        "\n",
        "names = []\n",
        "sales = []\n",
        "\n",
        "# Read data from the CSV file\n",
        "with open('sales_data.csv', 'r') as file:\n",
        "    reader = csv.reader(file)\n",
        "    next(reader)  # Skip the header row\n",
        "    for row in reader:\n",
        "        names.append(row[0])  # Name is in the first column\n",
        "        sales.append(int(row[2]))  # Sales are in the third column\n",
        "\n",
        "print(names)\n",
        "print(sales)\n"
      ],
      "metadata": {
        "id": "cOlKHMF_0jUq"
      },
      "execution_count": null,
      "outputs": []
    },
    {
      "cell_type": "markdown",
      "source": [
        "### Plotting graph"
      ],
      "metadata": {
        "id": "tRGjfkR7Jm74"
      }
    },
    {
      "cell_type": "code",
      "source": [
        "import matplotlib.pyplot as plt\n",
        "\n",
        "# Plotting the graph\n",
        "plt.figure(figsize=(5, 5))  # Set the figure size\n",
        "plt.bar(names, sales, color='blue')\n",
        "plt.xlabel('Name')\n",
        "plt.ylabel('Sales')\n",
        "plt.title('Sales by Name')\n",
        "plt.xticks(rotation=45)  # Rotate names for better visibility\n",
        "plt.show()"
      ],
      "metadata": {
        "id": "fNKqKnCr03Hh"
      },
      "execution_count": null,
      "outputs": []
    },
    {
      "cell_type": "markdown",
      "source": [
        "## **Task:** Modify the payslip program to store the calculated commission, tax and net pay"
      ],
      "metadata": {
        "id": "f7P28AlgCeSp"
      }
    },
    {
      "cell_type": "code",
      "source": [],
      "metadata": {
        "id": "DqxqoZ6XDJsy"
      },
      "execution_count": null,
      "outputs": []
    }
  ],
  "metadata": {
    "colab": {
      "provenance": [],
      "include_colab_link": true
    },
    "kernelspec": {
      "display_name": "Python 3",
      "name": "python3"
    },
    "language_info": {
      "name": "python"
    }
  },
  "nbformat": 4,
  "nbformat_minor": 0
}