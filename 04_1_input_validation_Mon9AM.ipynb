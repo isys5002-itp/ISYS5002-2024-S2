{
  "cells": [
    {
      "cell_type": "markdown",
      "metadata": {
        "id": "view-in-github",
        "colab_type": "text"
      },
      "source": [
        "<a href=\"https://colab.research.google.com/github/isys5002-itp/ISYS5002-2024-S2/blob/main/04_1_input_validation_Mon9AM.ipynb\" target=\"_parent\"><img src=\"https://colab.research.google.com/assets/colab-badge.svg\" alt=\"Open In Colab\"/></a>"
      ]
    },
    {
      "cell_type": "markdown",
      "id": "b5835b0c",
      "metadata": {
        "id": "b5835b0c"
      },
      "source": [
        "# Input Validation\n",
        "\n",
        "Input validation code verifies that user supplied data, such as text from the input() function, is formatted appropriately.\n",
        "\n",
        "* try/except\n",
        "* isdigit()\n",
        "* pyinputplus\n"
      ]
    },
    {
      "cell_type": "code",
      "source": [
        "salary_str = input(\"Please enter salary: \")\n",
        "salary = int(salary_str)"
      ],
      "metadata": {
        "id": "t0A1zwZbPtpO",
        "colab": {
          "base_uri": "https://localhost:8080/",
          "height": 176
        },
        "outputId": "daf7ae72-39d8-4b81-d80b-ebba0f6fc5ea"
      },
      "id": "t0A1zwZbPtpO",
      "execution_count": 3,
      "outputs": [
        {
          "name": "stdout",
          "output_type": "stream",
          "text": [
            "Please enter salary: 30000p\n"
          ]
        },
        {
          "output_type": "error",
          "ename": "ValueError",
          "evalue": "invalid literal for int() with base 10: '30000p'",
          "traceback": [
            "\u001b[0;31m---------------------------------------------------------------------------\u001b[0m",
            "\u001b[0;31mValueError\u001b[0m                                Traceback (most recent call last)",
            "\u001b[0;32m<ipython-input-3-1df772263d1c>\u001b[0m in \u001b[0;36m<cell line: 2>\u001b[0;34m()\u001b[0m\n\u001b[1;32m      1\u001b[0m \u001b[0msalary_str\u001b[0m \u001b[0;34m=\u001b[0m \u001b[0minput\u001b[0m\u001b[0;34m(\u001b[0m\u001b[0;34m\"Please enter salary: \"\u001b[0m\u001b[0;34m)\u001b[0m\u001b[0;34m\u001b[0m\u001b[0;34m\u001b[0m\u001b[0m\n\u001b[0;32m----> 2\u001b[0;31m \u001b[0msalary\u001b[0m \u001b[0;34m=\u001b[0m \u001b[0mint\u001b[0m\u001b[0;34m(\u001b[0m\u001b[0msalary_str\u001b[0m\u001b[0;34m)\u001b[0m\u001b[0;34m\u001b[0m\u001b[0;34m\u001b[0m\u001b[0m\n\u001b[0m",
            "\u001b[0;31mValueError\u001b[0m: invalid literal for int() with base 10: '30000p'"
          ]
        }
      ]
    },
    {
      "cell_type": "markdown",
      "source": [
        "## try/except\n",
        "`try/except` is a control structure in Python that is used for exception handling. It allows you to handle errors or exceptions that may occur during the execution of a block of code, so that the program can recover from the error and continue running, instead of crashing.\n",
        "\n",
        "The `try` block is used to *enclose the code that might raise an exception or an error*. If an exception occurs within the `try` block, the program jumps to the `except` block, and executes the code within it, which is designed to handle the exception.\n",
        "\n",
        "Here's the basic syntax for a `try/except` block:\n",
        "\n",
        "\n",
        "```\n",
        "try:\n",
        "    # code that may raise an exception\n",
        "except ExceptionType:\n",
        "    # code to handle the exception\n",
        "```\n",
        "\n",
        "In this example, `ExceptionType` refers to the type of exception that may be raised by the code within the `try` block. When an exception of that type occurs, the program jumps to the `except` block and executes the code within it.\n",
        "\n",
        "If an exception occurs that is not of the specified type, it will not be handled by the `except` block, and the program will terminate with an error message.\n",
        "\n",
        "`try/except` blocks can have multiple `except` blocks to handle different types of exceptions that may occur. It can also have an optional `else` block that is executed if no exceptions are raised within the `try` block.\n"
      ],
      "metadata": {
        "id": "WRX-iQ-hIwbJ"
      },
      "id": "WRX-iQ-hIwbJ"
    },
    {
      "cell_type": "markdown",
      "source": [
        "### Use `try/except` to handle an error that may occur when converting a user's input to an integer:"
      ],
      "metadata": {
        "id": "BgQWp7RRJMLk"
      },
      "id": "BgQWp7RRJMLk"
    },
    {
      "cell_type": "code",
      "source": [
        "try:\n",
        "  salary_str = input(\"Please enter salary: \")\n",
        "  salary = int(salary_str)\n",
        "except ValueError:\n",
        "  print(\"Invalid input for salary. Please key-in a numeric value for salary.\")"
      ],
      "metadata": {
        "id": "CuiSM1VmTYvW",
        "colab": {
          "base_uri": "https://localhost:8080/"
        },
        "outputId": "4708ba86-fcc4-4159-92d9-558e9fbb695c"
      },
      "id": "CuiSM1VmTYvW",
      "execution_count": 4,
      "outputs": [
        {
          "output_type": "stream",
          "name": "stdout",
          "text": [
            "Please enter salary: 30000p\n",
            "Invalid input for salary. Please key-in a numeric value for salary.\n"
          ]
        }
      ]
    },
    {
      "cell_type": "markdown",
      "source": [
        "In this example, the try block contains the code that attempts to convert the user's input to an integer using the int() function. If the user enters a string that cannot be converted to an integer, a ValueError exception is raised.\n",
        "\n",
        "The except block that follows the try block handles the ValueError exception, and prints an error message asking the user to enter a whole number for their age.\n",
        "\n",
        "Using try/except in this way ensures that the program doesn't crash if the user enters invalid input. Instead, it catches the error and executes the code in the except block to handle the error."
      ],
      "metadata": {
        "id": "xKZCTdx-JXva"
      },
      "id": "xKZCTdx-JXva"
    },
    {
      "cell_type": "markdown",
      "source": [
        "### Use a `while` loop to keep prompting the user to key-in input until they enter a valid input:"
      ],
      "metadata": {
        "id": "V0ivzQuuLz9H"
      },
      "id": "V0ivzQuuLz9H"
    },
    {
      "cell_type": "code",
      "source": [
        "# this creates an infinite lopp, meaning the code k will keep running until it encournter a 'break'\n",
        "while True:\n",
        "  try: # you put in all lines of code that you want to execute but may raise an exception\n",
        "    salary_str = input(\"Please enter salary: \")\n",
        "    salary = int(salary_str)\n",
        "    break # exit from this code\n",
        "  except ValueError: # when an exception is thrown by the code in the try block\n",
        "    print(\"Invalid input for salary. Please key-in a numeric value for salary.\")"
      ],
      "metadata": {
        "id": "PaBvbJcbLDgu",
        "colab": {
          "base_uri": "https://localhost:8080/"
        },
        "outputId": "a929d674-fb73-4da0-c900-05adb3a7005f"
      },
      "id": "PaBvbJcbLDgu",
      "execution_count": 6,
      "outputs": [
        {
          "name": "stdout",
          "output_type": "stream",
          "text": [
            "Please enter salary: 145o\n",
            "Invalid input for salary. Please key-in a numeric value for salary.\n",
            "Please enter salary: 45000\n"
          ]
        }
      ]
    },
    {
      "cell_type": "markdown",
      "id": "acc7252b",
      "metadata": {
        "id": "acc7252b"
      },
      "source": [
        "## isdigit()\n",
        "\n",
        "In Python, `isdigit()` is a method that can be called on a string object to check if all characters in the string are digits.\n",
        "\n",
        "It returns `True` if all characters in the string are digits and there is at least one character in the string, otherwise it returns False.\n",
        "\n",
        "`isdigit()` is often used to validate user input for numeric values, like checking if the user entered an integer or a floating-point number. For example, if you expect the user to enter their age as an integer, you could use `isdigit()` to ensure that the input only contains digits before converting it to an integer.\n",
        "\n",
        "### Use `isdigit()` to validate user input for an integer:"
      ]
    },
    {
      "cell_type": "code",
      "execution_count": 7,
      "id": "5f98c241",
      "metadata": {
        "id": "5f98c241",
        "colab": {
          "base_uri": "https://localhost:8080/"
        },
        "outputId": "64dfcc83-fd78-4d83-d7de-b99cd00e5e3d"
      },
      "outputs": [
        {
          "name": "stdout",
          "output_type": "stream",
          "text": [
            "Please enter salary:er45\n",
            "Invalid input for salary. Please key-in a numeric value for salary.\n",
            "Please enter salary:4567\n"
          ]
        }
      ],
      "source": [
        "while True:\n",
        "  salary = input(\"Please enter salary:\")\n",
        "  if salary.isdigit():\n",
        "    salary_int = float(salary)\n",
        "    break\n",
        "  else:\n",
        "    print(\"Invalid input for salary. Please key-in a numeric value for salary.\")"
      ]
    },
    {
      "cell_type": "markdown",
      "metadata": {
        "id": "e5jZ_Ya9P8Tl"
      },
      "source": [
        "## Module: PyInputPlus\n",
        "\n",
        "`pyinputplus` is a Python module that provides input validation functions to simplify the process of getting user input from the command line. It can handle various types of input validation, such as integers, floating-point numbers, dates and times, email addresses, and more. It also provides more robust error handling than the built-in `input()` function in Python.\n",
        "\n",
        "PyInputPlus Python Documentation (https://pypi.org/project/PyInputPlus/)"
      ],
      "id": "e5jZ_Ya9P8Tl"
    },
    {
      "cell_type": "code",
      "execution_count": 8,
      "metadata": {
        "id": "gNVtv7X8P8Tm",
        "colab": {
          "base_uri": "https://localhost:8080/"
        },
        "outputId": "92371b8c-4de5-4b10-d9b0-85838db0cf33"
      },
      "outputs": [
        {
          "output_type": "stream",
          "name": "stdout",
          "text": [
            "Collecting PyInputPlus\n",
            "  Downloading PyInputPlus-0.2.12.tar.gz (20 kB)\n",
            "  Installing build dependencies ... \u001b[?25l\u001b[?25hdone\n",
            "  Getting requirements to build wheel ... \u001b[?25l\u001b[?25hdone\n",
            "  Preparing metadata (pyproject.toml) ... \u001b[?25l\u001b[?25hdone\n",
            "Collecting pysimplevalidate>=0.2.7 (from PyInputPlus)\n",
            "  Downloading PySimpleValidate-0.2.12.tar.gz (22 kB)\n",
            "  Installing build dependencies ... \u001b[?25l\u001b[?25hdone\n",
            "  Getting requirements to build wheel ... \u001b[?25l\u001b[?25hdone\n",
            "  Preparing metadata (pyproject.toml) ... \u001b[?25l\u001b[?25hdone\n",
            "Collecting stdiomask>=0.0.3 (from PyInputPlus)\n",
            "  Downloading stdiomask-0.0.6.tar.gz (3.6 kB)\n",
            "  Installing build dependencies ... \u001b[?25l\u001b[?25hdone\n",
            "  Getting requirements to build wheel ... \u001b[?25l\u001b[?25hdone\n",
            "  Preparing metadata (pyproject.toml) ... \u001b[?25l\u001b[?25hdone\n",
            "Building wheels for collected packages: PyInputPlus, pysimplevalidate, stdiomask\n",
            "  Building wheel for PyInputPlus (pyproject.toml) ... \u001b[?25l\u001b[?25hdone\n",
            "  Created wheel for PyInputPlus: filename=PyInputPlus-0.2.12-py3-none-any.whl size=11298 sha256=3fc04c902ad2c9524b66495ed99f9ba60f8347bfaf4f4422a88b3fa0166473c5\n",
            "  Stored in directory: /root/.cache/pip/wheels/13/ec/a5/f780c8008b74e885aada43369ebf4d350edfd12bb5909ccb23\n",
            "  Building wheel for pysimplevalidate (pyproject.toml) ... \u001b[?25l\u001b[?25hdone\n",
            "  Created wheel for pysimplevalidate: filename=PySimpleValidate-0.2.12-py3-none-any.whl size=16177 sha256=087206d74290285584d8cc0d830b17babf64c27618fdbd6c0d76afb664d278ab\n",
            "  Stored in directory: /root/.cache/pip/wheels/64/29/c9/2ee861e5b0775e289013b7c7157e0bdcea3a1b844f835b2eb8\n",
            "  Building wheel for stdiomask (pyproject.toml) ... \u001b[?25l\u001b[?25hdone\n",
            "  Created wheel for stdiomask: filename=stdiomask-0.0.6-py3-none-any.whl size=3306 sha256=4ecd30ef128eb167d389c002569a281935806f5092ead27958d170e7299d27b1\n",
            "  Stored in directory: /root/.cache/pip/wheels/6c/00/4b/0715696f101d7376f67a83cf3d545feb8c241eeee75b80bb6f\n",
            "Successfully built PyInputPlus pysimplevalidate stdiomask\n",
            "Installing collected packages: stdiomask, pysimplevalidate, PyInputPlus\n",
            "Successfully installed PyInputPlus-0.2.12 pysimplevalidate-0.2.12 stdiomask-0.0.6\n"
          ]
        }
      ],
      "source": [
        "# install the module\n",
        "!pip install PyInputPlus\n"
      ],
      "id": "gNVtv7X8P8Tm"
    },
    {
      "cell_type": "code",
      "execution_count": 10,
      "id": "9a52f49e",
      "metadata": {
        "id": "9a52f49e",
        "colab": {
          "base_uri": "https://localhost:8080/"
        },
        "outputId": "7a7958f8-2589-489a-9dd8-fc8742e8644c"
      },
      "outputs": [
        {
          "output_type": "stream",
          "name": "stdout",
          "text": [
            "Please enter salary: 23er\n",
            "'23er' is not a number.\n",
            "Please enter salary: 2345r\n",
            "'2345r' is not a number.\n",
            "Please enter salary: w23456\n",
            "'w23456' is not a number.\n",
            "Please enter salary: 30000\n",
            "Salary is 30000\n"
          ]
        }
      ],
      "source": [
        "import pyinputplus as pyip\n",
        "\n",
        "salary = pyip.inputNum(\"Please enter salary: \")\n",
        "print(f\"Salary is {salary}\")"
      ]
    },
    {
      "cell_type": "code",
      "execution_count": null,
      "id": "28ee4733",
      "metadata": {
        "id": "28ee4733"
      },
      "outputs": [],
      "source": []
    }
  ],
  "metadata": {
    "kernelspec": {
      "display_name": "Python 3 (ipykernel)",
      "language": "python",
      "name": "python3"
    },
    "language_info": {
      "codemirror_mode": {
        "name": "ipython",
        "version": 3
      },
      "file_extension": ".py",
      "mimetype": "text/x-python",
      "name": "python",
      "nbconvert_exporter": "python",
      "pygments_lexer": "ipython3",
      "version": "3.9.7"
    },
    "colab": {
      "provenance": [],
      "include_colab_link": true
    }
  },
  "nbformat": 4,
  "nbformat_minor": 5
}