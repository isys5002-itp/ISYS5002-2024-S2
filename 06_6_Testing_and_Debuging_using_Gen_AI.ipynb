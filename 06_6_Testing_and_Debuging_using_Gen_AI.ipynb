{
  "nbformat": 4,
  "nbformat_minor": 0,
  "metadata": {
    "colab": {
      "provenance": [],
      "include_colab_link": true
    },
    "kernelspec": {
      "name": "python3",
      "display_name": "Python 3"
    },
    "language_info": {
      "name": "python"
    }
  },
  "cells": [
    {
      "cell_type": "markdown",
      "metadata": {
        "id": "view-in-github",
        "colab_type": "text"
      },
      "source": [
        "<a href=\"https://colab.research.google.com/github/isys5002-itp/ISYS5002-2024-S2/blob/main/06_6_Testing_and_Debuging_using_Gen_AI.ipynb\" target=\"_parent\"><img src=\"https://colab.research.google.com/assets/colab-badge.svg\" alt=\"Open In Colab\"/></a>"
      ]
    },
    {
      "cell_type": "markdown",
      "source": [
        "## Testing and Debuging\n",
        "\n",
        "In software development, the goals are functionality and error-free code.\n",
        "\n",
        "Testing and debugging are key to achieving reliable software.\n",
        "\n",
        "Generative AI offers new tools and methods, improving the efficiency of error detection and correction.\n",
        "\n",
        "### What is Debugging?\n",
        "Debugging is the process of identifying, analyzing, and removing errors from a computer program. It involves a detailed examination of the code to discover why it does not behave as expected. Debugging is a critical skill in software development, as it allows developers to quickly pinpoint bugs and ensure the application runs smoothly. The process typically follows these steps:\n",
        "\n",
        "* **Identifying the Problem:** Recognizing that there is a bug based on the symptoms observed.\n",
        "* **Isolating the Source:** Using various strategies to narrow down the location of the bug in the code.\n",
        "* **Correcting the Issue:** Modifying the code to fix the bug.\n",
        "Testing: Verifying that the fix resolves the bug without introducing new issues.\n",
        "\n",
        "### What is Testing?\n",
        "Testing in software development is a systematic activity where the goal is to identify any errors, gaps, or missing requirements in contrast to the actual requirements. It involves executing a system or application to evaluate one or more properties of interest. Testing is crucial for ensuring that the software meets its specifications and performs as intended. It can be broadly categorized into three types:\n",
        "\n",
        "* **Unit Testing:** Focuses on testing individual components or \"units\" of a software in isolation from the rest of the application. This ensures that each part functions correctly on its own.\n",
        "* **Integration Testing:** This type of testing examines the interactions between different units or components of a software application. The goal is to identify any issues in the interfacing between modules.\n",
        "* **System Testing:** A holistic testing approach that evaluates the complete and integrated software product to ensure that it complies with the specified requirements.\n",
        "\n"
      ],
      "metadata": {
        "id": "C8N2pEAHPMk5"
      }
    },
    {
      "cell_type": "markdown",
      "source": [
        "## **Testing and Debuging using Gen AI**\n",
        "Gen-AI could analyze the function's code, including parameter types and operation, to create a comprehensive set of test examples that cover a wide range of scenarios, including edge cases that might not be immediately obvious to a developer/tester.\n",
        "\n",
        "### Generative AI transforms testing and debugging by:\n",
        "\n",
        "* **Automated Test Generation:** Gen AI can automatically generate test cases based on the specifications of the software, significantly reducing the manual effort involved in test creation.\n",
        "* **Identifying Potential Failure Points:** Through analysis of the codebase, Gen AI models can predict where bugs are likely to occur, allowing developers\n",
        "to focus their testing and debugging efforts more strategically.\n",
        "* **Suggesting Fixes:** Beyond just identifying bugs, some Gen AI tools can suggest potential fixes to identified issues, speeding up the debugging process.\n",
        "\n",
        "Incorporating Gen AI into testing and debugging practices offers the promise of making these processes more efficient and effective, allowing developers to produce higher quality software at a faster pace."
      ],
      "metadata": {
        "id": "z05P1fNSlgp1"
      }
    },
    {
      "cell_type": "markdown",
      "source": [
        "## Debugging using 'print' statements\n",
        "\n",
        "Debugging with print statements is one of the simplest and most straightforward techniques in programming. It involves inserting print commands at various points in your code to display values of variables, execution flow, or to signal the reaching of certain code blocks. This method can quickly provide insights into the behavior of your code and help identify where things are not working as expected.\n",
        "\n",
        "**Debugging with `print` Strategy**\n",
        "1.  **Code Review for Debug Points**\n",
        "    *   Scan the code, identify how it flows, and note variable changes.\n",
        "2.  **Pinpointing Debug Locations**\n",
        "    *   Find where print statements could shed light on execution insights. Suggest locations for monitoring variable changes and logical progress.\n",
        "3.  **Print Statement Recommendations**\n",
        "    *   Propose specific print statements, highlighting variables and context for each critical debug point.\n",
        "4.  **Justifying Print Locations**\n",
        "    *   Clarify the reasoning behind each print location to enhance debugging effectiveness."
      ],
      "metadata": {
        "id": "yF9ikXe_WdZ4"
      }
    },
    {
      "cell_type": "code",
      "execution_count": null,
      "metadata": {
        "id": "jvxrdJT3PGHm"
      },
      "outputs": [],
      "source": [
        "def calculate_average(numbers):\n",
        "    total_sum = 0\n",
        "    for number in numbers:\n",
        "        total_sum += number\n",
        "    average = total_sum / len(numbers)\n",
        "    return average\n",
        "\n",
        "# Sample input\n",
        "numbers_list = [2, 4, 6, 8, 10]\n",
        "print(f\"The average is: {calculate_average(numbers_list)}\")\n"
      ]
    },
    {
      "cell_type": "markdown",
      "source": [
        "**Activity - Try the following Gen AI prompts:**\n",
        "* Review the code to understand its logic and flow.\n",
        "* Find key spots for print statements to clarify how the code functions.\n",
        "* Suggest print statements for debugging and explain the reasons for their placement.\n",
        "\n",
        "Did you have any other prompts?\n"
      ],
      "metadata": {
        "id": "9XLcan4gYgOH"
      }
    },
    {
      "cell_type": "markdown",
      "source": [
        "## Breakpoint Identification and Debugging with pdb"
      ],
      "metadata": {
        "id": "smLvHA0ZnMR8"
      }
    },
    {
      "cell_type": "code",
      "source": [
        "def find_largest_prime(start, end):\n",
        "    def is_prime(n):\n",
        "        if n <= 1:\n",
        "            return False\n",
        "        for i in range(2, int(n**0.5) + 1):\n",
        "            if n % i == 0:\n",
        "                return False\n",
        "        return True\n",
        "\n",
        "    largest_prime = None\n",
        "    for number in range(end, start - 1, -1):\n",
        "        if is_prime(number):\n",
        "            largest_prime = number\n",
        "            break\n",
        "    return largest_prime\n"
      ],
      "metadata": {
        "id": "OMYQb22zmDNc"
      },
      "execution_count": null,
      "outputs": []
    },
    {
      "cell_type": "markdown",
      "source": [
        "**Activity - Develop AI prompts for each of the following tasks and conduct experiments with these prompts:**\n",
        "1. Understand the Function\n",
        "2. Identify Logical Segments\n",
        "3. Suggest Breakpoints\n",
        "4. Explain Suggestions\n",
        "\n"
      ],
      "metadata": {
        "id": "ivu_ml1WnbGb"
      }
    },
    {
      "cell_type": "markdown",
      "source": [
        "## For the sections below, please use the following code:\n",
        "\n",
        "----------------\n",
        "\n"
      ],
      "metadata": {
        "id": "nPOcP85Fd5-R"
      }
    },
    {
      "cell_type": "code",
      "source": [
        "def calculate_bmi_category(weight, height):\n",
        "    bmi = weight / (height ** 2)\n",
        "    if bmi < 18.5:\n",
        "        return \"Underweight\"\n",
        "    elif 18.5 <= bmi < 24.9:\n",
        "        return \"Normal weight\"\n",
        "    elif 24.9 <= bmi < 29.9:\n",
        "        return \"Overweight\"\n",
        "    else:\n",
        "        return \"Obesity\"\n"
      ],
      "metadata": {
        "id": "364yXrMXvVLH"
      },
      "execution_count": null,
      "outputs": []
    },
    {
      "cell_type": "markdown",
      "source": [
        "## Testing with Assertions\n",
        "\n",
        "**Python `assert` Statement**\n",
        "\n",
        "**Activity:**\n",
        "1. Write some assert statements for this function to test various inputs and their expected outputs\n",
        "2. Use Gen AI to generate assert statements for given function inputs and output - Develop and try out AI prompts."
      ],
      "metadata": {
        "id": "AzUy__6rq06h"
      }
    },
    {
      "cell_type": "code",
      "source": [],
      "metadata": {
        "id": "kBeMG2Nsea8p"
      },
      "execution_count": null,
      "outputs": []
    },
    {
      "cell_type": "markdown",
      "source": [
        "### Structuring Tests with Test Tables\n",
        "\n",
        "**Activity:** Ask Gen-AI,\n",
        "1.  How to organise tests systematically.\n",
        "2.  Create test tables based on function specifications."
      ],
      "metadata": {
        "id": "0Sw5GCxsEu53"
      }
    },
    {
      "cell_type": "code",
      "source": [],
      "metadata": {
        "id": "P8jvXhKYdUIJ"
      },
      "execution_count": null,
      "outputs": []
    },
    {
      "cell_type": "code",
      "source": [],
      "metadata": {
        "id": "0rXoMT9zfNtp"
      },
      "execution_count": null,
      "outputs": []
    },
    {
      "cell_type": "markdown",
      "source": [
        "### Handling Invalid Test Cases\n",
        "\n",
        "**Activity:** Ask Gen-AI for\n",
        "*   strategies for dealing with invalid inputs.\n",
        "*   additional test cases to cover edge conditions.\n"
      ],
      "metadata": {
        "id": "LQGf6UYRdRY4"
      }
    },
    {
      "cell_type": "code",
      "source": [],
      "metadata": {
        "id": "-bo2R_IDfMVh"
      },
      "execution_count": null,
      "outputs": []
    },
    {
      "cell_type": "code",
      "source": [],
      "metadata": {
        "id": "UbxmasQKfNfZ"
      },
      "execution_count": null,
      "outputs": []
    },
    {
      "cell_type": "markdown",
      "source": [
        "Doctest Using AI\n",
        "----------------\n",
        "\n",
        "The `doctest` module searches for pieces of text that look like interactive Python sessions in docstrings and then executes those sessions to verify they work exactly as shown. It's a straightforward way to both document and test your functions.\n",
        "\n",
        "### Introduction to Doctest\n",
        "\n",
        "Doctests are an excellent way to ensure that your code examples in docstrings remain accurate and functional as your codebase evolves. Here’s a simple example of how doctest can be used:\n"
      ],
      "metadata": {
        "id": "e9qUQ89ZvVlp"
      }
    },
    {
      "cell_type": "code",
      "source": [
        "def add(a, b):\n",
        "    \"\"\"\n",
        "    Adds two numbers and returns the sum.\n",
        "\n",
        "    >>> add(2, 3)\n",
        "    5\n",
        "    >>> add('hello', 'world')\n",
        "    'hello world'\n",
        "    \"\"\"\n",
        "    return a + b\n",
        "\n",
        "import doctest\n",
        "doctest.testmod()"
      ],
      "metadata": {
        "id": "urnqVMvvwJbo"
      },
      "execution_count": null,
      "outputs": []
    },
    {
      "cell_type": "markdown",
      "source": [
        "**Activity**\n",
        "* Run the code provided above.\n",
        "* Check if all tests passed. If any tests failed, explain why they failed. For clarification, ask Gen-AI for an explanation.\n",
        "* Ask for additional test cases from Gen-AI. Incorporate these test cases into the docstring and run the tests again."
      ],
      "metadata": {
        "id": "lr9IOI-9mavb"
      }
    },
    {
      "cell_type": "code",
      "source": [],
      "metadata": {
        "id": "9BgNHauWj7lz"
      },
      "execution_count": null,
      "outputs": []
    }
  ]
}