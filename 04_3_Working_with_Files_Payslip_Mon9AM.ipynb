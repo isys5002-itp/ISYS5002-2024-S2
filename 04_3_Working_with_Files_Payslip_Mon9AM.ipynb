{
  "cells": [
    {
      "cell_type": "markdown",
      "metadata": {
        "id": "view-in-github",
        "colab_type": "text"
      },
      "source": [
        "<a href=\"https://colab.research.google.com/github/isys5002-itp/ISYS5002-2024-S2/blob/main/04_3_Working_with_Files_Payslip_Mon9AM.ipynb\" target=\"_parent\"><img src=\"https://colab.research.google.com/assets/colab-badge.svg\" alt=\"Open In Colab\"/></a>"
      ]
    },
    {
      "cell_type": "markdown",
      "metadata": {
        "id": "b5IJBQVMWWWZ"
      },
      "source": [
        "# **File Input & Output**\n",
        "For program to retain data between the times it is run, you must save the data\n",
        "- Data is saved to a file, typically on computer disk\n",
        "- Saved data can be retrieved and used at a later time\n",
        "\n",
        "“***Writing data to***”: saving data on a file\n",
        "<br>***Output file***: a file that data is written to\n",
        "<br>*“**Reading data from**”*: process of retrieving data from a file\n",
        "<br>***Input file***: a file from which data is read\n",
        "\n",
        "Three steps when a program uses a file\n",
        "- Open the file\n",
        "- Process the file\n",
        "- Close the file\n",
        "\n",
        "**Types of files**\n",
        "<br>\n",
        "- A **text file** is a sequence of characters\n",
        "- A **binary file** (for images, videos and more) is a sequence of bytes\n",
        "- First character in a text file or byte in a binary file is located at position 0\n",
        "  - In a file of n characters or bytes, the highest position number is n – 1 (**end-of-file marker**)\n",
        "- For each file you **open**, Python creates a **file object** that you’ll use to interact with the file\n",
        "\n",
        "\n",
        "**Comma-separated values (CSV) file**\n",
        "- CSV files are the most common format used for importing and exporting data from spreadsheets and databases.\n",
        "- CSV files are text files that have delimiters. A delimiter is a character that separates data values.\n",
        "\n"
      ]
    },
    {
      "cell_type": "markdown",
      "source": [
        "# CSV File"
      ],
      "metadata": {
        "id": "BieUazgSLMeI"
      }
    },
    {
      "cell_type": "markdown",
      "metadata": {
        "id": "KiOs3fgB9CD8"
      },
      "source": [
        "## Reading and Writing CSV file\n",
        "\n",
        "Text files work fine when we are referencing small amounts of information, but when we use larger amounts of data, adding structure helps in organizing and retrieving values.\n",
        "\n",
        "One common format found in business and social sciences alike (as well as any field concerned with data science) is the comma-separated values (CSV) format.\n",
        "\n",
        "**CSV files** are the most common format used for importing and exporting data from spreadsheets and databases.\n",
        "\n",
        "CSV files are text files that have delimiters.  A **delimiter** is a character that separates data values.\n",
        "\n",
        "You can explore CSV files in spreadsheet software (such as Microsoft Excel), which will remove delimiters (usually commas) and store data values in separate cells.\n",
        "\n",
        "\n",
        "One of the benefits of importing data files such as CSV files is the ability to read in a lot of data at once, parsing the data so your code can access individual values within the data. **By default, CSV files use commas (“,”) to separate data values**.\n",
        "\n"
      ]
    },
    {
      "cell_type": "markdown",
      "source": [
        "Imports the built-in **`csv` module** for working with CSV (Comma Separated Values) files, which are a common file format used for storing tabular data."
      ],
      "metadata": {
        "id": "W8IeHiwhoKPV"
      }
    },
    {
      "cell_type": "code",
      "source": [
        "#import csv module\n",
        "import csv"
      ],
      "metadata": {
        "id": "HzELdjjOlqYW"
      },
      "execution_count": 2,
      "outputs": []
    },
    {
      "cell_type": "markdown",
      "source": [
        "## Writing data to file"
      ],
      "metadata": {
        "id": "gdPyuSMuGqlT"
      }
    },
    {
      "cell_type": "code",
      "source": [
        "#Writing to a CSV file\n",
        "\n",
        "#open file and write records\n",
        "with open(\"sales_data.csv\", 'w') as sales_data:\n",
        "\n",
        "  '''\n",
        "  Creates a writer object which will convert the user’s data into\n",
        "  delimited strings on the given file-like object (payslip_data).\n",
        "  '''\n",
        "  writer = csv.writer(sales_data) # 'writer' object write data to the CSV file opened\n",
        "\n",
        "  writer.writerow(['name', 'salary', 'sales'])\n",
        "\n",
        "  writer.writerow(['Ram', '25000', '20000'])\n",
        "  writer.writerow(['Radha', '30000', '40000'])\n",
        "\n",
        "  # continue for for three more data\n",
        "  writer.writerow(['Rial', '35000', '40000'])\n",
        "  writer.writerow(['Ren', '40000', '30000'])\n",
        "  writer.writerow(['Ronny', '45000', '35000'])\n",
        "\n"
      ],
      "metadata": {
        "id": "QHHhkU2aD6hU"
      },
      "execution_count": 4,
      "outputs": []
    },
    {
      "cell_type": "markdown",
      "source": [
        "### Generalise it - User Input Storage in File\n",
        "\n",
        "Take input form user and write to file"
      ],
      "metadata": {
        "id": "4uhKJwVJGfEh"
      }
    },
    {
      "cell_type": "code",
      "source": [
        "\n",
        "with open(\"payslip_data.csv\", 'w') as payslip_data:\n",
        "  writer = csv.writer(payslip_data) # 'writer' object write data to the CSV file opened\n",
        "  writer.writerow(['name', 'salary', 'sales', 'comm_rate'])\n",
        "\n",
        "  # get user input - name\n",
        "  name = input(\"Please enter name: \")\n",
        "\n",
        "  # get user input for salary\n",
        "  salary = int(input(\"Please enter salary: \"))\n",
        "\n",
        "  # get user input for sales\n",
        "  sales = int(input(\"Please enter sales: \"))\n",
        "\n",
        "  # get user input for commission\n",
        "  comm_rate = float(input(\"Please enter commission rate: \"))\n",
        "\n",
        "  # write user data to file\n",
        "  writer.writerow([name, salary, sales, comm_rate])\n",
        "\n",
        "\n"
      ],
      "metadata": {
        "id": "y9nnaTCQJABT",
        "colab": {
          "base_uri": "https://localhost:8080/"
        },
        "outputId": "ac31206c-e6d0-40a6-fcf5-13190ba34c22"
      },
      "execution_count": 6,
      "outputs": [
        {
          "name": "stdout",
          "output_type": "stream",
          "text": [
            "Please enter name: Sunny\n",
            "Please enter salary: 40000\n",
            "Please enter sales: 35\n",
            "Please enter commission rate: 2\n"
          ]
        }
      ]
    },
    {
      "cell_type": "markdown",
      "source": [
        "### Dynamic Data Collection\n",
        "Modify the code to prompt the user to decide if they want to continue."
      ],
      "metadata": {
        "id": "66kVOTaSJUUT"
      }
    },
    {
      "cell_type": "markdown",
      "source": [
        "**Gen AI prompt & response**"
      ],
      "metadata": {
        "id": "hneAfxgra6ks"
      }
    },
    {
      "cell_type": "code",
      "source": [
        "# prompt: modify the code above to prompt user to decide if they want to continue\n",
        "\n",
        "import csv\n",
        "\n",
        "with open(\"payslip_data.csv\", 'w') as payslip_data:\n",
        "  writer = csv.writer(payslip_data)\n",
        "  writer.writerow(['name', 'salary', 'sales', 'comm_rate'])\n",
        "\n",
        "  continue_input = True\n",
        "  while continue_input:\n",
        "    # get user input - name\n",
        "    name = input(\"Please enter name: \")\n",
        "\n",
        "    # get user input for salary\n",
        "    salary = int(input(\"Please enter salary: \"))\n",
        "\n",
        "    # get user input for sales\n",
        "    sales = int(input(\"Please enter sales: \"))\n",
        "\n",
        "    # get user input for commission\n",
        "    comm_rate = float(input(\"Please enter commission rate: \"))\n",
        "\n",
        "    # write user data to file\n",
        "    writer.writerow([name, salary, sales, comm_rate])\n",
        "\n",
        "    # Ask the user if they want to continue\n",
        "    choice = input(\"Do you want to enter another record? (yes/no): \")\n",
        "    if choice.lower() != 'yes':\n",
        "      continue_input = False\n"
      ],
      "metadata": {
        "id": "hS4CTcxiFKLU",
        "colab": {
          "base_uri": "https://localhost:8080/"
        },
        "outputId": "c30db696-56ad-4fc2-e3cd-be6efa33ff9a"
      },
      "execution_count": 8,
      "outputs": [
        {
          "name": "stdout",
          "output_type": "stream",
          "text": [
            "Please enter name: e\n",
            "Please enter salary: 333\n",
            "Please enter sales: 333\n",
            "Please enter commission rate: 3\n",
            "Do you want to enter another record? (yes/no): y\n"
          ]
        }
      ]
    },
    {
      "cell_type": "markdown",
      "source": [
        "**Gen AI Response Effectiveness**\n",
        "```\n",
        "    choice = input(\"Do you want to enter another record? (yes/no): \")\n",
        "    if choice.lower() != 'yes':\n",
        "      continue_input = False\n",
        "  ```\n",
        "  it is restrictive in the sense that for yes, it does not accept y, Y.\n",
        "\n",
        "  to make it more user versatile and flexible, pyinputplus.inputYesNo() function to check for yes or no.\n",
        "\n",
        "**Modification Needed/Implemented**"
      ],
      "metadata": {
        "id": "XzA5L1bDb3Sr"
      }
    },
    {
      "cell_type": "code",
      "source": [
        "!pip install pyinputplus"
      ],
      "metadata": {
        "colab": {
          "base_uri": "https://localhost:8080/"
        },
        "id": "b_hI2hjhcX9u",
        "outputId": "20c729f7-7f78-4e91-c0e8-ca16ca2dc245"
      },
      "execution_count": 9,
      "outputs": [
        {
          "output_type": "stream",
          "name": "stdout",
          "text": [
            "Collecting pyinputplus\n",
            "  Downloading PyInputPlus-0.2.12.tar.gz (20 kB)\n",
            "  Installing build dependencies ... \u001b[?25l\u001b[?25hdone\n",
            "  Getting requirements to build wheel ... \u001b[?25l\u001b[?25hdone\n",
            "  Preparing metadata (pyproject.toml) ... \u001b[?25l\u001b[?25hdone\n",
            "Collecting pysimplevalidate>=0.2.7 (from pyinputplus)\n",
            "  Downloading PySimpleValidate-0.2.12.tar.gz (22 kB)\n",
            "  Installing build dependencies ... \u001b[?25l\u001b[?25hdone\n",
            "  Getting requirements to build wheel ... \u001b[?25l\u001b[?25hdone\n",
            "  Preparing metadata (pyproject.toml) ... \u001b[?25l\u001b[?25hdone\n",
            "Collecting stdiomask>=0.0.3 (from pyinputplus)\n",
            "  Downloading stdiomask-0.0.6.tar.gz (3.6 kB)\n",
            "  Installing build dependencies ... \u001b[?25l\u001b[?25hdone\n",
            "  Getting requirements to build wheel ... \u001b[?25l\u001b[?25hdone\n",
            "  Preparing metadata (pyproject.toml) ... \u001b[?25l\u001b[?25hdone\n",
            "Building wheels for collected packages: pyinputplus, pysimplevalidate, stdiomask\n",
            "  Building wheel for pyinputplus (pyproject.toml) ... \u001b[?25l\u001b[?25hdone\n",
            "  Created wheel for pyinputplus: filename=PyInputPlus-0.2.12-py3-none-any.whl size=11298 sha256=248d84af60c4601b2c0ae6fe6728bae8f5ed71b2ab401fd21e36ff96d1852243\n",
            "  Stored in directory: /root/.cache/pip/wheels/13/ec/a5/f780c8008b74e885aada43369ebf4d350edfd12bb5909ccb23\n",
            "  Building wheel for pysimplevalidate (pyproject.toml) ... \u001b[?25l\u001b[?25hdone\n",
            "  Created wheel for pysimplevalidate: filename=PySimpleValidate-0.2.12-py3-none-any.whl size=16177 sha256=d2917cb727127c2c769f3036534a4ba6543350c221ce41492e27fd15c14b49eb\n",
            "  Stored in directory: /root/.cache/pip/wheels/64/29/c9/2ee861e5b0775e289013b7c7157e0bdcea3a1b844f835b2eb8\n",
            "  Building wheel for stdiomask (pyproject.toml) ... \u001b[?25l\u001b[?25hdone\n",
            "  Created wheel for stdiomask: filename=stdiomask-0.0.6-py3-none-any.whl size=3306 sha256=436469ab4c7fd02ac39efd32231339b2b54d5d34b651631e4735dc9ee1b4c0c6\n",
            "  Stored in directory: /root/.cache/pip/wheels/6c/00/4b/0715696f101d7376f67a83cf3d545feb8c241eeee75b80bb6f\n",
            "Successfully built pyinputplus pysimplevalidate stdiomask\n",
            "Installing collected packages: stdiomask, pysimplevalidate, pyinputplus\n",
            "Successfully installed pyinputplus-0.2.12 pysimplevalidate-0.2.12 stdiomask-0.0.6\n"
          ]
        }
      ]
    },
    {
      "cell_type": "code",
      "source": [
        "import csv\n",
        "import pyinputplus as pyip\n",
        "\n",
        "with open(\"payslip_data.csv\", 'w') as payslip_data:\n",
        "  writer = csv.writer(payslip_data)\n",
        "  writer.writerow(['name', 'salary', 'sales', 'comm_rate'])\n",
        "\n",
        "  continue_input = True\n",
        "  while continue_input:\n",
        "    # get user input - name\n",
        "    name = input(\"Please enter name: \")\n",
        "\n",
        "    # get user input for salary\n",
        "    salary = int(input(\"Please enter salary: \"))\n",
        "\n",
        "    # get user input for sales\n",
        "    sales = int(input(\"Please enter sales: \"))\n",
        "\n",
        "    # get user input for commission\n",
        "    comm_rate = float(input(\"Please enter commission rate: \"))\n",
        "\n",
        "    # write user data to file\n",
        "    writer.writerow([name, salary, sales, comm_rate])\n",
        "\n",
        "    # Ask the user if they want to continue\n",
        "    choice = pyip.inputYesNo(\"Do you want to enter another record? (yes/no): \")\n",
        "    if choice.lower() != 'yes':\n",
        "      continue_input = False"
      ],
      "metadata": {
        "colab": {
          "base_uri": "https://localhost:8080/"
        },
        "id": "28aUEKWkcUZG",
        "outputId": "616f8f73-575d-45a7-b135-484409807d73"
      },
      "execution_count": 10,
      "outputs": [
        {
          "name": "stdout",
          "output_type": "stream",
          "text": [
            "Please enter name: r\n",
            "Please enter salary: 3334\n",
            "Please enter sales: 444\n",
            "Please enter commission rate: 2\n",
            "Do you want to enter another record? (yes/no): y\n",
            "Please enter name: rrr\n",
            "Please enter salary: 454\n",
            "Please enter sales: 33\n",
            "Please enter commission rate: 2\n",
            "Do you want to enter another record? (yes/no): Y\n",
            "Please enter name: r\n",
            "Please enter salary: 4444\n",
            "Please enter sales: 44\n",
            "Please enter commission rate: 3\n",
            "Do you want to enter another record? (yes/no): N\n"
          ]
        }
      ]
    },
    {
      "cell_type": "markdown",
      "source": [
        "## Reading data from file"
      ],
      "metadata": {
        "id": "n5ezYXDPGxMK"
      }
    },
    {
      "cell_type": "code",
      "source": [
        "with open('sales_data.csv', 'r') as file:\n",
        "    csvreader = csv.reader(file)\n",
        "\n",
        "    for row in csvreader:\n",
        "        print(row) # print each row in the file\n"
      ],
      "metadata": {
        "id": "Uqb_T9GyyiQ7",
        "colab": {
          "base_uri": "https://localhost:8080/"
        },
        "outputId": "6d930977-ecf6-4c5a-9a94-60db89393af2"
      },
      "execution_count": 11,
      "outputs": [
        {
          "output_type": "stream",
          "name": "stdout",
          "text": [
            "['name', 'salary', 'sales']\n",
            "['Ram', '25000', '20000']\n",
            "['Radha', '30000', '40000']\n",
            "['Rial', '35000', '40000']\n",
            "['Ren', '40000', '30000']\n",
            "['Ronny', '45000', '35000']\n"
          ]
        }
      ]
    },
    {
      "cell_type": "code",
      "source": [
        "# remove the header\n",
        "with open('sales_data.csv', 'r') as file:\n",
        "    csvreader = csv.reader(file)\n",
        "    next(csvreader)  # Skip the header row\n",
        "\n",
        "    for row in csvreader:\n",
        "        print(row) # print each row in the file"
      ],
      "metadata": {
        "id": "SusT2sSN6WQK",
        "colab": {
          "base_uri": "https://localhost:8080/"
        },
        "outputId": "116c8fb3-d039-486a-f2d4-e72afc08cacb"
      },
      "execution_count": 12,
      "outputs": [
        {
          "output_type": "stream",
          "name": "stdout",
          "text": [
            "['Ram', '25000', '20000']\n",
            "['Radha', '30000', '40000']\n",
            "['Rial', '35000', '40000']\n",
            "['Ren', '40000', '30000']\n",
            "['Ronny', '45000', '35000']\n"
          ]
        }
      ]
    },
    {
      "cell_type": "markdown",
      "source": [
        "### File Data Reading and Processing"
      ],
      "metadata": {
        "id": "88ulKsDaG2qr"
      }
    },
    {
      "cell_type": "code",
      "source": [
        "import csv\n",
        "\n",
        "names = []\n",
        "sales = []\n",
        "\n",
        "# Read data from the CSV file\n",
        "with open('sales_data.csv', 'r') as file:\n",
        "    reader = csv.reader(file)\n",
        "    next(reader)  # Skip the header row\n",
        "    for row in reader:\n",
        "        names.append(row[0])  # Name is in the first column\n",
        "        sales.append(int(row[2]))  # Sales are in the third column\n",
        "\n",
        "print(names)\n",
        "print(sales)\n"
      ],
      "metadata": {
        "id": "cOlKHMF_0jUq",
        "colab": {
          "base_uri": "https://localhost:8080/"
        },
        "outputId": "4751f189-7deb-4705-dbb1-219c792e6ea0"
      },
      "execution_count": 13,
      "outputs": [
        {
          "output_type": "stream",
          "name": "stdout",
          "text": [
            "['Ram', 'Radha', 'Rial', 'Ren', 'Ronny']\n",
            "[20000, 40000, 40000, 30000, 35000]\n"
          ]
        }
      ]
    },
    {
      "cell_type": "markdown",
      "source": [
        "### Plotting graph\n",
        "\n",
        "https://python-graph-gallery.com/\n",
        "\n",
        "https://matplotlib.org/stable/plot_types/index.html\n"
      ],
      "metadata": {
        "id": "tRGjfkR7Jm74"
      }
    },
    {
      "cell_type": "code",
      "source": [
        "import matplotlib.pyplot as plt\n",
        "\n",
        "# Plotting the graph\n",
        "plt.figure(figsize=(5, 5))  # Set the figure size\n",
        "plt.bar(names, sales, color='blue')\n",
        "plt.xlabel('Staff Name')\n",
        "plt.ylabel('Weekly Sales')\n",
        "plt.title('Weeky Sales by Staff')\n",
        "plt.xticks(rotation=90)  # Rotate names for better visibility\n",
        "plt.show()"
      ],
      "metadata": {
        "id": "fNKqKnCr03Hh",
        "colab": {
          "base_uri": "https://localhost:8080/",
          "height": 517
        },
        "outputId": "1f1d5a4a-e2ae-42e1-c8b3-9587de86daab"
      },
      "execution_count": 16,
      "outputs": [
        {
          "output_type": "display_data",
          "data": {
            "text/plain": [
              "<Figure size 500x500 with 1 Axes>"
            ],
            "image/png": "[encoded data removed]"
          },
          "metadata": {}
        }
      ]
    },
    {
      "cell_type": "markdown",
      "source": [
        "## **Task:** Modify the payslip program to store the calculated commission, tax and net pay"
      ],
      "metadata": {
        "id": "f7P28AlgCeSp"
      }
    },
    {
      "cell_type": "code",
      "source": [],
      "metadata": {
        "id": "DqxqoZ6XDJsy"
      },
      "execution_count": null,
      "outputs": []
    }
  ],
  "metadata": {
    "colab": {
      "provenance": [],
      "include_colab_link": true
    },
    "kernelspec": {
      "display_name": "Python 3",
      "name": "python3"
    },
    "language_info": {
      "name": "python"
    }
  },
  "nbformat": 4,
  "nbformat_minor": 0
}