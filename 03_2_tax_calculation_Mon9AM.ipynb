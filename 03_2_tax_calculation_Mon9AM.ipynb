{
  "cells": [
    {
      "cell_type": "markdown",
      "metadata": {
        "id": "view-in-github",
        "colab_type": "text"
      },
      "source": [
        "<a href=\"https://colab.research.google.com/github/isys5002-itp/ISYS5002-2024-S2/blob/main/03_2_tax_calculation_Mon9AM.ipynb\" target=\"_parent\"><img src=\"https://colab.research.google.com/assets/colab-badge.svg\" alt=\"Open In Colab\"/></a>"
      ]
    },
    {
      "cell_type": "markdown",
      "metadata": {
        "id": "bVMwNyExqHgH"
      },
      "source": [
        "# Tax Calculation\n",
        "\n",
        "Write a program the prompts the user for their income and calculates the\n",
        "tax payable based on the Australian Tax Office [Resident tax rates 2021–22\n",
        "Taxable income](https://www.ato.gov.au/rates/individual-income-tax-rates/)\n",
        "\n",
        "Income            | Tax on this income\n",
        "------------------|----------------------\n",
        "0 – \\$18,200       | Nil\n",
        "\\$18,201 – \\$45,000 | 19 cents for each \\$1 over \\$18,200\n",
        "\\$45,001 – \\$120,000 | \\$5,092 plus 32.5 cents for each \\$1 over \\$45,000\n",
        "\\$120,001 – \\$180,000 |  \\$29,467 plus 37 cents for each \\$1 over \\$120,000\n",
        "\\$180,001 and over | \\$51,667 plus 45 cents for each \\$1 over \\$180,000\n",
        "\n",
        "## Task 0 - Import notebook to GitHub\n",
        "\n",
        "First, import the notebook into Colab and save an initial copy to GitHub."
      ]
    },
    {
      "cell_type": "markdown",
      "metadata": {
        "id": "GQPi2a6VI0rf"
      },
      "source": [
        "## Task 1 - Complete Tax Payable Function\n",
        "\n",
        "When you apply the 5-step process you will end up with an algorithm. Here is a very simple algorithm to solve our simple program.  We often call this a high level overview of the problem.  We now know enough about computers and programming now to understand that these high level steps will need to be split into small steps that a computer can implement  but these high level steps make good candidates for functions.  \n",
        "\n",
        "For our tax calculation problem, if we had functions to perform the following steps, would this solve our problem?  If not what steps would you add?\n",
        "\n",
        "1. Get the income\n",
        "2. Calculate the tax payable\n",
        "3. Output tax payable"
      ]
    },
    {
      "cell_type": "code",
      "execution_count": null,
      "metadata": {
        "id": "AuzMU2B7J-q4"
      },
      "outputs": [],
      "source": [
        "# FUNCTION: Get the income\n",
        "def get_income():\n",
        "  '''\n",
        "  This function will prompt the user for the income\n",
        "  and return the value\n",
        "  '''\n",
        "  income = int(input(\"What is your income for the year? \"))\n",
        "  print(\"Your income is \" ,income)\n",
        "  return income\n",
        "\n"
      ]
    },
    {
      "cell_type": "markdown",
      "metadata": {
        "id": "38kVqNCtYsqE"
      },
      "source": [
        "Using the Residents tax rate table, complete the following function"
      ]
    },
    {
      "cell_type": "code",
      "execution_count": null,
      "metadata": {
        "id": "bIGrqfz_Mbt8"
      },
      "outputs": [],
      "source": [
        "# FUNCTION: Calculate the tax payable\n",
        "def calculate_tax(income):\n",
        "  if income <= 18200:\n",
        "    tax_payable = 0\n",
        "  elif 18201 < income <= 45000:\n",
        "    tax_payable = 0.19 * (income - 18200)\n",
        "  elif 45000 <= income < 120000:\n",
        "    tax_payable = 5092 + 0.32 * (income - 45000)\n",
        "\n",
        "  return tax_payable\n"
      ]
    },
    {
      "cell_type": "markdown",
      "metadata": {
        "id": "XWIw708SYsqF"
      },
      "source": [
        "## Task 2 - Complete the program"
      ]
    },
    {
      "cell_type": "code",
      "execution_count": null,
      "metadata": {
        "id": "pd8m2I1uMuAu",
        "colab": {
          "base_uri": "https://localhost:8080/"
        },
        "outputId": "f3e071ae-bc87-4eac-8d63-762381625941"
      },
      "outputs": [
        {
          "output_type": "stream",
          "name": "stdout",
          "text": [
            "What is your income for the year? 30250\n",
            "Your income is  30250\n",
            "Tax payable for income 30250 is 2289.5\n"
          ]
        }
      ],
      "source": [
        "# 'Main line'\n",
        "\n",
        "# Step 1 - Get the income\n",
        "income = get_income()\n",
        "\n",
        "# Step 2 - Calculate the tax\n",
        "tax_payable = calculate_tax(income)\n",
        "\n",
        "# Step 3 - Output tax payable\n",
        "print(f\"Tax payable for income {income} is {tax_payable}\")\n"
      ]
    },
    {
      "cell_type": "markdown",
      "metadata": {
        "id": "NYy-cFjkYsqG"
      },
      "source": [
        "## Task 3 (Optional) - Payslip\n",
        "\n",
        "How could you use these functions with the payslip notebook?\n",
        "\n",
        "```From notebook 03.1_payslip.ipynb```\n"
      ]
    },
    {
      "cell_type": "code",
      "source": [
        "# FUNCTION: calculate_pay\n",
        "# REVISED to implement calculate_tax(income) function\n",
        "\n",
        "def calculate_pay(salary, sales):\n",
        "    # calculate the commission\n",
        "    commission = 0.025 * sales  # compute the commission by multiplying the value in 'sales' with 2.5%\n",
        "\n",
        "    # calculate the total income (salary + commission)\n",
        "    total_income = salary + commission\n",
        "\n",
        "    # calculate the tax using the calculate_tax(income) function\n",
        "    tax = calculate_tax(total_income)  # compute the tax using the tax function\n",
        "\n",
        "    # calculate the net pay\n",
        "    net_pay = total_income - tax\n",
        "\n",
        "    return commission, tax, net_pay"
      ],
      "metadata": {
        "id": "wVPXHJ6ucAI9"
      },
      "execution_count": null,
      "outputs": []
    },
    {
      "cell_type": "code",
      "source": [
        "# FUNCTION for printing payslip\n",
        "\n",
        "def print_payslip(name, salary, comm, calc_tax, net_pay):\n",
        "  # print the payslip\n",
        "  print(f'\\n=== Payslip of {name} ===') # print the name of salesperson\n",
        "  print(f\"Salary: {salary:9} \\nCommission: {comm:} \\nTax: {calc_tax:13}\")\n",
        "  print(f\"Total pay: {net_pay:8}\")"
      ],
      "metadata": {
        "id": "txb3Ix9PUzET"
      },
      "execution_count": null,
      "outputs": []
    },
    {
      "cell_type": "code",
      "source": [
        "# MODIFIED INPUT - FUNCTION get_input()\n",
        "\n",
        "def get_input():\n",
        "  # assign values for salary and sales\n",
        "  name = input(\"Please enter the employee name: \")\n",
        "  # get input from user - salary and sales - and convert the values into float.\n",
        "  salary = float(input(\"Please enter the employee salary: \"))\n",
        "  sales = float(input(\"Please enter the employee sales: \"))\n",
        "\n",
        "  return name, salary, sales\n"
      ],
      "metadata": {
        "id": "rUmE3SS6UT97"
      },
      "execution_count": null,
      "outputs": []
    },
    {
      "cell_type": "code",
      "source": [
        "# MAIN program\n",
        "\n",
        "# INPUT\n",
        "name, salary, sales = get_input()\n",
        "\n",
        "# COMPUTATION\n",
        "comm, calc_tax, net_pay = calculate_pay(salary, sales)\n",
        "\n",
        "# OUTPUT\n",
        "print_payslip(name, salary, comm, calc_tax, net_pay)"
      ],
      "metadata": {
        "colab": {
          "base_uri": "https://localhost:8080/"
        },
        "id": "D3QKGEK7d_FM",
        "outputId": "810b5d87-d87e-4954-ecf1-3eb0795be3e7"
      },
      "execution_count": null,
      "outputs": [
        {
          "output_type": "stream",
          "name": "stdout",
          "text": [
            "Please enter the employee name: 30000\n",
            "Please enter the employee salary: 30000\n",
            "Please enter the employee sales: 10000\n",
            "\n",
            "=== Payslip of 30000 ===\n",
            "Salary:   30000.0 \n",
            "Commission: 250.0 \n",
            "Tax:        2289.5\n",
            "Total pay:  27960.5\n"
          ]
        }
      ]
    }
  ],
  "metadata": {
    "colab": {
      "provenance": [],
      "include_colab_link": true
    },
    "kernelspec": {
      "display_name": "Python 3",
      "language": "python",
      "name": "python3"
    },
    "language_info": {
      "codemirror_mode": {
        "name": "ipython",
        "version": 3
      },
      "file_extension": ".py",
      "mimetype": "text/x-python",
      "name": "python",
      "nbconvert_exporter": "python",
      "pygments_lexer": "ipython3",
      "version": "3.8.8"
    }
  },
  "nbformat": 4,
  "nbformat_minor": 0
}