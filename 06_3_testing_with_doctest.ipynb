{
  "nbformat": 4,
  "nbformat_minor": 0,
  "metadata": {
    "colab": {
      "provenance": [],
      "include_colab_link": true
    },
    "kernelspec": {
      "name": "python3",
      "display_name": "Python 3"
    },
    "language_info": {
      "name": "python"
    }
  },
  "cells": [
    {
      "cell_type": "markdown",
      "metadata": {
        "id": "view-in-github",
        "colab_type": "text"
      },
      "source": [
        "<a href=\"https://colab.research.google.com/github/isys5002-itp/ISYS5002-2024-S2/blob/main/06_3_testing_with_doctest.ipynb\" target=\"_parent\"><img src=\"https://colab.research.google.com/assets/colab-badge.svg\" alt=\"Open In Colab\"/></a>"
      ]
    },
    {
      "cell_type": "markdown",
      "source": [
        "# Testing with doctest\n",
        "\n",
        "In this notebook we introduct another testing strategy using the package [doctest](https://docs.python.org/3/library/doctest.html). A Python doctest is written as though it is a comment with an example of the function and the expected output.  "
      ],
      "metadata": {
        "id": "xr1cG_-IhGrb"
      }
    },
    {
      "cell_type": "markdown",
      "source": [
        "https://www.digitalocean.com/community/tutorials/how-to-write-doctests-in-python"
      ],
      "metadata": {
        "id": "Y6-qvpk7pMUb"
      }
    },
    {
      "cell_type": "code",
      "execution_count": null,
      "metadata": {
        "id": "rguWIpskg6pf"
      },
      "outputs": [],
      "source": [
        "def add(x, y):\n",
        "    '''Add two numbers'''\n",
        "    return x + y\n",
        "\n",
        "def divide(x, y):\n",
        "    '''Divide first by second number'''\n",
        "    return x / y\n",
        "\n",
        "def multiply(x, y):\n",
        "    '''Multiple two numbers'''\n",
        "    return x * y\n",
        "\n",
        "def subtract(x, y):\n",
        "    '''Subtract two numbers'''\n",
        "    return x - y"
      ]
    },
    {
      "cell_type": "code",
      "source": [
        "# the add function\n",
        "\n",
        "def add(x, y):\n",
        "    '''Add two numbers'''\n",
        "    if ((type(x) == int or type(x) == float) and\n",
        "        (type(y) == int or type(y) == float)):\n",
        "      return x + y\n",
        "    return 'Not a number'"
      ],
      "metadata": {
        "id": "FfQto8b-1fIq"
      },
      "execution_count": null,
      "outputs": []
    },
    {
      "cell_type": "markdown",
      "source": [
        "# Test Table\n",
        "\n",
        "We will use out test table from previous notebook.\n",
        "\n",
        "| Test # | Type    | Data     | Expected | Actual | Pass/Fail |\n",
        "|--------|---------|----------|----------|--------|-----------|\n",
        "|  1     | Valid   |0,0       | 0        |        |           |\n",
        "|  2     | Valid   |1,1       | 2        |        |           |\n",
        "|  3     | Valid   |-1,-1     | -2       |        |           |\n",
        "|  4     | Valid   |1.1,1.1   | 2.2      |        |           |\n",
        "|  5     | Valid   |-1.1,-1.1 | 2.2      |        |           |\n",
        "|  6     | Invalid |'0',0     | 'Not a number'|   |           |\n",
        "|  7     | Invalid |'One','0' | 'Not a number'|   |           |\n",
        "|  8     | Invalid |[1],[1]   | 'Not a number'|   |           |\n",
        "|  9     | Invalid |{1},{1}   | 'Not a number'|   |           |\n",
        "\n",
        "\n",
        "\n",
        "# `doctest`\n",
        "\n",
        "Documentation and testing are core components of every software development process. <br>\n",
        "> Docutest is a Python package that allows you to specify test in a functions docstring.  \n",
        "\n",
        "Let us consider the add() function.\n",
        "\n",
        "To add a test we simulate a interactive python session by calling the function after the interactive prompt ```>>>```.  The next line will contain the expected output.  The module doctest will search pieces of text within comments that look like interactive Python sessions and then build up the test case and execute the tests.\n"
      ],
      "metadata": {
        "id": "Ouf_I-wOkLW_"
      }
    },
    {
      "cell_type": "code",
      "source": [
        "import doctest #import doctest module\n",
        "\n",
        "def add(x, y):\n",
        "    '''Add two numbers\n",
        "    >>> add(0,0)\n",
        "    0\n",
        "    '''\n",
        "    return x + y"
      ],
      "metadata": {
        "id": "iOFin6zwj94Y"
      },
      "execution_count": null,
      "outputs": []
    },
    {
      "cell_type": "code",
      "source": [
        "# call the 'doctest.testmod()' function to run the tests\n",
        "\n",
        "doctest.testmod()"
      ],
      "metadata": {
        "id": "urKQEJyHIsnn"
      },
      "execution_count": null,
      "outputs": []
    },
    {
      "cell_type": "markdown",
      "source": [
        "The output keeps track of the number of test that failed and total tests completed. Okay, let's add more tests"
      ],
      "metadata": {
        "id": "8Ronne_wG1rR"
      }
    },
    {
      "cell_type": "code",
      "source": [
        "import doctest\n",
        "\n",
        "def add(x, y):\n",
        "    '''Add two numbers\n",
        "    >>> add(0,0)\n",
        "    0\n",
        "    >>> add(1,1)\n",
        "    2\n",
        "    >>> add(-1,-1)\n",
        "    -2\n",
        "    >>> add(1.1,1.1)\n",
        "    2.2\n",
        "\n",
        "    '''\n",
        "    return x + y\n"
      ],
      "metadata": {
        "id": "EbGuwNLBoUtR"
      },
      "execution_count": null,
      "outputs": []
    },
    {
      "cell_type": "code",
      "source": [
        "doctest.testmod()"
      ],
      "metadata": {
        "id": "5HJof108oWVS"
      },
      "execution_count": null,
      "outputs": []
    },
    {
      "cell_type": "markdown",
      "source": [
        "Let's try with an invalid case"
      ],
      "metadata": {
        "id": "nBArgAJJoW0a"
      }
    },
    {
      "cell_type": "code",
      "source": [
        "import doctest\n",
        "\n",
        "def add(x, y):\n",
        "    '''Add two numbers\n",
        "    >>> add(0,0)\n",
        "    0\n",
        "    >>> add(1,1)\n",
        "    2\n",
        "    >>> add(-1,-1)\n",
        "    -2\n",
        "    >>> add(1.1,1.1)\n",
        "    2.2\n",
        "\n",
        "    Invalid Case\n",
        "    >>> add('0',0)\n",
        "    'Not a number'\n",
        "    '''\n",
        "    return x + y\n"
      ],
      "metadata": {
        "id": "ip-5bULUGjuz"
      },
      "execution_count": null,
      "outputs": []
    },
    {
      "cell_type": "code",
      "source": [
        "doctest.testmod()"
      ],
      "metadata": {
        "id": "8K7QJd0zDNsH"
      },
      "execution_count": null,
      "outputs": []
    },
    {
      "cell_type": "markdown",
      "source": [
        "With\n",
        "```\n",
        "  >>> add('0',0)\n",
        "  'Not a number'\n",
        "```\n",
        "\n",
        "* The add() function above is expected to handle cases where the inputs are not numbers.  \n",
        "* However, the implementation of the add function doesn't account for this scenario.\n",
        "* To fix it, you would need to modify the function to handle cases where the inputs are not valid numbers and return the appropriate error message, such as 'Not a number'."
      ],
      "metadata": {
        "id": "QHUnB2oxnqpZ"
      }
    },
    {
      "cell_type": "markdown",
      "source": [
        "As in the previous notebook, lets update our `add()` function and write a support function `isNumber()` to check is a argumnet is a number."
      ],
      "metadata": {
        "id": "LQyUbfeDHetW"
      }
    },
    {
      "cell_type": "code",
      "source": [
        "# isNUmber function to check if the value is a number\n",
        "def isNumber(value):\n",
        "  return (type(value) == int or type(value) == float)\n",
        "\n",
        "# add function\n",
        "def add(x, y):\n",
        "    '''Add two numbers\n",
        "    >>> add(0,0)\n",
        "    0\n",
        "    >>> add(1,1)\n",
        "    2\n",
        "    >>> add(-1,-1)\n",
        "    -2\n",
        "    >>> add(1.1,1.1)\n",
        "    2.2\n",
        "    >>> add('0',0)\n",
        "    'Not a number'\n",
        "    '''\n",
        "    if isNumber(x) and isNumber(y):\n",
        "      return x + y\n",
        "    else:\n",
        "      return 'Not a number'"
      ],
      "metadata": {
        "id": "4ZeCUHbrHNrx"
      },
      "execution_count": null,
      "outputs": []
    },
    {
      "cell_type": "markdown",
      "source": [
        "Run the test again"
      ],
      "metadata": {
        "id": "Vb-y189zIhE0"
      }
    },
    {
      "cell_type": "code",
      "source": [],
      "metadata": {
        "id": "ghOF4kxLIlgF"
      },
      "execution_count": null,
      "outputs": []
    }
  ]
}