{
  "nbformat": 4,
  "nbformat_minor": 0,
  "metadata": {
    "colab": {
      "provenance": [],
      "include_colab_link": true
    },
    "kernelspec": {
      "name": "python3",
      "display_name": "Python 3"
    },
    "language_info": {
      "name": "python"
    }
  },
  "cells": [
    {
      "cell_type": "markdown",
      "metadata": {
        "id": "view-in-github",
        "colab_type": "text"
      },
      "source": [
        "<a href=\"https://colab.research.google.com/github/isys5002-itp/ISYS5002-2024-S2/blob/main/06_2_testing_with_assert.ipynb\" target=\"_parent\"><img src=\"https://colab.research.google.com/assets/colab-badge.svg\" alt=\"Open In Colab\"/></a>"
      ]
    },
    {
      "cell_type": "markdown",
      "source": [
        "# Testing with assert\n",
        "\n",
        "\n",
        "    Testing leads to failure, and failure leads to understanding - Burt rutan\n",
        "\n",
        "Testing differs from debugging.  Testing is the process to find bugs and errors. Debugging is the process to correct the bugs found during programm execution or testing.\n",
        "\n",
        "In this notebook we will revisit our naive Python mathematics module to understand how to test code."
      ],
      "metadata": {
        "id": "xr1cG_-IhGrb"
      }
    },
    {
      "cell_type": "markdown",
      "source": [
        "## Python `assert` Statement\n",
        "Python has built-in `assert` statement to use assertion condition in the program. `assert` statement has a condition or expression which is supposed to be always true. If the condition is false assert halts the program and gives an `AssertionError`.\n",
        "\n",
        "Syntax for using Assert in Pyhton:<br>\n",
        "\n",
        "> `assert <condition>,<error message>`\n",
        "\n",
        "\n",
        "In Python we can use assert statement in two ways as mentioned above.\n",
        "* `assert` statement has a condition and if the condition is not satisfied the program will stop and give `AssertionError`.\n",
        "* `assert` statement can also have a condition and a optional error message. If the condition is not satisfied `assert` stops the program and gives `AssertionError` along with the error message.\n",
        "\n",
        "*source: https://www.programiz.com/python-programming/assert-statement*"
      ],
      "metadata": {
        "id": "84K9kPMkW8-M"
      }
    },
    {
      "cell_type": "code",
      "execution_count": null,
      "metadata": {
        "id": "sVX26Ds1RTbq"
      },
      "outputs": [],
      "source": [
        "def add(x, y):\n",
        "    '''Add two numbers'''\n",
        "    return x + y"
      ]
    },
    {
      "cell_type": "code",
      "source": [
        "add (2,3)"
      ],
      "metadata": {
        "id": "TucetbmdVvlx"
      },
      "execution_count": null,
      "outputs": []
    },
    {
      "cell_type": "code",
      "source": [
        "add(2.3, 3.2)"
      ],
      "metadata": {
        "id": "wRJFnCEbbtes"
      },
      "execution_count": null,
      "outputs": []
    },
    {
      "cell_type": "code",
      "source": [
        "add('2', '3')"
      ],
      "metadata": {
        "id": "y2rZzlUGbH4k"
      },
      "execution_count": null,
      "outputs": []
    },
    {
      "cell_type": "code",
      "source": [
        "add([1,2], [2,3])"
      ],
      "metadata": {
        "id": "s5XMZTqcbosm"
      },
      "execution_count": null,
      "outputs": []
    },
    {
      "cell_type": "code",
      "source": [
        "#if condition returns True, then nothing happens:\n",
        "assert add(2, 3) == 5"
      ],
      "metadata": {
        "id": "A87FueIzX2i2"
      },
      "execution_count": null,
      "outputs": []
    },
    {
      "cell_type": "code",
      "source": [
        "#if condition returns False, AssertionError is raised:\n",
        "assert add('2', '3') == 5"
      ],
      "metadata": {
        "id": "eeSE7zoTV9oU"
      },
      "execution_count": null,
      "outputs": []
    },
    {
      "cell_type": "code",
      "source": [
        "assert add('2', '3') == '23'"
      ],
      "metadata": {
        "id": "UOBW8vcUqbXE"
      },
      "execution_count": null,
      "outputs": []
    },
    {
      "cell_type": "markdown",
      "source": [
        "For our program, we only want numbers."
      ],
      "metadata": {
        "id": "qqxyXLO6bTj1"
      }
    },
    {
      "cell_type": "markdown",
      "source": [
        "# Test Tables\n",
        "\n",
        "Test tables are used to provide a structure to testing. Programmers will often create a table with a selection of normal, extreme and exceptional data that they intend to use during testing. The table will include: a column for the expected result. a column for what actually happens when the program runs.\n",
        "\n",
        "| Test # | Type | Data | Expected | Actual | Pass/Fail |\n",
        "|--------|------|------|----------|--------|-----------|\n",
        "|        |      |      |          |        |           |\n",
        "\n",
        "\n",
        "We would generate a table for each function we are testing.  The set of tables would test the module.  \n",
        "\n",
        "# Consider the function add()\n",
        "\n",
        "| Test # | Type    | Data     | Expected | Actual | Pass/Fail |\n",
        "|--------|---------|----------|----------|--------|-----------|\n",
        "|  1     | Valid   |0,0       | 0        |        |           |\n",
        "|  2     | Valid   |1,1       | 2        |        |           |\n",
        "|  3     | Valid   |-1,-1     | -2       |        |           |\n",
        "|  4    | Valid   |1.1,1.1   | 2.2      |        |           |\n",
        "|  5    | Valid   |-1.1,-1.1 | 2.2      |        |           |\n",
        "|  6    | Invalid |'0',0     | 'Not a number'|   |           |\n",
        "|  7    | Invalid |'One','0' | 'Not a number'|   |           |\n",
        "\n",
        "Are all of the above needed?  Do we need more? How many test do you need? Where do you stop adding tests?  Because we are reimplementing the Python ```+``` operator we probably only testing for integers,floats and is sufficient.\n",
        "\n",
        "The above are the 'obvious' addition of numbers.  But is it valid to\n",
        "add lists, or dictionaries, or strings?  What about special number like infinity?  These questions will be answered with various discussion\n",
        "with the client. Note this  could be in-house software you are developing or maintaining so the client in this case would be internal to the organisation.\n",
        "\n",
        "| Test # | Type      | Data    | Expected | Actual | Pass/Fail |\n",
        "|--------|-----------|---------|----------|--------|-----------|\n",
        "|  8    | Invalid   |[1],[1]  | 'Not a number' |  |           |\n",
        "|  9    | Invalid   |[1],[1]  | 'Not a number' |  |           |\n",
        "\n",
        "\n",
        "For the purpose of this notebook we will restrict out testing to integers and floats. So our final test table becomes\n",
        "\n",
        "| Test # | Type    | Data     | Expected | Actual | Pass/Fail |\n",
        "|--------|---------|----------|----------|--------|-----------|\n",
        "|  1     | Valid   |0,0       | 0        |        |           |\n",
        "|  2     | Valid   |1,1       | 2        |        |           |\n",
        "|  3     | Valid   |-1,-1     | -2       |        |           |\n",
        "|  4     | Valid   |1.1,1.1   | 2.2      |        |           |\n",
        "|  5     | Valid   |-1.1,-1.1 | 2.2      |        |           |\n",
        "|  6     | Invalid |'0',0     | 'Not a number'|   |           |\n",
        "|  7     | Invalid |'One','0' | 'Not a number'|   |           |\n",
        "|  8     | Invalid |[1],[1]   | 'Not a number'|   |           |\n",
        "|  9     | Invalid |{1},{1}   | 'Not a number'|   |           |\n",
        "\n",
        "\n",
        "\n",
        "# assert\n",
        "\n",
        "The `assert` keyword lets you test if a condition in your code returns True, if not, the program will raise an AssertionError.  The condition to be tested comes from the test table.\n",
        "\n",
        "As you test your code, you may end up modifying the code to pass valid tests.\n"
      ],
      "metadata": {
        "id": "Ouf_I-wOkLW_"
      }
    },
    {
      "cell_type": "code",
      "source": [
        "assert add(0,0) == 0"
      ],
      "metadata": {
        "id": "UENmOGQySf-H"
      },
      "execution_count": null,
      "outputs": []
    },
    {
      "cell_type": "markdown",
      "source": [
        "Add more test cases"
      ],
      "metadata": {
        "id": "1hVXDoehv31g"
      }
    },
    {
      "cell_type": "code",
      "source": [],
      "metadata": {
        "id": "xtH5pkEvqZNM"
      },
      "execution_count": null,
      "outputs": []
    },
    {
      "cell_type": "markdown",
      "source": [
        "What about some invalid tests?"
      ],
      "metadata": {
        "id": "KzrU429jxOV_"
      }
    },
    {
      "cell_type": "code",
      "source": [],
      "metadata": {
        "id": "yOKccP7iwWgM"
      },
      "execution_count": null,
      "outputs": []
    },
    {
      "cell_type": "markdown",
      "source": [
        "The invalid test cases failed.\n",
        "\n",
        "Let's update add() to handle the case of string.  We have a couple of strategies, we can test for a string, or test for a number.  Given we don't want to have our function to add lists etc, let's choose to test for numbers."
      ],
      "metadata": {
        "id": "XRyu5uS8xbzB"
      }
    },
    {
      "cell_type": "code",
      "source": [],
      "metadata": {
        "id": "lNPjUrOuwZzg"
      },
      "execution_count": null,
      "outputs": []
    },
    {
      "cell_type": "markdown",
      "source": [
        "Let's add an assertion test to verify that the updated `add()` function correctly handles the case where at least one of the inputs is not a valid number and returns `'Not a number'` as expected."
      ],
      "metadata": {
        "id": "Orbky2XfsDLp"
      }
    },
    {
      "cell_type": "code",
      "source": [],
      "metadata": {
        "id": "yCgWgemHsbdw"
      },
      "execution_count": null,
      "outputs": []
    },
    {
      "cell_type": "markdown",
      "source": [
        "The `if` statement is a bit confusing, let's write a function to check if something is a number"
      ],
      "metadata": {
        "id": "6S5bu1PD2gcu"
      }
    },
    {
      "cell_type": "code",
      "source": [],
      "metadata": {
        "id": "wtQTUAOlyedj"
      },
      "execution_count": null,
      "outputs": []
    },
    {
      "cell_type": "code",
      "source": [],
      "metadata": {
        "id": "puiPdMKh1a2P"
      },
      "execution_count": null,
      "outputs": []
    },
    {
      "cell_type": "markdown",
      "source": [
        "So our final set of assert statements becomes:"
      ],
      "metadata": {
        "id": "ymCFCSTB5pOP"
      }
    },
    {
      "cell_type": "code",
      "source": [
        "assert add(0,0) == 0\n",
        "assert add(1,1) == 2\n",
        "assert add(-1,-1) == -2\n",
        "assert add(1.1,1.1) == 2.2\n",
        "assert add(-1.1,-1.1) == -2.2\n",
        "assert add('0',0) == 'Not a number'\n",
        "assert add('One','0') == 'Not a number'\n",
        "assert add([1],[1]) == 'Not a number'\n",
        "assert add({1},{1}) == 'Not a number'"
      ],
      "metadata": {
        "id": "TjnOIztQ3geO"
      },
      "execution_count": null,
      "outputs": []
    },
    {
      "cell_type": "markdown",
      "source": [
        "### you could write test cases for the add() function using assert:"
      ],
      "metadata": {
        "id": "ylGjM5xEd2uf"
      }
    },
    {
      "cell_type": "code",
      "source": [
        "\n"
      ],
      "metadata": {
        "id": "MWF8CKNsd0m9"
      },
      "execution_count": null,
      "outputs": []
    },
    {
      "cell_type": "code",
      "source": [],
      "metadata": {
        "id": "_U1ytHf0eAhN"
      },
      "execution_count": null,
      "outputs": []
    },
    {
      "cell_type": "markdown",
      "source": [
        "In this test function, each assert statement tests whether the result of calling `add()` with a specific set of arguments matches the expected result. If the result doesn't match the expectation, an AssertionError is raised, indicating that the test has failed.\n",
        "\n",
        "You would run the `test_add()` function to execute all the test cases and verify that the `add()` function is behaving as expected.\n",
        "\n",
        "You can also run the `test_add()` function using a testing framework such as `pytest` to see which tests pass and which tests fail."
      ],
      "metadata": {
        "id": "aI1lQNGDd-R8"
      }
    },
    {
      "cell_type": "markdown",
      "source": [
        "### Testing framework `pytest`\n",
        "\n",
        "Pytest is a testing framework for Python. It allows you to write tests for your code in a simple and easy-to-read format, and provides features for debugging, reporting, and managing your tests.\n",
        "\n",
        "You can use pytest in a notebook by installing the ipytest package. ipytest is a plugin for running pytest tests in IPython and Jupyter notebooks.\n",
        "\n"
      ],
      "metadata": {
        "id": "TYY4W5oht9sK"
      }
    },
    {
      "cell_type": "code",
      "source": [
        "# install the necessary packages\n",
        "\n",
        "!pip install pytest ipytest"
      ],
      "metadata": {
        "id": "iOe3q7hTvwVU"
      },
      "execution_count": null,
      "outputs": []
    },
    {
      "cell_type": "code",
      "source": [
        "# Define your test functions using the pytest syntax\n",
        "\n"
      ],
      "metadata": {
        "id": "mwI2zBjKv_pl"
      },
      "execution_count": null,
      "outputs": []
    },
    {
      "cell_type": "code",
      "source": [
        "# import the necessary modules\n",
        "import ipytest\n",
        "import pytest\n",
        "\n",
        "# run the tests using ipytest\n",
        "ipytest.run()"
      ],
      "metadata": {
        "id": "6afIUsunvyif"
      },
      "execution_count": null,
      "outputs": []
    }
  ]
}