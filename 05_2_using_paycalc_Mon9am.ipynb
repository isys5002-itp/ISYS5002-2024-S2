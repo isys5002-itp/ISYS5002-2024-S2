{
  "nbformat": 4,
  "nbformat_minor": 0,
  "metadata": {
    "colab": {
      "provenance": [],
      "include_colab_link": true
    },
    "kernelspec": {
      "name": "python3",
      "display_name": "Python 3"
    },
    "language_info": {
      "name": "python"
    }
  },
  "cells": [
    {
      "cell_type": "markdown",
      "metadata": {
        "id": "view-in-github",
        "colab_type": "text"
      },
      "source": [
        "<a href=\"https://colab.research.google.com/github/isys5002-itp/ISYS5002-2024-S2/blob/main/05_2_using_paycalc_Mon9am.ipynb\" target=\"_parent\"><img src=\"https://colab.research.google.com/assets/colab-badge.svg\" alt=\"Open In Colab\"/></a>"
      ]
    },
    {
      "cell_type": "markdown",
      "source": [
        "## import paycalc module"
      ],
      "metadata": {
        "id": "psgn2zwBTZkM"
      }
    },
    {
      "cell_type": "code",
      "source": [
        "import paycalc as pay"
      ],
      "metadata": {
        "id": "1iSGQfwlQL45"
      },
      "execution_count": 9,
      "outputs": []
    },
    {
      "cell_type": "markdown",
      "source": [
        "## call the relevant functions from the `paycalc` module to\n",
        "* get user input\n",
        "* calculate the pay\n",
        "* print the payslip"
      ],
      "metadata": {
        "id": "Mq_ihQNxTfX1"
      }
    },
    {
      "cell_type": "code",
      "source": [
        "help(pay.user_input)"
      ],
      "metadata": {
        "id": "l-PmDv0fRvQC",
        "colab": {
          "base_uri": "https://localhost:8080/"
        },
        "outputId": "29ffa894-c370-4099-c69d-ba8924ccad0a"
      },
      "execution_count": 11,
      "outputs": [
        {
          "output_type": "stream",
          "name": "stdout",
          "text": [
            "Help on function user_input in module paycalc:\n",
            "\n",
            "user_input()\n",
            "    This function prompts the user to enter their name, salary, sales, and commission rate and returns these inputs as a tuple.\n",
            "    \n",
            "    Inputs:\n",
            "    None\n",
            "    \n",
            "    Returns:\n",
            "    name: a string representing the user's name\n",
            "    salary: an integer representing the user's salary\n",
            "    sales: an integer representing the user's sales\n",
            "    comm_rate: a float representing the user's commission rate\n",
            "\n"
          ]
        }
      ]
    },
    {
      "cell_type": "code",
      "source": [
        "# get input from user\n",
        "\n",
        "# unpack the return values and store them into variables for later use\n",
        "name, salary, sales, commRate = pay.user_input()"
      ],
      "metadata": {
        "colab": {
          "base_uri": "https://localhost:8080/"
        },
        "id": "AGlK7YtPZsjd",
        "outputId": "c317ef92-c973-4791-a50f-59aafd01b76f"
      },
      "execution_count": 15,
      "outputs": [
        {
          "name": "stdout",
          "output_type": "stream",
          "text": [
            "Please enter name: Radha\n",
            "Please enter salary: 35000\n",
            "Please enter sales: 40000\n",
            "Please enter commission rate: 2.2\n"
          ]
        }
      ]
    },
    {
      "cell_type": "code",
      "source": [
        "help(pay.calculate_pay)"
      ],
      "metadata": {
        "colab": {
          "base_uri": "https://localhost:8080/"
        },
        "id": "cbP-pvFrZ4zV",
        "outputId": "a839b04d-c1bb-4fd0-94ac-68aee508e149"
      },
      "execution_count": 13,
      "outputs": [
        {
          "output_type": "stream",
          "name": "stdout",
          "text": [
            "Help on function calculate_pay in module paycalc:\n",
            "\n",
            "calculate_pay(salary, sales, comm)\n",
            "    This function calculates the commission, tax, and pay for a given salary, sales, and commission rate.\n",
            "    \n",
            "    Inputs:\n",
            "    salary: an integer representing the user's salary\n",
            "    sales: an integer representing the user's sales\n",
            "    comm: a float representing the user's commission rate\n",
            "    \n",
            "    Returns:\n",
            "    commission: a float representing the commission earned based on the sales and commission rate\n",
            "    tax: a float representing the tax amount calculated based on the salary and commission earned\n",
            "    pay: a float representing the pay after deducting tax from the salary and adding the commission earned\n",
            "\n"
          ]
        }
      ]
    },
    {
      "cell_type": "code",
      "source": [
        "calc_comm, calc_tax, calc_netpay = pay.calculate_pay(salary, sales, commRate)"
      ],
      "metadata": {
        "id": "_zQDJQUQbH54"
      },
      "execution_count": 17,
      "outputs": []
    },
    {
      "cell_type": "code",
      "source": [
        "help(pay.print_payslip)"
      ],
      "metadata": {
        "colab": {
          "base_uri": "https://localhost:8080/"
        },
        "id": "f-ZeLGbubzA5",
        "outputId": "0b7a8a40-78ea-4600-f856-2e43b5122fc3"
      },
      "execution_count": 18,
      "outputs": [
        {
          "output_type": "stream",
          "name": "stdout",
          "text": [
            "Help on function print_payslip in module paycalc:\n",
            "\n",
            "print_payslip(name, salary, comm_result, tax_result, pay_result)\n",
            "    This function takes in the name, salary, commission, tax, and pay results as inputs and prints out a nicely formatted payslip for the user.\n",
            "    \n",
            "    Inputs:\n",
            "    name: a string representing the user's name\n",
            "    salary: an integer representing the user's salary\n",
            "    comm_result: a float representing the commission earned\n",
            "    tax_result: a float representing the tax amount calculated based on the salary and commission earned\n",
            "    pay_result: a float representing the pay after deducting tax from the salary and adding the commission earned\n",
            "    \n",
            "    Outputs:\n",
            "    prints the payslip stream, or to sys.stdout\n",
            "\n"
          ]
        }
      ]
    },
    {
      "cell_type": "code",
      "source": [
        "pay.print_payslip(name, salary, calc_comm, calc_tax, calc_netpay)"
      ],
      "metadata": {
        "colab": {
          "base_uri": "https://localhost:8080/"
        },
        "id": "nheNTjIwbueJ",
        "outputId": "7af9faa2-7dfc-44a4-82ec-d3c0b5112257"
      },
      "execution_count": 19,
      "outputs": [
        {
          "output_type": "stream",
          "name": "stdout",
          "text": [
            "\n",
            "=== Payslip of Radha ===\n",
            "Salary:     35000 \n",
            "Commission: 880.0000000000001 \n",
            "Tax:        3359.2 \n",
            "Total pay:  32520.8\n"
          ]
        }
      ]
    },
    {
      "cell_type": "code",
      "source": [
        "# Main Program\n",
        "\n",
        "# get input from user\n",
        "name, salary, sales, commRate = pay.user_input()\n",
        "\n",
        "# calculate net Pay\n",
        "calc_comm, calc_tax, calc_netpay = pay.calculate_pay(salary, sales, commRate)\n",
        "\n",
        "# print payslip\n",
        "pay.print_payslip(name, salary, calc_comm, calc_tax, calc_netpay)"
      ],
      "metadata": {
        "colab": {
          "base_uri": "https://localhost:8080/"
        },
        "id": "aFo79gDPcB2h",
        "outputId": "5c5948f4-a37b-4f0c-83ac-8c0800562299"
      },
      "execution_count": 20,
      "outputs": [
        {
          "output_type": "stream",
          "name": "stdout",
          "text": [
            "Please enter name: Ram\n",
            "Please enter salary: 40000\n",
            "Please enter sales: 45000\n",
            "Please enter commission rate: 3.0\n",
            "\n",
            "=== Payslip of Ram ===\n",
            "Salary:     40000 \n",
            "Commission: 1350.0 \n",
            "Tax:        4398.5 \n",
            "Total pay:  36951.5\n"
          ]
        }
      ]
    }
  ]
}