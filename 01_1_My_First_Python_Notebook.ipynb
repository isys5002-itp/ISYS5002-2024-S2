{
  "nbformat": 4,
  "nbformat_minor": 0,
  "metadata": {
    "colab": {
      "provenance": [],
      "authorship_tag": "ABX9TyM7iTY1N/0qcysEnDAogFgA",
      "include_colab_link": true
    },
    "kernelspec": {
      "name": "python3",
      "display_name": "Python 3"
    },
    "language_info": {
      "name": "python"
    }
  },
  "cells": [
    {
      "cell_type": "markdown",
      "metadata": {
        "id": "view-in-github",
        "colab_type": "text"
      },
      "source": [
        "<a href=\"https://colab.research.google.com/github/isys5002-itp/ISYS5002-2024-S2/blob/main/01_1_My_First_Python_Notebook.ipynb\" target=\"_parent\"><img src=\"https://colab.research.google.com/assets/colab-badge.svg\" alt=\"Open In Colab\"/></a>"
      ]
    },
    {
      "cell_type": "markdown",
      "source": [
        "# This is my first Python Notebook\n",
        "\n",
        "**This is a text cell**\n"
      ],
      "metadata": {
        "id": "zpk2SLSvHqoG"
      }
    },
    {
      "cell_type": "code",
      "execution_count": null,
      "metadata": {
        "id": "bSJueDTzF5wo"
      },
      "outputs": [],
      "source": [
        "# this is a code cell"
      ]
    },
    {
      "cell_type": "code",
      "source": [
        "1 + 1 # this is an expression"
      ],
      "metadata": {
        "colab": {
          "base_uri": "https://localhost:8080/"
        },
        "id": "njXBWVrQJbss",
        "outputId": "fb9cd1fa-19c2-49a1-e76d-07dca38b541c"
      },
      "execution_count": null,
      "outputs": [
        {
          "output_type": "execute_result",
          "data": {
            "text/plain": [
              "2"
            ]
          },
          "metadata": {},
          "execution_count": 6
        }
      ]
    },
    {
      "cell_type": "code",
      "source": [
        "print(\"Hello Rohini\")\n",
        "print('HelloRohini')"
      ],
      "metadata": {
        "colab": {
          "base_uri": "https://localhost:8080/"
        },
        "id": "rPxxHwPHKTJF",
        "outputId": "4a3c6f0a-da9b-4b5d-8a46-6bac0f879b25"
      },
      "execution_count": null,
      "outputs": [
        {
          "output_type": "stream",
          "name": "stdout",
          "text": [
            "Hello Rohini\n",
            "HelloRohini\n"
          ]
        }
      ]
    },
    {
      "cell_type": "code",
      "source": [
        "1 + 2\n",
        "1 + 3"
      ],
      "metadata": {
        "colab": {
          "base_uri": "https://localhost:8080/"
        },
        "id": "diApvJdgKuRL",
        "outputId": "1c9f61e7-46ec-4613-d579-e7e4df02a186"
      },
      "execution_count": null,
      "outputs": [
        {
          "output_type": "execute_result",
          "data": {
            "text/plain": [
              "4"
            ]
          },
          "metadata": {},
          "execution_count": 17
        }
      ]
    },
    {
      "cell_type": "code",
      "source": [
        "print(1 + 1)  # computing two numeric values\n",
        "print(1+3)\n",
        "print('1 + 4')\n",
        "print(\"1 + 5\") # display string items\n",
        "print('1' + '1') # string concatenation\n",
        "print('i' + 'i') # putting together two string values/items"
      ],
      "metadata": {
        "colab": {
          "base_uri": "https://localhost:8080/"
        },
        "id": "O_RAmpn8L5Vk",
        "outputId": "9275fa01-6023-47a7-aa20-44631be8e345"
      },
      "execution_count": null,
      "outputs": [
        {
          "output_type": "stream",
          "name": "stdout",
          "text": [
            "2\n",
            "4\n",
            "1 + 4\n",
            "1 + 5\n",
            "11\n",
            "ii\n"
          ]
        }
      ]
    },
    {
      "cell_type": "code",
      "source": [
        "print (1 + '2')"
      ],
      "metadata": {
        "colab": {
          "base_uri": "https://localhost:8080/",
          "height": 141
        },
        "id": "bclaZpilNayB",
        "outputId": "adfba5f3-35dd-4d58-af69-a641b8a3a40a"
      },
      "execution_count": null,
      "outputs": [
        {
          "output_type": "error",
          "ename": "TypeError",
          "evalue": "unsupported operand type(s) for +: 'int' and 'str'",
          "traceback": [
            "\u001b[0;31m---------------------------------------------------------------------------\u001b[0m",
            "\u001b[0;31mTypeError\u001b[0m                                 Traceback (most recent call last)",
            "\u001b[0;32m<ipython-input-25-3ed42f790ecf>\u001b[0m in \u001b[0;36m<cell line: 1>\u001b[0;34m()\u001b[0m\n\u001b[0;32m----> 1\u001b[0;31m \u001b[0mprint\u001b[0m \u001b[0;34m(\u001b[0m\u001b[0;36m1\u001b[0m \u001b[0;34m+\u001b[0m \u001b[0;34m'2'\u001b[0m\u001b[0;34m)\u001b[0m\u001b[0;34m\u001b[0m\u001b[0;34m\u001b[0m\u001b[0m\n\u001b[0m",
            "\u001b[0;31mTypeError\u001b[0m: unsupported operand type(s) for +: 'int' and 'str'"
          ]
        }
      ]
    },
    {
      "cell_type": "code",
      "source": [
        "print (1, '2') # concatenating string and numeric values"
      ],
      "metadata": {
        "colab": {
          "base_uri": "https://localhost:8080/"
        },
        "id": "12RJpL0FPK0F",
        "outputId": "81948030-a421-4120-dd48-d0659493a0c9"
      },
      "execution_count": null,
      "outputs": [
        {
          "output_type": "stream",
          "name": "stdout",
          "text": [
            "1 2\n"
          ]
        }
      ]
    },
    {
      "cell_type": "code",
      "source": [
        "print(\"The number is \", 2) # use comma to concatenate a string and numeric value"
      ],
      "metadata": {
        "colab": {
          "base_uri": "https://localhost:8080/"
        },
        "id": "HhgNuiZzNnpC",
        "outputId": "212a151f-f13c-4960-fe2b-a3c95195df8c"
      },
      "execution_count": null,
      "outputs": [
        {
          "output_type": "stream",
          "name": "stdout",
          "text": [
            "The number is  2\n"
          ]
        }
      ]
    },
    {
      "cell_type": "code",
      "source": [
        "input(\"Please enter your name: \")"
      ],
      "metadata": {
        "colab": {
          "base_uri": "https://localhost:8080/",
          "height": 53
        },
        "id": "mnHVAPe5PhRG",
        "outputId": "777dd2e8-de83-4291-fe9e-7bde509da616"
      },
      "execution_count": null,
      "outputs": [
        {
          "name": "stdout",
          "output_type": "stream",
          "text": [
            "Please enter your name: Mickey\n"
          ]
        },
        {
          "output_type": "execute_result",
          "data": {
            "text/plain": [
              "'Mickey'"
            ],
            "application/vnd.google.colaboratory.intrinsic+json": {
              "type": "string"
            }
          },
          "metadata": {},
          "execution_count": 36
        }
      ]
    },
    {
      "cell_type": "code",
      "source": [
        "# take input from user\n",
        "# store the value provided by the user into a variable (store) named 'UserName'\n",
        "\n",
        "UserName = input(\"Please enter your name: \")"
      ],
      "metadata": {
        "colab": {
          "base_uri": "https://localhost:8080/"
        },
        "id": "mHhOQVQmQcc2",
        "outputId": "7d250f8c-48a0-4291-af8f-39f11b250889"
      },
      "execution_count": null,
      "outputs": [
        {
          "name": "stdout",
          "output_type": "stream",
          "text": [
            "Please enter your name: Daisy\n"
          ]
        }
      ]
    },
    {
      "cell_type": "code",
      "source": [
        "UserName # call the variable (store) UserName"
      ],
      "metadata": {
        "colab": {
          "base_uri": "https://localhost:8080/",
          "height": 36
        },
        "id": "jCxXuBvvQgW2",
        "outputId": "cb329545-eebe-4480-9e89-271f1d932fd6"
      },
      "execution_count": null,
      "outputs": [
        {
          "output_type": "execute_result",
          "data": {
            "text/plain": [
              "'Daisy'"
            ],
            "application/vnd.google.colaboratory.intrinsic+json": {
              "type": "string"
            }
          },
          "metadata": {},
          "execution_count": 44
        }
      ]
    },
    {
      "cell_type": "code",
      "source": [
        "# concatenating the string message with the value held in store(varible) named UserName\n",
        "print(\"Welcome to ISYS5002, \", UserName)"
      ],
      "metadata": {
        "colab": {
          "base_uri": "https://localhost:8080/"
        },
        "id": "ppAyoKMfQhlP",
        "outputId": "48410b82-1912-4ddc-9ecf-2c92834d55cc"
      },
      "execution_count": null,
      "outputs": [
        {
          "output_type": "stream",
          "name": "stdout",
          "text": [
            "Welcome to ISYS5002,  Daisy\n"
          ]
        }
      ]
    },
    {
      "cell_type": "markdown",
      "source": [
        "## You try\n",
        "\n",
        "Write a print statement to display the following messages:\n",
        "\n",
        "`Welcome to ISYS5002 Daisy!`\n",
        "\n",
        "`Hello Daisy! Welcome to Python Programming.`\n",
        "\n",
        "Optional:\n",
        "To stay ahead for next week, you can try examples from Gaddis Chapter 2"
      ],
      "metadata": {
        "id": "dM78Acc5SRWH"
      }
    },
    {
      "cell_type": "code",
      "source": [],
      "metadata": {
        "id": "7DjNekdGSamj"
      },
      "execution_count": null,
      "outputs": []
    }
  ]
}