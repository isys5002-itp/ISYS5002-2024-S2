{
  "nbformat": 4,
  "nbformat_minor": 0,
  "metadata": {
    "colab": {
      "provenance": [],
      "include_colab_link": true
    },
    "kernelspec": {
      "name": "python3",
      "display_name": "Python 3"
    },
    "language_info": {
      "name": "python"
    }
  },
  "cells": [
    {
      "cell_type": "markdown",
      "metadata": {
        "id": "view-in-github",
        "colab_type": "text"
      },
      "source": [
        "<a href=\"https://colab.research.google.com/github/isys5002-itp/ISYS5002-2024-S2/blob/main/05_2_paycalc_Mon9am.ipynb\" target=\"_parent\"><img src=\"https://colab.research.google.com/assets/colab-badge.svg\" alt=\"Open In Colab\"/></a>"
      ]
    },
    {
      "cell_type": "code",
      "source": [
        "def user_input():\n",
        "  \"\"\"\n",
        "  This function prompts the user to enter their name, salary, sales, and commission rate and returns these inputs as a tuple.\n",
        "\n",
        "  Inputs:\n",
        "  None\n",
        "\n",
        "  Returns:\n",
        "  name: a string representing the user's name\n",
        "  salary: an integer representing the user's salary\n",
        "  sales: an integer representing the user's sales\n",
        "  comm_rate: a float representing the user's commission rate\n",
        "  \"\"\"\n",
        "\n",
        "  # get user input - name\n",
        "  name = input(\"Please enter name: \")\n",
        "\n",
        "  # get user input for salary\n",
        "  salary = int(input(\"Please enter salary: \"))\n",
        "\n",
        "  # get user input for sales\n",
        "  sales = int(input(\"Please enter sales: \"))\n",
        "\n",
        "  # get user input for commission\n",
        "  comm_rate = float(input(\"Please enter commission rate: \"))\n",
        "\n",
        "  return name, salary, sales, comm_rate"
      ],
      "metadata": {
        "id": "vNqHfkGpRIPh"
      },
      "execution_count": 1,
      "outputs": []
    },
    {
      "cell_type": "code",
      "execution_count": 2,
      "metadata": {
        "id": "noLjEaawPIF_"
      },
      "outputs": [],
      "source": [
        "def calculate_pay(salary, sales, comm):\n",
        "  \"\"\"\n",
        "  This function calculates the commission, tax, and pay for a given salary, sales, and commission rate.\n",
        "\n",
        "  Inputs:\n",
        "  salary: an integer representing the user's salary\n",
        "  sales: an integer representing the user's sales\n",
        "  comm: a float representing the user's commission rate\n",
        "\n",
        "  Returns:\n",
        "  commission: a float representing the commission earned based on the sales and commission rate\n",
        "  tax: a float representing the tax amount calculated based on the salary and commission earned\n",
        "  pay: a float representing the pay after deducting tax from the salary and adding the commission earned\n",
        "  \"\"\"\n",
        "\n",
        "  # calculate the commision\n",
        "  commission = (comm/100) * sales\n",
        "\n",
        "  # calculate the tax\n",
        "  tax = calculate_tax((salary + commission))\n",
        "\n",
        "  # calculate the pay\n",
        "  pay = salary + commission - tax\n",
        "\n",
        "  #print(commission, tax, pay)\n",
        "  return commission, tax, pay"
      ]
    },
    {
      "cell_type": "code",
      "source": [
        "def calculate_tax(income):\n",
        "  if income <= 18200:\n",
        "    tax_payable = 0\n",
        "  elif 18201 <= income <= 45000:\n",
        "    tax_payable = 0.19 * (income - 18200)\n",
        "  elif 45001 <= income <= 120000:\n",
        "    tax_payable = 5092 + 0.32 * (income - 45000)\n",
        "  elif 120001 <= income <= 180000:\n",
        "    tax_payable = 29467 + 0.37 * (income - 120000)\n",
        "  else:\n",
        "    tax_payable = 51667 + 0.45 * (income - 180000)\n",
        "\n",
        "  return tax_payable"
      ],
      "metadata": {
        "id": "5YhQ5_InPVV2"
      },
      "execution_count": 4,
      "outputs": []
    },
    {
      "cell_type": "code",
      "source": [
        "def print_payslip(name, salary, comm_result, tax_result, pay_result):\n",
        "  \"\"\"\n",
        "  This function takes in the name, salary, commission, tax, and pay results as inputs and prints out a nicely formatted payslip for the user.\n",
        "\n",
        "  Inputs:\n",
        "  name: a string representing the user's name\n",
        "  salary: an integer representing the user's salary\n",
        "  comm_result: a float representing the commission earned\n",
        "  tax_result: a float representing the tax amount calculated based on the salary and commission earned\n",
        "  pay_result: a float representing the pay after deducting tax from the salary and adding the commission earned\n",
        "\n",
        "  Outputs:\n",
        "  prints the payslip stream, or to sys.stdout\n",
        "  \"\"\"\n",
        "\n",
        "  # print out the payslip nicely formatted\n",
        "  print(f'\\n=== Payslip of {name} ===')\n",
        "  print(f\"Salary: {salary:9} \\nCommission: {comm_result:2} \\nTax: {tax_result:13} \\nTotal pay: {pay_result:8}\")"
      ],
      "metadata": {
        "id": "f05wtfdvRiaK"
      },
      "execution_count": 5,
      "outputs": []
    }
  ]
}