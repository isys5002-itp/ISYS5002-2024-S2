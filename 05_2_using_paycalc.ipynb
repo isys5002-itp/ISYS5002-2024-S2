{
  "nbformat": 4,
  "nbformat_minor": 0,
  "metadata": {
    "colab": {
      "provenance": [],
      "include_colab_link": true
    },
    "kernelspec": {
      "name": "python3",
      "display_name": "Python 3"
    },
    "language_info": {
      "name": "python"
    }
  },
  "cells": [
    {
      "cell_type": "markdown",
      "metadata": {
        "id": "view-in-github",
        "colab_type": "text"
      },
      "source": [
        "<a href=\"https://colab.research.google.com/github/isys5002-itp/ISYS5002-2024-S2/blob/main/05_2_using_paycalc.ipynb\" target=\"_parent\"><img src=\"https://colab.research.google.com/assets/colab-badge.svg\" alt=\"Open In Colab\"/></a>"
      ]
    },
    {
      "cell_type": "markdown",
      "source": [
        "## import paycalc module"
      ],
      "metadata": {
        "id": "psgn2zwBTZkM"
      }
    },
    {
      "cell_type": "code",
      "source": [
        "import paycalc as pay"
      ],
      "metadata": {
        "id": "1iSGQfwlQL45"
      },
      "execution_count": null,
      "outputs": []
    },
    {
      "cell_type": "markdown",
      "source": [
        "## call the relevant functions from the `paycalc` module to\n",
        "* get user input\n",
        "* calculate the pay\n",
        "* print the payslip"
      ],
      "metadata": {
        "id": "Mq_ihQNxTfX1"
      }
    },
    {
      "cell_type": "code",
      "source": [],
      "metadata": {
        "id": "l-PmDv0fRvQC"
      },
      "execution_count": null,
      "outputs": []
    }
  ]
}