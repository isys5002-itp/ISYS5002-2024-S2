{
  "nbformat": 4,
  "nbformat_minor": 0,
  "metadata": {
    "colab": {
      "provenance": [],
      "authorship_tag": "ABX9TyMe/bnui8JvveP9DYQd4bgJ",
      "include_colab_link": true
    },
    "kernelspec": {
      "name": "python3",
      "display_name": "Python 3"
    },
    "language_info": {
      "name": "python"
    }
  },
  "cells": [
    {
      "cell_type": "markdown",
      "metadata": {
        "id": "view-in-github",
        "colab_type": "text"
      },
      "source": [
        "<a href=\"https://colab.research.google.com/github/isys5002-itp/ISYS5002-2024-S2/blob/main/05_0_Python_Dictionary_Lecture_Demo.ipynb\" target=\"_parent\"><img src=\"https://colab.research.google.com/assets/colab-badge.svg\" alt=\"Open In Colab\"/></a>"
      ]
    },
    {
      "cell_type": "markdown",
      "source": [
        "## Python Dictionaries\n",
        "\n",
        "Dictionaries in Python are powerful data types that allow you to store data in key-value pairs. This structure is incredibly useful for representing real-world data in a way that is easy to understand and manipulate.\n",
        "\n"
      ],
      "metadata": {
        "id": "-cI8eiVRXmvQ"
      }
    },
    {
      "cell_type": "markdown",
      "source": [
        "## Creating a Dictionary\n",
        "\n",
        "You can create a dictionary by enclosing key-value pairs in curly braces `{}`, with keys separated from their corresponding values by a colon `:`.\n",
        "\n",
        "Example:\n",
        "```python\n",
        "my_dict = {'key1': 'value1', 'key2': 'value2'}\n",
        "```\n",
        "\n",
        "### Example: Grade Book\n",
        "\n",
        "Let's consider an example where we use a dictionary to represent a grade book for a class.\n",
        "\n",
        "### The Grade Book Dict\n",
        "\n",
        "In our grade book, each student's name will be a key, and their grades (a list of marks) will be the value associated with that key.\n",
        "\n",
        "Example:\n",
        "```python\n",
        "grade_book = {\n",
        "    'Susan': [92, 85, 100],\n",
        "    'Eduardo': [83, 95, 79],\n",
        "    'Azizi': [91, 89, 82],\n",
        "    'Pantipa': [97, 91, 92]\n",
        "}\n",
        "```\n"
      ],
      "metadata": {
        "id": "uDHGD1afoYxm"
      }
    },
    {
      "cell_type": "code",
      "source": [
        "grade_book = {\n",
        "    'Susan': [92, 85, 100], 'Eduardo': [83, 95, 79], 'Azizi': [91, 89, 82], 'Pantipa': [97, 91, 92]\n",
        "}"
      ],
      "metadata": {
        "id": "uMENZu32mQ0e"
      },
      "execution_count": null,
      "outputs": []
    },
    {
      "cell_type": "code",
      "source": [
        "grade_book"
      ],
      "metadata": {
        "id": "rQkl43MInnpM"
      },
      "execution_count": null,
      "outputs": []
    },
    {
      "cell_type": "code",
      "source": [
        "type(grade_book)"
      ],
      "metadata": {
        "id": "eQ5lrlFMbIeu"
      },
      "execution_count": null,
      "outputs": []
    },
    {
      "cell_type": "code",
      "source": [
        "# Initialize an empty list to hold the second grades of all students\n",
        "second_grades = []\n",
        "\n",
        "# Loop through each value (which is a list of grades) in the grade_book dictionary\n",
        "for grades in grade_book.values():\n",
        "    # Extract the second grade from each list of grades.\n",
        "    # In Python, list indices start at 0, so the second grade is at index 1.\n",
        "    second_grade = grades[1]\n",
        "\n",
        "    # Append this second grade to the second_grades list\n",
        "    second_grades.append(second_grade)\n",
        "\n",
        "# Compute the average of these second grades\n",
        "average_second_grade = sum(second_grades) / len(second_grades)\n",
        "\n",
        "print(average_second_grade)"
      ],
      "metadata": {
        "id": "tEykioz1PKZg"
      },
      "execution_count": null,
      "outputs": []
    },
    {
      "cell_type": "code",
      "source": [
        "second_grades"
      ],
      "metadata": {
        "id": "-qaABZdhbuvd"
      },
      "execution_count": null,
      "outputs": []
    },
    {
      "cell_type": "markdown",
      "source": [
        "\n",
        "\n",
        "### Accessing Data\n",
        "\n",
        "To access a student's grades, you use the student's name (the key) to get the corresponding value (the list of grades):\n",
        "\n",
        "```python\n",
        "print(grade_book['Eduardo'])\n",
        "```\n",
        "\n"
      ],
      "metadata": {
        "id": "YIb2K03GmRLe"
      }
    },
    {
      "cell_type": "code",
      "source": [
        "grade_book"
      ],
      "metadata": {
        "id": "I63hWCJHbUy-"
      },
      "execution_count": null,
      "outputs": []
    },
    {
      "cell_type": "code",
      "source": [
        "# Prints the list of grades associated with 'Eduardo' from the 'grade_book' dictionary.\n",
        "# This command retrieves the value (which is a list of grades) for the key 'Eduardo'\n",
        "# and prints the entire list to the console.\n",
        "\n",
        "print(grade_book['Eduardo'])"
      ],
      "metadata": {
        "id": "bS6t_O36mVkF"
      },
      "execution_count": null,
      "outputs": []
    },
    {
      "cell_type": "code",
      "source": [
        "grade_book['Susan']"
      ],
      "metadata": {
        "id": "vgtTm_xmbaud"
      },
      "execution_count": null,
      "outputs": []
    },
    {
      "cell_type": "code",
      "source": [
        "# Accesses the list of grades associated with 'Eduardo' in the 'grade_book' dictionary\n",
        "# and then retrieves the second grade from that list.\n",
        "# In Python, list indices start at 0, so index 1 corresponds to the second item in the list.\n",
        "\n",
        "grade_book['Eduardo'][1]"
      ],
      "metadata": {
        "id": "2Yduk2lDQX4e"
      },
      "execution_count": null,
      "outputs": []
    },
    {
      "cell_type": "markdown",
      "source": [
        "\n",
        "### Adding Data\n",
        "\n",
        "To add a student's grades to the grade book, you simply assign a new list of grades to a new key in the dictionary:\n",
        "\n",
        "```python\n",
        "grade_book['John'] = [88, 92, 86]\n",
        "```\n"
      ],
      "metadata": {
        "id": "VTm4R50Lnyrk"
      }
    },
    {
      "cell_type": "code",
      "source": [],
      "metadata": {
        "id": "Fp5xmSmHb6bM"
      },
      "execution_count": null,
      "outputs": []
    },
    {
      "cell_type": "markdown",
      "source": [
        "### Modifying Data\n",
        "\n",
        "To modify an existing entry, you assign a new value to the existing key:\n",
        "\n",
        "```python\n",
        "grade_book['Susan'] = [93, 85, 100]  # Susan re-did an assignment and got a higher score on the first one.\n",
        "```"
      ],
      "metadata": {
        "id": "ikHgEYMan1El"
      }
    },
    {
      "cell_type": "code",
      "source": [],
      "metadata": {
        "id": "1VoM4XunnyUE"
      },
      "execution_count": null,
      "outputs": []
    },
    {
      "cell_type": "markdown",
      "source": [
        "### Iterating Over a Dictionary\n",
        "\n",
        "You can iterate over a dictionary using a for loop. This can be done in a few ways, such as by iterating over keys, values, or both.\n",
        "\n",
        "Example - Iterating over keys and values:\n",
        "```python\n",
        "for name, grades in grade_book.items():\n",
        "    print(f\"{name}: {grades}\")\n",
        "```\n",
        "\n",
        "\n"
      ],
      "metadata": {
        "id": "n5PGux08mV5l"
      }
    },
    {
      "cell_type": "code",
      "source": [
        "for name, grades in grade_book.items():\n",
        "    print(f\"{name}: {grades}\")"
      ],
      "metadata": {
        "id": "ls2VyQU3mYEt"
      },
      "execution_count": null,
      "outputs": []
    },
    {
      "cell_type": "markdown",
      "source": [
        "### Calculating Averages\n",
        "\n",
        "Let's calculate the average grade for each student and the overall class average using our grade book:\n",
        "\n",
        "```python\n",
        "all_grades_total = 0\n",
        "all_grades_count = 0\n",
        "\n",
        "for name, grades in grade_book.items():\n",
        "    total = sum(grades)\n",
        "    print(f'Average for {name} is {total/len(grades):.2f}')\n",
        "    all_grades_total += total\n",
        "    all_grades_count += len(grades)\n",
        "\n",
        "print(f\"Class's average is: {all_grades_total / all_grades_count:.2f}\")\n",
        "```\n",
        "\n"
      ],
      "metadata": {
        "id": "2jaoVQl9mYlE"
      }
    },
    {
      "cell_type": "code",
      "source": [],
      "metadata": {
        "id": "Mmmnwct9maOM"
      },
      "execution_count": null,
      "outputs": []
    },
    {
      "cell_type": "markdown",
      "source": [
        "## Conclusion\n",
        "\n",
        "Dictionaries are versatile and can be used in a variety of situations where associating keys with values is useful. They are mutable, which means you can add, remove, or modify elements after the dictionary has been created."
      ],
      "metadata": {
        "id": "GkoCQK_Vmaid"
      }
    }
  ]
}