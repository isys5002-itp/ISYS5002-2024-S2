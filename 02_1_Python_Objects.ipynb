{
  "cells": [
    {
      "cell_type": "markdown",
      "metadata": {
        "id": "view-in-github",
        "colab_type": "text"
      },
      "source": [
        "<a href=\"https://colab.research.google.com/github/isys5002-itp/ISYS5002-2024-S2/blob/main/02_1_Python_Objects.ipynb\" target=\"_parent\"><img src=\"https://colab.research.google.com/assets/colab-badge.svg\" alt=\"Open In Colab\"/></a>"
      ]
    },
    {
      "cell_type": "markdown",
      "id": "990c534e-ee5b-4406-ac98-d3357f3bd7ec",
      "metadata": {
        "id": "990c534e-ee5b-4406-ac98-d3357f3bd7ec"
      },
      "source": [
        "# Python Objects\n",
        "\n",
        "Computers do two things really well. ***Store values*** and ***perform operations*** on those values\n",
        "\n",
        "You might think they’re doing a whole lot more, as you send texts, shop online, or rely on your phone to navigate in your car; however, everything computers do can be broken down into simple operations that are performed on simple values.\n",
        "\n",
        "Now, part of computational thinking is learning to use these operations and values to build something that is much more sophisticated, complex, and meaningful—and we’re going to get to that.\n",
        "\n",
        "First, though, we’re going to take a look at what these values are, the operations you can perform on them, and just what role variables play in all this.\n",
        "\n",
        "# Store Values\n",
        "\n",
        "### What is a value?\n",
        "\n",
        "Because programs are written to process data, you must have a good understanding of the nature and structure of the data being processed.\n",
        "\n",
        "Data within a program may be a single value, such as a number.  In the cell below try some different numbers, say 123, or 31.7."
      ]
    },
    {
      "cell_type": "code",
      "source": [
        "12"
      ],
      "metadata": {
        "id": "wwhyX2j4CZ5t",
        "colab": {
          "base_uri": "https://localhost:8080/"
        },
        "outputId": "b1ad4515-560c-443e-9031-321546de3be2"
      },
      "id": "wwhyX2j4CZ5t",
      "execution_count": null,
      "outputs": [
        {
          "output_type": "execute_result",
          "data": {
            "text/plain": [
              "12"
            ]
          },
          "metadata": {},
          "execution_count": 1
        }
      ]
    },
    {
      "cell_type": "code",
      "execution_count": null,
      "id": "a3506a0d-e007-45b1-920f-d499033baf9f",
      "metadata": {
        "id": "a3506a0d-e007-45b1-920f-d499033baf9f",
        "colab": {
          "base_uri": "https://localhost:8080/"
        },
        "outputId": "b69f375f-6465-425a-ff95-61026fb3e8e2"
      },
      "outputs": [
        {
          "output_type": "execute_result",
          "data": {
            "text/plain": [
              "13.5"
            ]
          },
          "metadata": {},
          "execution_count": 2
        }
      ],
      "source": [
        "13.5"
      ]
    },
    {
      "cell_type": "code",
      "source": [
        "135.5\n",
        "125"
      ],
      "metadata": {
        "colab": {
          "base_uri": "https://localhost:8080/"
        },
        "id": "WnCpKz5bDcr9",
        "outputId": "8809f95c-3906-42af-df63-4862f5eefe22"
      },
      "id": "WnCpKz5bDcr9",
      "execution_count": null,
      "outputs": [
        {
          "output_type": "execute_result",
          "data": {
            "text/plain": [
              "125"
            ]
          },
          "metadata": {},
          "execution_count": 7
        }
      ]
    },
    {
      "cell_type": "markdown",
      "id": "7e26a95d-228d-41e5-8c4e-895765bc23f7",
      "metadata": {
        "id": "7e26a95d-228d-41e5-8c4e-895765bc23f7"
      },
      "source": [
        "Data within a program may be a single value, such as a character.  Are the quotes important? Is 'A' different from 'a'?"
      ]
    },
    {
      "cell_type": "code",
      "execution_count": null,
      "id": "cbd8c919-9732-4f5d-9b82-9209aff137f6",
      "metadata": {
        "id": "cbd8c919-9732-4f5d-9b82-9209aff137f6",
        "colab": {
          "base_uri": "https://localhost:8080/",
          "height": 35
        },
        "outputId": "ee3e9abb-f689-4fe3-ede2-47f42fa32f1d"
      },
      "outputs": [
        {
          "output_type": "execute_result",
          "data": {
            "text/plain": [
              "'A'"
            ],
            "application/vnd.google.colaboratory.intrinsic+json": {
              "type": "string"
            }
          },
          "metadata": {},
          "execution_count": 3
        }
      ],
      "source": [
        "'A'"
      ]
    },
    {
      "cell_type": "code",
      "source": [
        "\"A\""
      ],
      "metadata": {
        "colab": {
          "base_uri": "https://localhost:8080/",
          "height": 35
        },
        "id": "rJgoYdvKDNjG",
        "outputId": "0f7b4353-aea1-4813-ee29-bafbf4aa3a21"
      },
      "id": "rJgoYdvKDNjG",
      "execution_count": null,
      "outputs": [
        {
          "output_type": "execute_result",
          "data": {
            "text/plain": [
              "'A'"
            ],
            "application/vnd.google.colaboratory.intrinsic+json": {
              "type": "string"
            }
          },
          "metadata": {},
          "execution_count": 4
        }
      ]
    },
    {
      "cell_type": "code",
      "source": [
        "'a' # character"
      ],
      "metadata": {
        "colab": {
          "base_uri": "https://localhost:8080/",
          "height": 35
        },
        "id": "htfr2LezDYDO",
        "outputId": "55ba7d44-9fa4-48f1-cb30-e81a60156c22"
      },
      "id": "htfr2LezDYDO",
      "execution_count": null,
      "outputs": [
        {
          "output_type": "execute_result",
          "data": {
            "text/plain": [
              "'a'"
            ],
            "application/vnd.google.colaboratory.intrinsic+json": {
              "type": "string"
            }
          },
          "metadata": {},
          "execution_count": 10
        }
      ]
    },
    {
      "cell_type": "code",
      "source": [
        "'Programming' # string -  a combination of characters"
      ],
      "metadata": {
        "colab": {
          "base_uri": "https://localhost:8080/",
          "height": 35
        },
        "id": "Dsl2PT3NDx2m",
        "outputId": "1712fcc0-cf55-48a6-d83b-bdd75615a875"
      },
      "id": "Dsl2PT3NDx2m",
      "execution_count": null,
      "outputs": [
        {
          "output_type": "execute_result",
          "data": {
            "text/plain": [
              "'Programming'"
            ],
            "application/vnd.google.colaboratory.intrinsic+json": {
              "type": "string"
            }
          },
          "metadata": {},
          "execution_count": 11
        }
      ]
    },
    {
      "cell_type": "markdown",
      "id": "d6583eb9-8381-4de7-b70a-3da9bae50b5b",
      "metadata": {
        "id": "d6583eb9-8381-4de7-b70a-3da9bae50b5b"
      },
      "source": [
        "Data within a program may be a single value, such as true or false.  In programming we call the a booloean value, sometimes abbreviated as bool."
      ]
    },
    {
      "cell_type": "code",
      "execution_count": null,
      "id": "e222c1a7-963f-4ab7-8d95-02fead45cc14",
      "metadata": {
        "id": "e222c1a7-963f-4ab7-8d95-02fead45cc14",
        "colab": {
          "base_uri": "https://localhost:8080/"
        },
        "outputId": "33b54b17-18e6-4e92-c9d0-5384922c1dba"
      },
      "outputs": [
        {
          "output_type": "execute_result",
          "data": {
            "text/plain": [
              "True"
            ]
          },
          "metadata": {},
          "execution_count": 8
        }
      ],
      "source": [
        "True"
      ]
    },
    {
      "cell_type": "code",
      "source": [
        "False"
      ],
      "metadata": {
        "colab": {
          "base_uri": "https://localhost:8080/"
        },
        "id": "yIs1rnl6D7Jm",
        "outputId": "a18ee8ee-1775-41cd-8156-912a833f5d03"
      },
      "id": "yIs1rnl6D7Jm",
      "execution_count": null,
      "outputs": [
        {
          "output_type": "execute_result",
          "data": {
            "text/plain": [
              "False"
            ]
          },
          "metadata": {},
          "execution_count": 12
        }
      ]
    },
    {
      "cell_type": "code",
      "source": [
        "'A' == 'a'"
      ],
      "metadata": {
        "colab": {
          "base_uri": "https://localhost:8080/"
        },
        "id": "i-UjQsiPD8_d",
        "outputId": "57385a2d-3268-4a67-c863-f7fe4dbabe6f"
      },
      "id": "i-UjQsiPD8_d",
      "execution_count": null,
      "outputs": [
        {
          "output_type": "execute_result",
          "data": {
            "text/plain": [
              "False"
            ]
          },
          "metadata": {},
          "execution_count": 13
        }
      ]
    },
    {
      "cell_type": "code",
      "source": [
        "'A' == \"A\" # == means equal"
      ],
      "metadata": {
        "colab": {
          "base_uri": "https://localhost:8080/"
        },
        "id": "8B3THDrmEKNI",
        "outputId": "7c8e9acd-c445-4dab-c227-a66db7ccde5d"
      },
      "id": "8B3THDrmEKNI",
      "execution_count": null,
      "outputs": [
        {
          "output_type": "execute_result",
          "data": {
            "text/plain": [
              "True"
            ]
          },
          "metadata": {},
          "execution_count": 14
        }
      ]
    },
    {
      "cell_type": "code",
      "source": [
        "'A' = \"A\" # '=' means 'assign'"
      ],
      "metadata": {
        "id": "2pGOVCk7EPG3"
      },
      "id": "2pGOVCk7EPG3",
      "execution_count": null,
      "outputs": []
    },
    {
      "cell_type": "markdown",
      "id": "6b5fad28-f83e-4071-8c07-b682f0f8a378",
      "metadata": {
        "id": "6b5fad28-f83e-4071-8c07-b682f0f8a378"
      },
      "source": [
        "Data within a program may be a group items such as a list.  The list could contian the same or different type of values."
      ]
    },
    {
      "cell_type": "code",
      "execution_count": null,
      "id": "45204b84-3142-48dc-bb82-15d07ac5bcb5",
      "metadata": {
        "id": "45204b84-3142-48dc-bb82-15d07ac5bcb5",
        "colab": {
          "base_uri": "https://localhost:8080/"
        },
        "outputId": "75d60d46-8a38-4071-a7fb-aca0c26a28e7"
      },
      "outputs": [
        {
          "output_type": "execute_result",
          "data": {
            "text/plain": [
              "[1, 2, 3, 4]"
            ]
          },
          "metadata": {},
          "execution_count": 15
        }
      ],
      "source": [
        "[1, 2, 3, 4]"
      ]
    },
    {
      "cell_type": "code",
      "source": [
        "['apple', 'banana', 'orange']"
      ],
      "metadata": {
        "colab": {
          "base_uri": "https://localhost:8080/"
        },
        "id": "Cxnr4CJoE8-Q",
        "outputId": "f81b694c-afca-4d18-bae4-b7d69f64f1c5"
      },
      "id": "Cxnr4CJoE8-Q",
      "execution_count": null,
      "outputs": [
        {
          "output_type": "execute_result",
          "data": {
            "text/plain": [
              "['apple', 'banana', 'orange']"
            ]
          },
          "metadata": {},
          "execution_count": 16
        }
      ]
    },
    {
      "cell_type": "code",
      "source": [
        "[12.5, 'apple', 10]"
      ],
      "metadata": {
        "colab": {
          "base_uri": "https://localhost:8080/"
        },
        "id": "0mpJ30tFFBfQ",
        "outputId": "a285809b-d6b1-471a-ff15-d445d452a9e1"
      },
      "id": "0mpJ30tFFBfQ",
      "execution_count": null,
      "outputs": [
        {
          "output_type": "execute_result",
          "data": {
            "text/plain": [
              "[12.5, 'apple', 10]"
            ]
          },
          "metadata": {},
          "execution_count": 17
        }
      ]
    },
    {
      "cell_type": "markdown",
      "source": [
        "*Refer to more data structures at w3schools.\n",
        "https://www.w3schools.com/python/python_datatypes.asp*"
      ],
      "metadata": {
        "id": "K_hGE0m4FHzy"
      },
      "id": "K_hGE0m4FHzy"
    },
    {
      "cell_type": "markdown",
      "id": "5f4d9675-4fac-43f3-a786-e2d82ebd3d3c",
      "metadata": {
        "id": "5f4d9675-4fac-43f3-a786-e2d82ebd3d3c"
      },
      "source": [
        "Data within a program may be a group items such as a string."
      ]
    },
    {
      "cell_type": "code",
      "execution_count": null,
      "id": "a04eb2f0-4f59-47ea-9556-3cba1c88ac1c",
      "metadata": {
        "id": "a04eb2f0-4f59-47ea-9556-3cba1c88ac1c",
        "colab": {
          "base_uri": "https://localhost:8080/",
          "height": 35
        },
        "outputId": "5c628a4c-d988-4ba8-a05d-228bdcc33999"
      },
      "outputs": [
        {
          "output_type": "execute_result",
          "data": {
            "text/plain": [
              "'Apple'"
            ],
            "application/vnd.google.colaboratory.intrinsic+json": {
              "type": "string"
            }
          },
          "metadata": {},
          "execution_count": 20
        }
      ],
      "source": [
        "'Apple' # string"
      ]
    },
    {
      "cell_type": "code",
      "source": [
        "'A'+'p'+'p'+'l'+'e' # group of characters => string"
      ],
      "metadata": {
        "colab": {
          "base_uri": "https://localhost:8080/",
          "height": 35
        },
        "id": "baoETL_lFyu3",
        "outputId": "1d3d728e-d8e6-4a1e-b256-240fcd259945"
      },
      "id": "baoETL_lFyu3",
      "execution_count": null,
      "outputs": [
        {
          "output_type": "execute_result",
          "data": {
            "text/plain": [
              "'Apple'"
            ],
            "application/vnd.google.colaboratory.intrinsic+json": {
              "type": "string"
            }
          },
          "metadata": {},
          "execution_count": 22
        }
      ]
    },
    {
      "cell_type": "markdown",
      "id": "f00208cc-adc9-4a36-92b4-1d54f08c3d7a",
      "metadata": {
        "id": "f00208cc-adc9-4a36-92b4-1d54f08c3d7a"
      },
      "source": [
        "Is there a way to determine the type of an item is? In Python we have a the *`type()`* function. In the cell below, find out the type of  3, 3.0, '3', '3.0'  and [3, 3.0,'3', '3.0'].\n",
        "> We are going to use functions a lot, before long you will understand exactly how they work and even know how to create your own, but for now just think of them as a way to *ask* Python to do some work.  In the cell is known as **calling** the *type* function.  Functions have a name followed by left parenthesis, a data item and end with a right parenthesis."
      ]
    },
    {
      "cell_type": "code",
      "execution_count": null,
      "id": "112bf20b-79c2-43cd-9524-ed3fcd5ff9e0",
      "metadata": {
        "id": "112bf20b-79c2-43cd-9524-ed3fcd5ff9e0",
        "colab": {
          "base_uri": "https://localhost:8080/"
        },
        "outputId": "c16e44f5-48b8-4d09-cdb0-f032d7a8aba9"
      },
      "outputs": [
        {
          "output_type": "execute_result",
          "data": {
            "text/plain": [
              "str"
            ]
          },
          "metadata": {},
          "execution_count": 23
        }
      ],
      "source": [
        "type('A')"
      ]
    },
    {
      "cell_type": "code",
      "source": [
        "type(10)"
      ],
      "metadata": {
        "colab": {
          "base_uri": "https://localhost:8080/"
        },
        "id": "pnIRQp8AGZxg",
        "outputId": "edc07712-65bc-4f05-c3a2-48bae4c69ac0"
      },
      "id": "pnIRQp8AGZxg",
      "execution_count": null,
      "outputs": [
        {
          "output_type": "execute_result",
          "data": {
            "text/plain": [
              "int"
            ]
          },
          "metadata": {},
          "execution_count": 24
        }
      ]
    },
    {
      "cell_type": "code",
      "source": [
        "type('10')"
      ],
      "metadata": {
        "colab": {
          "base_uri": "https://localhost:8080/"
        },
        "id": "sQCQRqmMGbvB",
        "outputId": "117fae09-6bd6-4220-cd29-a9ff3dd8be48"
      },
      "id": "sQCQRqmMGbvB",
      "execution_count": null,
      "outputs": [
        {
          "output_type": "execute_result",
          "data": {
            "text/plain": [
              "str"
            ]
          },
          "metadata": {},
          "execution_count": 25
        }
      ]
    },
    {
      "cell_type": "code",
      "source": [
        "type(12.5)"
      ],
      "metadata": {
        "colab": {
          "base_uri": "https://localhost:8080/"
        },
        "id": "tIdiZuZ1GeSR",
        "outputId": "809550c5-6098-4b1c-f0ef-159b3a77b003"
      },
      "id": "tIdiZuZ1GeSR",
      "execution_count": null,
      "outputs": [
        {
          "output_type": "execute_result",
          "data": {
            "text/plain": [
              "float"
            ]
          },
          "metadata": {},
          "execution_count": 26
        }
      ]
    },
    {
      "cell_type": "markdown",
      "id": "2dda7b13-5322-4cb2-9984-7707075fb87f",
      "metadata": {
        "tags": [],
        "id": "2dda7b13-5322-4cb2-9984-7707075fb87f"
      },
      "source": [
        "What are the different types?  Here is a simple table, we will expand on this later.\n",
        "\n",
        "| Data Type | Python Expressions | Description                   | Example |\n",
        "|-----------|--------------------|-------------------------------|---------|\n",
        "|integer    | int                | A whole numeber               | 143267  |\n",
        "|decimal    | float              | A floating point number       | 3.13159 |\n",
        "|string     | str                | Set of characters in quotes   | \"Hello\" |\n",
        "|boolean    | bool               | anything evaluates true/false | True    |\n",
        "|List       | list               | An ordered list of values     | [1,4,5] |\n",
        "\n",
        "\n",
        "\n",
        "### How do we store values?\n",
        "\n",
        "To be useful we need a way to store values in computer's memory.  To do this we need to be able to identify a location in memory.  We could use a memory address but that could get confusing, Instead we give the location a name, and identifier.  \n",
        "\n",
        "\n",
        "In programming we call this a variable.  A ***variable*** is the name given to a part of the computers memory, designed to store a prticular data item.\n",
        "\n",
        "\n",
        "It is called a variable because the value stored may change or vary as the program executes.\n",
        "\n",
        "\n",
        "The values we typed in above are know as literals. A **literal** is a constant whose *name* is the written representaiton of the value.  <br> A ***constant*** is a data item with a name and a value that will remain the same during the executation of a program.  We will use constants later.\n",
        "\n",
        "\n",
        "To store a value, we create a variable and then assign the value.  To assign  a value we use the equals (**=**) sign."
      ]
    },
    {
      "cell_type": "code",
      "execution_count": null,
      "id": "1a4fdd7b-c2b2-4be3-be60-98fcb3da27d9",
      "metadata": {
        "id": "1a4fdd7b-c2b2-4be3-be60-98fcb3da27d9",
        "colab": {
          "base_uri": "https://localhost:8080/"
        },
        "outputId": "8a3aa848-0c6d-4ff4-dc17-69c65eb5d966"
      },
      "outputs": [
        {
          "output_type": "execute_result",
          "data": {
            "text/plain": [
              "10"
            ]
          },
          "metadata": {},
          "execution_count": 28
        }
      ],
      "source": [
        "10 # literal of type interger - directly used in code"
      ]
    },
    {
      "cell_type": "code",
      "source": [
        "'10' # literal of type string - directly used in code"
      ],
      "metadata": {
        "colab": {
          "base_uri": "https://localhost:8080/",
          "height": 35
        },
        "id": "INoixLSOJVyf",
        "outputId": "25cc5603-471c-4ed2-f98e-c02832f9af7d"
      },
      "id": "INoixLSOJVyf",
      "execution_count": null,
      "outputs": [
        {
          "output_type": "execute_result",
          "data": {
            "text/plain": [
              "'10'"
            ],
            "application/vnd.google.colaboratory.intrinsic+json": {
              "type": "string"
            }
          },
          "metadata": {},
          "execution_count": 29
        }
      ]
    },
    {
      "cell_type": "code",
      "source": [
        "number = 10 # assigning the value 10 of type integer into variable (storage) named 'number'"
      ],
      "metadata": {
        "id": "HOuzw2zoJgv4"
      },
      "id": "HOuzw2zoJgv4",
      "execution_count": null,
      "outputs": []
    },
    {
      "cell_type": "code",
      "source": [
        "number == 12"
      ],
      "metadata": {
        "colab": {
          "base_uri": "https://localhost:8080/"
        },
        "id": "wM30g4uVKNAC",
        "outputId": "932f2355-8919-4d31-cf6a-e29543c934b8"
      },
      "id": "wM30g4uVKNAC",
      "execution_count": null,
      "outputs": [
        {
          "output_type": "execute_result",
          "data": {
            "text/plain": [
              "False"
            ]
          },
          "metadata": {},
          "execution_count": 35
        }
      ]
    },
    {
      "cell_type": "code",
      "source": [
        "Number == 10"
      ],
      "metadata": {
        "colab": {
          "base_uri": "https://localhost:8080/",
          "height": 141
        },
        "collapsed": true,
        "id": "eaKoGT7bJwV5",
        "outputId": "1ef7c06f-9d5e-47f1-e3aa-b24d7f7fae61"
      },
      "id": "eaKoGT7bJwV5",
      "execution_count": null,
      "outputs": [
        {
          "output_type": "error",
          "ename": "NameError",
          "evalue": "name 'Number' is not defined",
          "traceback": [
            "\u001b[0;31m---------------------------------------------------------------------------\u001b[0m",
            "\u001b[0;31mNameError\u001b[0m                                 Traceback (most recent call last)",
            "\u001b[0;32m<ipython-input-37-c42972c10bfc>\u001b[0m in \u001b[0;36m<cell line: 1>\u001b[0;34m()\u001b[0m\n\u001b[0;32m----> 1\u001b[0;31m \u001b[0mNumber\u001b[0m \u001b[0;34m==\u001b[0m \u001b[0;36m10\u001b[0m\u001b[0;34m\u001b[0m\u001b[0;34m\u001b[0m\u001b[0m\n\u001b[0m",
            "\u001b[0;31mNameError\u001b[0m: name 'Number' is not defined"
          ]
        }
      ]
    },
    {
      "cell_type": "markdown",
      "id": "0a2fb99e-a477-4f13-ae2e-510eab3e3d44",
      "metadata": {
        "id": "0a2fb99e-a477-4f13-ae2e-510eab3e3d44"
      },
      "source": [
        "What is the type of a variable?  We can use the ***type()*** function to find out.\n",
        "> Notice how we can use a *variable* just like we use a *value* in the above cells"
      ]
    },
    {
      "cell_type": "code",
      "execution_count": null,
      "id": "41ca8219-83d6-4aca-92bf-3835fdaa19fb",
      "metadata": {
        "id": "41ca8219-83d6-4aca-92bf-3835fdaa19fb",
        "colab": {
          "base_uri": "https://localhost:8080/"
        },
        "outputId": "d67dab80-16b3-4664-98bf-09f453563781"
      },
      "outputs": [
        {
          "output_type": "execute_result",
          "data": {
            "text/plain": [
              "int"
            ]
          },
          "metadata": {},
          "execution_count": 38
        }
      ],
      "source": [
        "type(number)"
      ]
    },
    {
      "cell_type": "code",
      "source": [
        "# Number = 12.5\n",
        "\n",
        "Number = '12.5'"
      ],
      "metadata": {
        "id": "nu58hxaPKwwq"
      },
      "id": "nu58hxaPKwwq",
      "execution_count": null,
      "outputs": []
    },
    {
      "cell_type": "code",
      "source": [
        "type(Number)"
      ],
      "metadata": {
        "id": "5BbuJPwIPO81",
        "colab": {
          "base_uri": "https://localhost:8080/"
        },
        "outputId": "eb9b8b1a-a8f9-42bc-b9af-5447492d5836"
      },
      "id": "5BbuJPwIPO81",
      "execution_count": null,
      "outputs": [
        {
          "output_type": "execute_result",
          "data": {
            "text/plain": [
              "str"
            ]
          },
          "metadata": {},
          "execution_count": 42
        }
      ]
    },
    {
      "cell_type": "markdown",
      "id": "56ca1fd8-bddf-4bd7-af91-6487badc429f",
      "metadata": {
        "id": "56ca1fd8-bddf-4bd7-af91-6487badc429f"
      },
      "source": [
        "We can assign group items to variables"
      ]
    },
    {
      "cell_type": "code",
      "execution_count": null,
      "id": "237a9327-373d-4224-92cf-8d922aa873a5",
      "metadata": {
        "id": "237a9327-373d-4224-92cf-8d922aa873a5"
      },
      "outputs": [],
      "source": [
        "fruits = ['apple', 'banana', 'orange']"
      ]
    },
    {
      "cell_type": "code",
      "source": [
        "fruits"
      ],
      "metadata": {
        "colab": {
          "base_uri": "https://localhost:8080/"
        },
        "id": "3b7UN4JoL-6v",
        "outputId": "18370f48-829a-4017-fb62-1a6db6bba15f"
      },
      "id": "3b7UN4JoL-6v",
      "execution_count": null,
      "outputs": [
        {
          "output_type": "execute_result",
          "data": {
            "text/plain": [
              "['apple', 'banana', 'orange']"
            ]
          },
          "metadata": {},
          "execution_count": 49
        }
      ]
    },
    {
      "cell_type": "markdown",
      "id": "277f56d4-e52a-411d-8cae-5d0a84abde80",
      "metadata": {
        "id": "277f56d4-e52a-411d-8cae-5d0a84abde80"
      },
      "source": [
        "We can change a variable"
      ]
    },
    {
      "cell_type": "code",
      "source": [
        "number = 10"
      ],
      "metadata": {
        "id": "br_drSFYNGRb"
      },
      "id": "br_drSFYNGRb",
      "execution_count": null,
      "outputs": []
    },
    {
      "cell_type": "code",
      "execution_count": null,
      "id": "0256c9c6-fe19-43e6-8945-bff88804d457",
      "metadata": {
        "id": "0256c9c6-fe19-43e6-8945-bff88804d457",
        "colab": {
          "base_uri": "https://localhost:8080/"
        },
        "outputId": "91edd6f6-eb88-4ad2-8a7c-cb18008e4f68"
      },
      "outputs": [
        {
          "output_type": "execute_result",
          "data": {
            "text/plain": [
              "10"
            ]
          },
          "metadata": {},
          "execution_count": 50
        }
      ],
      "source": [
        "number"
      ]
    },
    {
      "cell_type": "code",
      "source": [
        "number1 = number"
      ],
      "metadata": {
        "id": "B583n9NpMFEv"
      },
      "id": "B583n9NpMFEv",
      "execution_count": null,
      "outputs": []
    },
    {
      "cell_type": "code",
      "source": [
        "number1"
      ],
      "metadata": {
        "colab": {
          "base_uri": "https://localhost:8080/"
        },
        "id": "_UmO2-WqMnBS",
        "outputId": "cbb8f432-afe1-40a9-cef7-bd4bd53d0fbf"
      },
      "id": "_UmO2-WqMnBS",
      "execution_count": null,
      "outputs": [
        {
          "output_type": "execute_result",
          "data": {
            "text/plain": [
              "10"
            ]
          },
          "metadata": {},
          "execution_count": 53
        }
      ]
    },
    {
      "cell_type": "code",
      "source": [
        "number1 == number"
      ],
      "metadata": {
        "colab": {
          "base_uri": "https://localhost:8080/"
        },
        "id": "TcJWz_pyNMWs",
        "outputId": "6174c3c3-10b2-4f61-eab5-4a85facf954e"
      },
      "id": "TcJWz_pyNMWs",
      "execution_count": null,
      "outputs": [
        {
          "output_type": "execute_result",
          "data": {
            "text/plain": [
              "True"
            ]
          },
          "metadata": {},
          "execution_count": 58
        }
      ]
    },
    {
      "cell_type": "code",
      "source": [
        "number2 = number1"
      ],
      "metadata": {
        "id": "1sEUdFktMsrh"
      },
      "id": "1sEUdFktMsrh",
      "execution_count": null,
      "outputs": []
    },
    {
      "cell_type": "code",
      "source": [
        "number2"
      ],
      "metadata": {
        "colab": {
          "base_uri": "https://localhost:8080/"
        },
        "id": "9sc8gmpHM7wc",
        "outputId": "ac70ce7c-da12-4fdc-81c3-1c84f3ffcae7"
      },
      "id": "9sc8gmpHM7wc",
      "execution_count": null,
      "outputs": [
        {
          "output_type": "execute_result",
          "data": {
            "text/plain": [
              "10"
            ]
          },
          "metadata": {},
          "execution_count": 55
        }
      ]
    },
    {
      "cell_type": "code",
      "source": [
        "type(number2)"
      ],
      "metadata": {
        "colab": {
          "base_uri": "https://localhost:8080/"
        },
        "id": "oLuuQna3Neqs",
        "outputId": "fa4adfad-408b-4e18-a996-1c5301994c0c"
      },
      "id": "oLuuQna3Neqs",
      "execution_count": null,
      "outputs": [
        {
          "output_type": "execute_result",
          "data": {
            "text/plain": [
              "int"
            ]
          },
          "metadata": {},
          "execution_count": 60
        }
      ]
    },
    {
      "cell_type": "code",
      "source": [
        "number1 + number2"
      ],
      "metadata": {
        "colab": {
          "base_uri": "https://localhost:8080/"
        },
        "id": "MteK10_MNYiU",
        "outputId": "d475b050-bd37-4ec6-9d6a-0cdb48cf8a3b"
      },
      "id": "MteK10_MNYiU",
      "execution_count": null,
      "outputs": [
        {
          "output_type": "execute_result",
          "data": {
            "text/plain": [
              "20"
            ]
          },
          "metadata": {},
          "execution_count": 59
        }
      ]
    },
    {
      "cell_type": "code",
      "source": [
        "number2 = 20"
      ],
      "metadata": {
        "id": "-xIiUG5QNh7m"
      },
      "id": "-xIiUG5QNh7m",
      "execution_count": null,
      "outputs": []
    },
    {
      "cell_type": "code",
      "source": [
        "number1 + number2"
      ],
      "metadata": {
        "colab": {
          "base_uri": "https://localhost:8080/"
        },
        "id": "jl_r_u4xNrpl",
        "outputId": "a3c80448-ff6e-4108-9f26-47151b7f5b44"
      },
      "id": "jl_r_u4xNrpl",
      "execution_count": null,
      "outputs": [
        {
          "output_type": "execute_result",
          "data": {
            "text/plain": [
              "30"
            ]
          },
          "metadata": {},
          "execution_count": 62
        }
      ]
    },
    {
      "cell_type": "code",
      "source": [
        "number1 = 50"
      ],
      "metadata": {
        "id": "bYoBK1EzNyE-"
      },
      "id": "bYoBK1EzNyE-",
      "execution_count": null,
      "outputs": []
    },
    {
      "cell_type": "code",
      "source": [
        "sum = number1 + number2 # do the computation and store the result in a variable"
      ],
      "metadata": {
        "id": "rp0-0-B9N0Z9"
      },
      "id": "rp0-0-B9N0Z9",
      "execution_count": null,
      "outputs": []
    },
    {
      "cell_type": "code",
      "source": [
        "# concatenating string and numeric variable to display the output in presentable way\n",
        "\n",
        "print(\"The sum of\", number1, 'and', number2, 'is', sum)"
      ],
      "metadata": {
        "colab": {
          "base_uri": "https://localhost:8080/"
        },
        "id": "q4tOtyiMOBbi",
        "outputId": "3c7cb6fb-b527-4d3b-b5f0-6a9980d76178"
      },
      "id": "q4tOtyiMOBbi",
      "execution_count": null,
      "outputs": [
        {
          "output_type": "stream",
          "name": "stdout",
          "text": [
            "The sum of 50 and 20 is 70\n"
          ]
        }
      ]
    },
    {
      "cell_type": "markdown",
      "id": "257d6ae7-d4bf-4c75-aae3-800511733978",
      "metadata": {
        "tags": [],
        "id": "257d6ae7-d4bf-4c75-aae3-800511733978"
      },
      "source": [
        "#### Naming rules\n",
        "\n",
        "Variable names must be unique and they are case sensitive.\n",
        "* Only letters, numbers, and the underscore character (_) can be used  ```this.is.not.allowed```\n",
        "* No spaces ```this is not allowed```\n",
        "* No quotes ```“NotAllowed”```\n",
        "* Can’t start with a number ```6notAllowed```\n",
        "* Can't be a keyword  ```import```\n",
        "\n",
        "#### Naming conventions\n",
        "We will learn other naming conventions, but for now\n",
        "* variable names should be meaningful (can someone else understand)\n",
        "* seperate words with underscores ```monthly_sales```  (this is called snake_case)\n",
        "* camel_case e.g.: ```numberOne```\n",
        "\n",
        "\n",
        "\n",
        "# Perform Operations\n",
        "\n",
        "There are six basic computer operations.\n",
        "\n",
        "1. Receive Information.\n",
        "1. Output Information.\n",
        "1. Assign a value to a variable. There are three cases where you may assign a value to variable.\n",
        "    * give data an initial value.\n",
        "    * assign a value as a results of some processing\n",
        "    * to keep a piece of information for later use.\n",
        "1. Perform arithmetic.\n",
        "1. Compare two variables and select appropriate action.\n",
        "1. Repeat a group of actions.\n",
        "\n",
        "> When designing an algorithm you need to keep in mind that the set of instruction written will eventually be performed by a computer.  That is your words and phrases in the pseudocode which are in line with computer operations, the translation form pseudocode to specific programming language becomes quite simple.\n",
        "\n",
        "## Receive Information\n",
        "\n",
        "Python has a **`input`** function that will allow you to enter information form the keyboard."
      ]
    },
    {
      "cell_type": "code",
      "execution_count": null,
      "id": "a92584fc-fa5c-4941-b747-b042849cb114",
      "metadata": {
        "id": "a92584fc-fa5c-4941-b747-b042849cb114",
        "colab": {
          "base_uri": "https://localhost:8080/"
        },
        "outputId": "bb0b73bb-efc3-46f8-e9df-d58b8acbce25"
      },
      "outputs": [
        {
          "name": "stdout",
          "output_type": "stream",
          "text": [
            "Please enter the first number: 12\n"
          ]
        }
      ],
      "source": [
        "str_Number1 = input(\"Please enter the first number: \") # input function always read and store the value from keyboard (user) as string"
      ]
    },
    {
      "cell_type": "code",
      "source": [
        "str_Number2 = input(\"Please enter the second number: \")"
      ],
      "metadata": {
        "colab": {
          "base_uri": "https://localhost:8080/"
        },
        "id": "coInymuiSjJI",
        "outputId": "a48248ae-cdbc-4445-ccbe-7bee1eebdbd4"
      },
      "id": "coInymuiSjJI",
      "execution_count": null,
      "outputs": [
        {
          "name": "stdout",
          "output_type": "stream",
          "text": [
            "Please enter the second number: 13\n"
          ]
        }
      ]
    },
    {
      "cell_type": "code",
      "source": [
        "str_result = str_Number1 + str_Number2"
      ],
      "metadata": {
        "id": "Uu5ZizkDSnOw"
      },
      "id": "Uu5ZizkDSnOw",
      "execution_count": null,
      "outputs": []
    },
    {
      "cell_type": "code",
      "source": [
        "print(\"The sum of\", str_Number1, 'and', str_Number2, 'is', str_result)"
      ],
      "metadata": {
        "colab": {
          "base_uri": "https://localhost:8080/"
        },
        "id": "37Ayms5TSsTA",
        "outputId": "3cc8cdf3-42c7-46bf-e4c2-f6860a705626"
      },
      "id": "37Ayms5TSsTA",
      "execution_count": null,
      "outputs": [
        {
          "output_type": "stream",
          "name": "stdout",
          "text": [
            "The sum of 12 and 13 is 1213\n"
          ]
        }
      ]
    },
    {
      "cell_type": "code",
      "source": [
        "Number1 = int(str_Number1) # conversion of data type from string to int\n",
        "Number2 = int(str_Number2)"
      ],
      "metadata": {
        "id": "9l0TWS2-R__O"
      },
      "id": "9l0TWS2-R__O",
      "execution_count": null,
      "outputs": []
    },
    {
      "cell_type": "code",
      "source": [
        "result = Number1 + Number2"
      ],
      "metadata": {
        "id": "tW4DwqiJTmF5"
      },
      "id": "tW4DwqiJTmF5",
      "execution_count": null,
      "outputs": []
    },
    {
      "cell_type": "code",
      "source": [
        "print(\"The sum of\", Number1, 'and', Number2, 'is', result)"
      ],
      "metadata": {
        "colab": {
          "base_uri": "https://localhost:8080/"
        },
        "id": "Cv90gErBSHsW",
        "outputId": "9d55b83f-1cb6-4586-9d5f-136346798e93"
      },
      "id": "Cv90gErBSHsW",
      "execution_count": null,
      "outputs": [
        {
          "output_type": "stream",
          "name": "stdout",
          "text": [
            "The sum of 12 and 13 is 25\n"
          ]
        }
      ]
    },
    {
      "cell_type": "markdown",
      "id": "fb98df5c-aaba-47c6-b210-a69c413ed123",
      "metadata": {
        "id": "fb98df5c-aaba-47c6-b210-a69c413ed123"
      },
      "source": [
        "How does *input* work?\n",
        "1. The interpreter see the call to the ***input*** function, it take the prompt text and displays it for the user\n",
        "2. The interpreter then waits for the user to type in a repsonse, which the user completes by pressing the return key (also called the enter key)\n",
        "3. Finally the text the user types in is passed back to your code.\n",
        "\n",
        "Now, the text isn't going to be useful if we cant remember it for later.  To do this we store the *return value* to a variable"
      ]
    },
    {
      "cell_type": "code",
      "execution_count": null,
      "id": "5636b5db-1114-40bb-a88f-47874c11890e",
      "metadata": {
        "id": "5636b5db-1114-40bb-a88f-47874c11890e"
      },
      "outputs": [],
      "source": []
    },
    {
      "cell_type": "markdown",
      "id": "25087e0c-c18a-4478-b79a-01fbcefb8bc9",
      "metadata": {
        "id": "25087e0c-c18a-4478-b79a-01fbcefb8bc9"
      },
      "source": [
        "## Output Information\n",
        "\n",
        "Python has a ***print*** function that can output a message to the screen"
      ]
    },
    {
      "cell_type": "code",
      "execution_count": null,
      "id": "f600bbf8-e6d3-44f3-8301-86952bf50156",
      "metadata": {
        "id": "f600bbf8-e6d3-44f3-8301-86952bf50156"
      },
      "outputs": [],
      "source": []
    },
    {
      "cell_type": "markdown",
      "id": "5964a396-2596-47ba-b7b9-ca950cc6fa52",
      "metadata": {
        "id": "5964a396-2596-47ba-b7b9-ca950cc6fa52"
      },
      "source": [
        "The interpreter sees the call to the ***print*** function, it takes the message text and displys it to the user.\n",
        "\n",
        "Can we print variables?"
      ]
    },
    {
      "cell_type": "code",
      "execution_count": null,
      "id": "d09bdd9a-f5f0-426e-baf6-3d20472f19a5",
      "metadata": {
        "id": "d09bdd9a-f5f0-426e-baf6-3d20472f19a5"
      },
      "outputs": [],
      "source": []
    },
    {
      "cell_type": "markdown",
      "id": "77cb490e-4c83-4073-97b2-0c8ca66f0158",
      "metadata": {
        "id": "77cb490e-4c83-4073-97b2-0c8ca66f0158"
      },
      "source": [
        "As you can see the *print* function will take a **literial** or a **variable**.  We will see later that the *print* function can do more, but this is a good start.\n",
        "\n",
        "## Assign a value to a variable\n",
        "\n",
        "We have seen each of three cases, but I will repeat here for clarity.\n",
        "\n",
        "I have added some **comments** to the code.  Comments are just notes after the # marks.  We use comments to explain the purpose of the code.  Comments can be thought of as helpful pseudocode."
      ]
    },
    {
      "cell_type": "code",
      "execution_count": null,
      "id": "9311e0b3-9933-4839-8263-a8c963bcef03",
      "metadata": {
        "id": "9311e0b3-9933-4839-8263-a8c963bcef03"
      },
      "outputs": [],
      "source": [
        "# example of giving a variable an initial value\n",
        "\n",
        "\n",
        "# example of assigning a value as a result of some processing\n",
        "\n",
        "\n",
        "# example of using a piece of information later\n",
        "\n"
      ]
    },
    {
      "cell_type": "markdown",
      "id": "7882c412-459a-413f-aed8-44bd52789a47",
      "metadata": {
        "id": "7882c412-459a-413f-aed8-44bd52789a47"
      },
      "source": [
        "## Perform Arithmetic\n",
        "\n",
        "\n",
        "| Operation | Description           | Example       |  Result  |\n",
        "|:---------:|-----------------------|---------------|----------|\n",
        "| ```+```   | Addition              | ```3 + 2.2``` | ```5.2```|\n",
        "| ```-```   | Subtraction           | ```5 - 2```   | ```3```  |\n",
        "| ```*```   | Multiplication        | ```3 * 8```   | ```24``` |\n",
        "| ```**```  | Raise to the power of | ```3 ** 2```  | ```9```  |\n",
        "| ```/```   | Division              | ```5/2```     | ```2.5```|\n",
        "| ```//```  | Integer Division      | ```5/2```     | ```2```  |\n",
        "| ```%```   | Modulo                | ```5%2```     | ```1```  |\n",
        "\n",
        "Use the cell below to try out some of the examples"
      ]
    },
    {
      "cell_type": "code",
      "execution_count": null,
      "id": "4f02a3c4-92df-4b56-9699-8627467a6e14",
      "metadata": {
        "id": "4f02a3c4-92df-4b56-9699-8627467a6e14"
      },
      "outputs": [],
      "source": []
    },
    {
      "cell_type": "markdown",
      "id": "26d55bd3-e43b-4bb4-b0f9-cc3c46152ea0",
      "metadata": {
        "id": "26d55bd3-e43b-4bb4-b0f9-cc3c46152ea0"
      },
      "source": [
        "```3 + 2.2``` is called an expression.  When you evaluate an expression you can store the result into a variable"
      ]
    },
    {
      "cell_type": "code",
      "execution_count": null,
      "id": "b9db7b35-3936-48a4-b3ae-957fc9ac6468",
      "metadata": {
        "id": "b9db7b35-3936-48a4-b3ae-957fc9ac6468"
      },
      "outputs": [],
      "source": []
    },
    {
      "cell_type": "markdown",
      "id": "37f7414e-0a5f-42ba-9e21-e37ab1e1a27e",
      "metadata": {
        "id": "37f7414e-0a5f-42ba-9e21-e37ab1e1a27e"
      },
      "source": [
        "You can print expresisons"
      ]
    },
    {
      "cell_type": "code",
      "execution_count": null,
      "id": "9bb15522-6a92-40a1-b83e-571081a9b66d",
      "metadata": {
        "id": "9bb15522-6a92-40a1-b83e-571081a9b66d"
      },
      "outputs": [],
      "source": []
    },
    {
      "cell_type": "markdown",
      "id": "99c9524a-68a8-41c9-9266-1ce1f07e39ec",
      "metadata": {
        "id": "99c9524a-68a8-41c9-9266-1ce1f07e39ec"
      },
      "source": [
        "Can perform arithmetic with variables"
      ]
    },
    {
      "cell_type": "code",
      "execution_count": null,
      "id": "1b877516-548e-4f00-88c2-d9ce1651d2c0",
      "metadata": {
        "id": "1b877516-548e-4f00-88c2-d9ce1651d2c0"
      },
      "outputs": [],
      "source": []
    },
    {
      "cell_type": "markdown",
      "id": "07d15980-3e1a-4a0c-8e68-599c09591dda",
      "metadata": {
        "id": "07d15980-3e1a-4a0c-8e68-599c09591dda"
      },
      "source": [
        "Lets sum two number input form the user"
      ]
    },
    {
      "cell_type": "code",
      "execution_count": null,
      "id": "3c090a42-004e-4922-bd72-ed59ff88cb53",
      "metadata": {
        "id": "3c090a42-004e-4922-bd72-ed59ff88cb53"
      },
      "outputs": [],
      "source": []
    },
    {
      "cell_type": "markdown",
      "id": "9e2da386-c608-408e-9dee-af674c646c06",
      "metadata": {
        "id": "9e2da386-c608-408e-9dee-af674c646c06"
      },
      "source": [
        "What happened?  It didn't add the input, it joined(concatenated) the input.  Lets run the next two cell to investigate."
      ]
    },
    {
      "cell_type": "code",
      "execution_count": null,
      "id": "43dc5d55-891a-4667-888c-63a681ba0a26",
      "metadata": {
        "id": "43dc5d55-891a-4667-888c-63a681ba0a26"
      },
      "outputs": [],
      "source": []
    },
    {
      "cell_type": "code",
      "execution_count": null,
      "id": "3abe5441-1764-49eb-9f25-ccce75269cdd",
      "metadata": {
        "id": "3abe5441-1764-49eb-9f25-ccce75269cdd"
      },
      "outputs": [],
      "source": []
    },
    {
      "cell_type": "markdown",
      "id": "2afd9f3d-c0d9-421c-bfe5-f76538b82793",
      "metadata": {
        "id": "2afd9f3d-c0d9-421c-bfe5-f76538b82793"
      },
      "source": [
        "So the data type of the variables were string.  So the *input* function must return a *str* data type.\n",
        "\n",
        "There is a way we can convert, we can use the *int* function.  So \"12\" is a string os the characters '1' followed by the character '2'.  To convert the string we use the int(\"12\"), and this will return the number 12."
      ]
    },
    {
      "cell_type": "code",
      "execution_count": null,
      "id": "c3e8c802-0638-4b59-9067-24fbb94acca6",
      "metadata": {
        "id": "c3e8c802-0638-4b59-9067-24fbb94acca6"
      },
      "outputs": [],
      "source": []
    },
    {
      "cell_type": "markdown",
      "id": "73a4d763-46da-4c8d-a61c-3acfa8e336b5",
      "metadata": {
        "id": "73a4d763-46da-4c8d-a61c-3acfa8e336b5"
      },
      "source": [
        "## Compare Two Variables\n",
        "\n",
        "Here is a simple program prints out the maximun of two numbers.  This also demonstrates some features of the Python language.\n",
        "\n",
        "> New lines are used to separate logical statements (similar to a period at the end of a sentence).\n",
        ">\n",
        "> Whitespaces (spaces and tabs) are used to indicate which statements should be grouped together (called blocks)\n",
        ">\n",
        "> Colons (:) are used to indicate the continuation of an idea at a deeper level.\n",
        "\n",
        "Try changing the numbers, and rerun the cell.  What happens if you swap **>** for **<** ?   \n",
        "\n",
        "We use a *relational operator* to ask a True/False question about the relationship between two variables.  The following table show the relational operators used in Python.\n",
        "\n",
        "\n",
        "| Operation | Description            | Example           |  Result     |\n",
        "|:---------:|------------------------|-------------------|-------------|\n",
        "| ```<```   | Less than              | ```3 < 2```       | ```False``` |\n",
        "| ```>```   | Greater than           | ```3 > 2```       | ```True```  |\n",
        "| ```<=```  | Less than or equal     | ```3 <= 2```      | ```False``` |\n",
        "| ```>=```  | greater than or equal  | ```3 >= 2```      | ```True```  |\n",
        "| ```==```  | equal to               | ```3 == 2```      | ```False``` |\n",
        "| ```!=```  | not equal to           | ```3 != 2```      | ```True```  |\n",
        "| ```not``` | not                    | ```not(3 == 2)``` | ```True```  |"
      ]
    },
    {
      "cell_type": "code",
      "execution_count": null,
      "id": "b51f5001-2df5-42d1-99e8-850a4994048a",
      "metadata": {
        "colab": {
          "base_uri": "https://localhost:8080/"
        },
        "id": "b51f5001-2df5-42d1-99e8-850a4994048a",
        "outputId": "c7a2619b-dd42-49b3-e2a9-0d5959fdb57d"
      },
      "outputs": [
        {
          "output_type": "stream",
          "name": "stdout",
          "text": [
            "Second number is bigger\n"
          ]
        }
      ],
      "source": [
        "first_number = 30\n",
        "second_number = 23\n",
        "\n",
        "if first_number > second_number:\n",
        "  print(\"First number is bigger\")\n",
        "else:\n",
        "  print(\"Second number is bigger\")"
      ]
    },
    {
      "cell_type": "code",
      "source": [
        "first_number = 31\n",
        "second_number = 31\n",
        "\n",
        "if first_number > second_number:\n",
        "  print(\"First number is bigger\")\n",
        "elif first_number < second_number:\n",
        "  print(\"Second number is bigger\")\n",
        "else:\n",
        "  print(\"First number is same as second number\")"
      ],
      "metadata": {
        "colab": {
          "base_uri": "https://localhost:8080/"
        },
        "id": "AoEoOGJIUiBc",
        "outputId": "a4087653-7b9f-42ea-85ce-f0c9e196ccdc"
      },
      "id": "AoEoOGJIUiBc",
      "execution_count": null,
      "outputs": [
        {
          "output_type": "stream",
          "name": "stdout",
          "text": [
            "First number is same as second number\n"
          ]
        }
      ]
    },
    {
      "cell_type": "markdown",
      "source": [
        "Putting earlier activity together"
      ],
      "metadata": {
        "id": "55NGdEr-VY2S"
      },
      "id": "55NGdEr-VY2S"
    },
    {
      "cell_type": "code",
      "source": [
        "str_Number1 = input(\"Please enter the first number: \")\n",
        "str_Number2 = input(\"Please enter the second number: \")\n",
        "\n",
        "Number1 = int(str_Number1) # conversion of data type from string to int\n",
        "Number2 = int(str_Number2)\n",
        "\n",
        "result = Number1 + Number2\n",
        "print(\"The sum of\", Number1, 'and', Number2, 'is', result)\n",
        "\n",
        "first_number = Number1\n",
        "second_number = Number2\n",
        "\n",
        "if first_number > second_number:\n",
        "  print(\"First number is bigger\")\n",
        "elif first_number < second_number:\n",
        "  print(\"Second number is bigger\")\n",
        "else:\n",
        "  print(\"First number is same as second number\")"
      ],
      "metadata": {
        "colab": {
          "base_uri": "https://localhost:8080/"
        },
        "id": "88R4_m25VFTG",
        "outputId": "4aabc5a9-bb7b-4379-831e-a6207e1d5bbf"
      },
      "id": "88R4_m25VFTG",
      "execution_count": null,
      "outputs": [
        {
          "output_type": "stream",
          "name": "stdout",
          "text": [
            "Please enter the first number: 25\n",
            "Please enter the second number: 25\n",
            "The sum of 25 and 25 is 50\n",
            "First number is same as second number\n"
          ]
        }
      ]
    },
    {
      "cell_type": "markdown",
      "id": "3f2fd3f9-31d2-49a1-84bc-9b71fe393a77",
      "metadata": {
        "id": "3f2fd3f9-31d2-49a1-84bc-9b71fe393a77"
      },
      "source": [
        "Notice the keyword are highlighted in a different colour.  This example uses a boolean expresison: ```first_number > second_number```.  A boolean expression is an *epxression* the evaluates to *True* or *False*.  The expresiosn uses a *relational operator*.  \n",
        "\n",
        " Can you write a version that prompts the user for the numbers?  What happens if you enter in the same number?"
      ]
    },
    {
      "cell_type": "code",
      "execution_count": null,
      "id": "137a88a9-e2eb-4ace-b1cc-b7fdf260941e",
      "metadata": {
        "id": "137a88a9-e2eb-4ace-b1cc-b7fdf260941e"
      },
      "outputs": [],
      "source": []
    },
    {
      "cell_type": "code",
      "execution_count": null,
      "id": "7eb27a8b-f622-456b-9a87-bd9a3073ec30",
      "metadata": {
        "id": "7eb27a8b-f622-456b-9a87-bd9a3073ec30"
      },
      "outputs": [],
      "source": []
    },
    {
      "cell_type": "markdown",
      "id": "54c8ec64-39d6-4e96-afb1-d36615f738bb",
      "metadata": {
        "id": "54c8ec64-39d6-4e96-afb1-d36615f738bb"
      },
      "source": [
        "#### Repeat a group of actions\n",
        "\n",
        "Lets say I want to print out a countdown.  I could do a print statement for each."
      ]
    },
    {
      "cell_type": "code",
      "execution_count": null,
      "id": "9e953c23-894f-48e8-a2ed-981e5e698af2",
      "metadata": {
        "id": "9e953c23-894f-48e8-a2ed-981e5e698af2"
      },
      "outputs": [],
      "source": [
        "print(10)\n",
        "print(9)\n",
        "print(8)\n",
        "print(7)\n",
        "print(6)\n",
        "print(5)\n",
        "print(4)\n",
        "print(3)\n",
        "print(2)\n",
        "print(1)\n",
        "print(\"Blast Off!\")"
      ]
    },
    {
      "cell_type": "markdown",
      "id": "eda408c4-53ac-4250-8982-4b96f62e75d8",
      "metadata": {
        "id": "eda408c4-53ac-4250-8982-4b96f62e75d8"
      },
      "source": [
        "Notice that each line is very similar, a print statement, and just printing out a different number.\n",
        "\n",
        "It turns out, repeating something is very common in programming and all languages provide way to do this easier.  In Python we can use the *for* loop. We will use a list of numbers.  Recall in Python a *list* is ordered.   There are other way to do this, but this notebook is to just give us a understanding.  We will explore loops in more detail in later notebooks."
      ]
    },
    {
      "cell_type": "code",
      "execution_count": null,
      "id": "ca532d99-2994-46f4-a3a8-64506790c51a",
      "metadata": {
        "id": "ca532d99-2994-46f4-a3a8-64506790c51a"
      },
      "outputs": [],
      "source": []
    }
  ],
  "metadata": {
    "kernelspec": {
      "display_name": "Python 3 (ipykernel)",
      "language": "python",
      "name": "python3"
    },
    "language_info": {
      "codemirror_mode": {
        "name": "ipython",
        "version": 3
      },
      "file_extension": ".py",
      "mimetype": "text/x-python",
      "name": "python",
      "nbconvert_exporter": "python",
      "pygments_lexer": "ipython3",
      "version": "3.9.7"
    },
    "colab": {
      "provenance": [],
      "include_colab_link": true
    }
  },
  "nbformat": 4,
  "nbformat_minor": 5
}