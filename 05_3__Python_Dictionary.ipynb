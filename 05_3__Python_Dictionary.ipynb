{
  "cells": [
    {
      "cell_type": "markdown",
      "metadata": {
        "id": "view-in-github",
        "colab_type": "text"
      },
      "source": [
        "<a href=\"https://colab.research.google.com/github/isys5002-itp/ISYS5002-2024-S2/blob/main/05_3__Python_Dictionary.ipynb\" target=\"_parent\"><img src=\"https://colab.research.google.com/assets/colab-badge.svg\" alt=\"Open In Colab\"/></a>"
      ]
    },
    {
      "cell_type": "markdown",
      "id": "e4d8cca6",
      "metadata": {
        "id": "e4d8cca6"
      },
      "source": [
        "\n",
        "# Managing Student Data with Python\n",
        "\n",
        "In this lesson, we'll explore different methods of managing student data for a course. We'll begin with a simple approach using lists and then demonstrate the power of dictionaries for more effective data management. Finally, we'll expand our data model to include not just student IDs and marks, but also names, showcasing the flexibility of dictionaries.\n"
      ]
    },
    {
      "cell_type": "markdown",
      "id": "2f8d270e",
      "metadata": {
        "id": "2f8d270e"
      },
      "source": [
        "\n",
        "## Introduction to Python Lists and Dictionaries\n",
        "\n",
        "- **Lists** are ordered collections of items that can be of mixed types. Lists are mutable, allowing modification after creation.\n",
        "- **Dictionaries** are unordered collections of key-value pairs. They allow for fast retrieval, addition, and removal of items by key.\n"
      ]
    },
    {
      "cell_type": "markdown",
      "id": "8867d81c",
      "metadata": {
        "id": "8867d81c"
      },
      "source": [
        "\n",
        "### Part 1: Storing Student Data with Lists\n",
        "\n",
        "Initially, we might consider using lists to store student IDs and their corresponding marks. Let's see how that would look.\n"
      ]
    },
    {
      "cell_type": "code",
      "execution_count": null,
      "id": "071ce1a7",
      "metadata": {
        "id": "071ce1a7"
      },
      "outputs": [],
      "source": [
        "student_ids = ['S001', 'S002', 'S003', 'S004']\n",
        "student_marks = [88, 92, 75, 63]\n",
        "\n",
        "# Accessing the mark of the second student\n",
        "print(f\"Mark of student {student_ids[1]}: {student_marks[1]}\")\n"
      ]
    },
    {
      "cell_type": "code",
      "source": [
        "student_ids = ['S001', 'S002', 'S003', 'S004']\n",
        "student_marks = [88, 92, 75, 63]\n",
        "\n",
        "# Accessing the mark of the second student\n",
        "print(f\"Mark of student {student_ids[0]}: {student_marks[0]}\")"
      ],
      "metadata": {
        "id": "ErqTpbO4pJ3E"
      },
      "id": "ErqTpbO4pJ3E",
      "execution_count": null,
      "outputs": []
    },
    {
      "cell_type": "markdown",
      "id": "5dd8067d",
      "metadata": {
        "id": "5dd8067d"
      },
      "source": [
        "\n",
        "While lists allow us to store related data, maintaining two parallel lists can be cumbersome and error-prone, especially as data grows or changes.\n"
      ]
    },
    {
      "cell_type": "markdown",
      "id": "415f8435",
      "metadata": {
        "id": "415f8435"
      },
      "source": [
        "\n",
        "## Transitioning to Dictionaries\n",
        "\n",
        "Dictionaries provide a more robust and intuitive way to link student IDs directly to their marks, eliminating the need for parallel lists.\n"
      ]
    },
    {
      "cell_type": "markdown",
      "id": "3e5014b0",
      "metadata": {
        "id": "3e5014b0"
      },
      "source": [
        "\n",
        "### Part 2: Improving with Dictionaries\n",
        "\n",
        "Now, let's reimplement our data storage using a dictionary.\n"
      ]
    },
    {
      "cell_type": "code",
      "execution_count": null,
      "id": "bd0449d5",
      "metadata": {
        "id": "bd0449d5"
      },
      "outputs": [],
      "source": [
        "\n",
        "student_marks = {\n",
        "    'S001': 88,\n",
        "    'S002': 92,\n",
        "    'S003': 75,\n",
        "    'S004': 63\n",
        "}\n",
        "\n",
        "# Accessing the mark of student S002\n",
        "print(f\"Mark of student S002: {student_marks['S002']}\")\n"
      ]
    },
    {
      "cell_type": "code",
      "source": [
        "student_marks['S003']"
      ],
      "metadata": {
        "id": "xsn3YBhqWO1a"
      },
      "id": "xsn3YBhqWO1a",
      "execution_count": null,
      "outputs": []
    },
    {
      "cell_type": "markdown",
      "id": "e0ac3295",
      "metadata": {
        "id": "e0ac3295"
      },
      "source": [
        "\n",
        "### Part 3: Expanding the Data Model\n",
        "\n",
        "Dictionaries aren't just limited to storing pairs of keys and values; they can store complex nested data. Let's expand our model to include student names.\n"
      ]
    },
    {
      "cell_type": "code",
      "execution_count": null,
      "id": "bd82a7e6",
      "metadata": {
        "id": "bd82a7e6"
      },
      "outputs": [],
      "source": [
        "\n",
        "student_info = {\n",
        "    'S001': {'name': 'Alice', 'mark': 88},\n",
        "    'S002': {'name': 'Bob', 'mark': 92},\n",
        "    'S003': {'name': 'Charlie', 'mark': 75},\n",
        "    'S004': {'name': 'Diana', 'mark': 63}\n",
        "}\n",
        "\n",
        "# Accessing the name and mark of student S002\n",
        "student = student_info['S002']\n",
        "print(f\"Name: {student['name']}, Mark: {student['mark']}\")\n"
      ]
    },
    {
      "cell_type": "code",
      "source": [
        "student = student_info['S002']\n",
        "student"
      ],
      "metadata": {
        "id": "B6_zS05JWplU"
      },
      "id": "B6_zS05JWplU",
      "execution_count": null,
      "outputs": []
    },
    {
      "cell_type": "code",
      "source": [
        "student['name']"
      ],
      "metadata": {
        "id": "soXzTE30W2hN"
      },
      "id": "soXzTE30W2hN",
      "execution_count": null,
      "outputs": []
    },
    {
      "cell_type": "code",
      "source": [
        "student['mark']"
      ],
      "metadata": {
        "id": "R2CFmZpdW7Xc"
      },
      "id": "R2CFmZpdW7Xc",
      "execution_count": null,
      "outputs": []
    },
    {
      "cell_type": "markdown",
      "id": "95302522",
      "metadata": {
        "id": "95302522"
      },
      "source": [
        "\n",
        "## Conclusion\n",
        "\n",
        "Through this lesson, we've seen how to evolve from using lists to dictionaries for managing student data, demonstrating the increased efficiency and flexibility dictionaries provide. We also explored nested dictionaries for handling more complex data structures.\n",
        "\n",
        "### Exercises\n",
        "\n",
        "1. Add a new student to the `student_info` dictionary.\n",
        "2. Update the mark for a student.\n",
        "3. Remove a student from the `student_info` dictionary.\n",
        "4. Iterate over the `student_info` dictionary to print out each student's name and mark.\n"
      ]
    },
    {
      "cell_type": "code",
      "source": [
        "# Add a new student to the student_info dictionary.\n"
      ],
      "metadata": {
        "id": "Wo4ghNztZUyK"
      },
      "id": "Wo4ghNztZUyK",
      "execution_count": null,
      "outputs": []
    },
    {
      "cell_type": "code",
      "source": [],
      "metadata": {
        "id": "EtVkaaMqZvFk"
      },
      "id": "EtVkaaMqZvFk",
      "execution_count": null,
      "outputs": []
    },
    {
      "cell_type": "code",
      "source": [
        "# Update the mark for a student.\n"
      ],
      "metadata": {
        "id": "TWGsW2qEZUoa"
      },
      "id": "TWGsW2qEZUoa",
      "execution_count": null,
      "outputs": []
    },
    {
      "cell_type": "code",
      "source": [],
      "metadata": {
        "id": "n1ceAK6RZ-bU"
      },
      "id": "n1ceAK6RZ-bU",
      "execution_count": null,
      "outputs": []
    },
    {
      "cell_type": "code",
      "source": [
        "# Remove a student from the student_info dictionary\n",
        "# pop Method: The pop method removes the specified key from the dictionary and returns the corresponding value.\n"
      ],
      "metadata": {
        "id": "X1anX-W9ZUfr"
      },
      "id": "X1anX-W9ZUfr",
      "execution_count": null,
      "outputs": []
    },
    {
      "cell_type": "code",
      "source": [],
      "metadata": {
        "id": "eoDZpZcDaqgl"
      },
      "id": "eoDZpZcDaqgl",
      "execution_count": null,
      "outputs": []
    },
    {
      "cell_type": "code",
      "source": [
        "# del Statement: The del statement deletes a key-value pair from the dictionary."
      ],
      "metadata": {
        "id": "xxF2Q8WBaoJE"
      },
      "id": "xxF2Q8WBaoJE",
      "execution_count": null,
      "outputs": []
    },
    {
      "cell_type": "code",
      "source": [],
      "metadata": {
        "id": "_4v4RSk7ayot"
      },
      "id": "_4v4RSk7ayot",
      "execution_count": null,
      "outputs": []
    },
    {
      "cell_type": "code",
      "source": [
        "# Iterate over the student_info dictionary to print out each student's name and mark.\n",
        "\n"
      ],
      "metadata": {
        "id": "pYHNWFalZUWT"
      },
      "id": "pYHNWFalZUWT",
      "execution_count": null,
      "outputs": []
    }
  ],
  "metadata": {
    "colab": {
      "provenance": [],
      "include_colab_link": true
    },
    "language_info": {
      "name": "python"
    },
    "kernelspec": {
      "name": "python3",
      "display_name": "Python 3"
    }
  },
  "nbformat": 4,
  "nbformat_minor": 5
}