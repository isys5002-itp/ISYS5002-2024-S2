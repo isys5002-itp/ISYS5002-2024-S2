{
  "nbformat": 4,
  "nbformat_minor": 0,
  "metadata": {
    "colab": {
      "provenance": [],
      "authorship_tag": "ABX9TyN+AFl7iAMUofrTlEcV+I5Q",
      "include_colab_link": true
    },
    "kernelspec": {
      "name": "python3",
      "display_name": "Python 3"
    },
    "language_info": {
      "name": "python"
    }
  },
  "cells": [
    {
      "cell_type": "markdown",
      "metadata": {
        "id": "view-in-github",
        "colab_type": "text"
      },
      "source": [
        "<a href=\"https://colab.research.google.com/github/isys5002-itp/ISYS5002-2024-S2/blob/main/06_0_Documenting_Gen_AI_Interactions.ipynb\" target=\"_parent\"><img src=\"https://colab.research.google.com/assets/colab-badge.svg\" alt=\"Open In Colab\"/></a>"
      ]
    },
    {
      "cell_type": "markdown",
      "source": [
        "**Given the following code from Colab notebook: [04_3_Working_with_Files_Payslip](https://github.com/isys5002-itp/ISYS5002-2024-S2/blob/main/04_3_Working_with_Files_Payslip_Mon9AM.ipynb)**"
      ],
      "metadata": {
        "id": "bzN4nvRM4Inw"
      }
    },
    {
      "cell_type": "code",
      "source": [
        "with open(\"payslip_data.csv\", 'w') as payslip_data:\n",
        "  writer = csv.writer(payslip_data) # 'writer' object write data to the CSV file opened\n",
        "  writer.writerow(['name', 'salary', 'sales', 'comm_rate'])\n",
        "\n",
        "  # get user input - name\n",
        "  name = input(\"Please enter name: \")\n",
        "\n",
        "  # get user input for salary\n",
        "  salary = int(input(\"Please enter salary: \"))\n",
        "\n",
        "  # get user input for sales\n",
        "  sales = int(input(\"Please enter sales: \"))\n",
        "\n",
        "  # get user input for commission\n",
        "  comm_rate = float(input(\"Please enter commission rate: \"))\n",
        "\n",
        "  # write user data to file\n",
        "  writer.writerow([name, salary, sales, comm_rate])\n"
      ],
      "metadata": {
        "id": "n0PPsOlz4CF3"
      },
      "execution_count": null,
      "outputs": []
    },
    {
      "cell_type": "markdown",
      "source": [
        "**Gen AI tool:** Colab AI or ChatGPT or Co-Pilot"
      ],
      "metadata": {
        "id": "Ch6Vo1dW3s2f"
      }
    },
    {
      "cell_type": "markdown",
      "source": [
        "**Gen AI prompt:** *Modify the code to prompt user to decide if they want to continue*"
      ],
      "metadata": {
        "id": "IABwixdO35Z_"
      }
    },
    {
      "cell_type": "markdown",
      "source": [
        "**Gen AI Response:** Code generate by ChatGPT - as below"
      ],
      "metadata": {
        "id": "R20LuPwE4o3W"
      }
    },
    {
      "cell_type": "code",
      "execution_count": null,
      "metadata": {
        "id": "UqfA_zRS3pVM"
      },
      "outputs": [],
      "source": [
        "import csv\n",
        "\n",
        "with open(\"payslip_data.csv\", 'w') as payslip_data:\n",
        "  writer = csv.writer(payslip_data)\n",
        "  writer.writerow(['name', 'salary', 'sales', 'comm_rate'])\n",
        "\n",
        "  while True:\n",
        "    # get user input - name\n",
        "    name = input(\"Please enter name: \")\n",
        "\n",
        "    # get user input for salary\n",
        "    salary = int(input(\"Please enter salary: \"))\n",
        "\n",
        "    # get user input for sales\n",
        "    sales = int(input(\"Please enter sales: \"))\n",
        "\n",
        "    # get user input for commission\n",
        "    comm_rate = float(input(\"Please enter commission rate: \"))\n",
        "\n",
        "    # write user data to file\n",
        "    writer.writerow([name, salary, sales, comm_rate])\n",
        "\n",
        "    # Ask the user if they want to continue\n",
        "    choice = input(\"Do you want to enter another record? (yes/no): \")\n",
        "    if choice.lower() == 'no':\n",
        "      break\n",
        "\n"
      ]
    },
    {
      "cell_type": "markdown",
      "source": [
        "**Gen AI Response Effectiveness:**\n",
        "\n",
        "```\n",
        "    choice = input(\"Do you want to enter another record? (yes/no): \")\n",
        "    if choice.lower() != 'no':\n",
        "      break\n",
        "```\n",
        "\n",
        "This code is restrictive in the sense that for 'no', it does not accept n, N, which users might naturally enter."
      ],
      "metadata": {
        "id": "yyLkO93R4yAI"
      }
    },
    {
      "cell_type": "markdown",
      "source": [
        "**Modification Needed/Implemented:**\n",
        "\n",
        "using conditional statement with the or operator to check for both 'no' and 'n'\n",
        "\n",
        "```if choice.lower() == 'no' or choice.lower() == 'n':```"
      ],
      "metadata": {
        "id": "2UpMvsCh4-4Z"
      }
    },
    {
      "cell_type": "markdown",
      "source": [
        "*Code implemented with modification as below*"
      ],
      "metadata": {
        "id": "HxAF1Dg37XWu"
      }
    },
    {
      "cell_type": "code",
      "source": [
        "    # Ask the user if they want to continue\n",
        "    choice = input(\"Do you want to enter another record? (yes/no): \")\n",
        "    if choice.lower() == 'no' or choice.lower() == 'n':\n",
        "      break"
      ],
      "metadata": {
        "id": "01gK6Na07q9R"
      },
      "execution_count": null,
      "outputs": []
    },
    {
      "cell_type": "code",
      "source": [
        "import csv\n",
        "\n",
        "with open(\"payslip_data.csv\", 'w') as payslip_data:\n",
        "  writer = csv.writer(payslip_data)\n",
        "  writer.writerow(['name', 'salary', 'sales', 'comm_rate'])\n",
        "\n",
        "  while True:\n",
        "    # get user input - name\n",
        "    name = input(\"Please enter name: \")\n",
        "\n",
        "    # get user input for salary\n",
        "    salary = int(input(\"Please enter salary: \"))\n",
        "\n",
        "    # get user input for sales\n",
        "    sales = int(input(\"Please enter sales: \"))\n",
        "\n",
        "    # get user input for commission\n",
        "    comm_rate = float(input(\"Please enter commission rate: \"))\n",
        "\n",
        "    # write user data to file\n",
        "    writer.writerow([name, salary, sales, comm_rate])\n",
        "\n",
        "    # Ask the user if they want to continue\n",
        "    choice = input(\"Do you want to enter another record? (yes/no): \")\n",
        "    if choice.lower() == 'no' or choice.lower() == 'n':\n",
        "      break"
      ],
      "metadata": {
        "id": "ed3zCiH46w6Z"
      },
      "execution_count": null,
      "outputs": []
    }
  ]
}