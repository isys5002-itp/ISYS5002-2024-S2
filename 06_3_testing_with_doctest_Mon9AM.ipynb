{
  "nbformat": 4,
  "nbformat_minor": 0,
  "metadata": {
    "colab": {
      "provenance": [],
      "include_colab_link": true
    },
    "kernelspec": {
      "name": "python3",
      "display_name": "Python 3"
    },
    "language_info": {
      "name": "python"
    }
  },
  "cells": [
    {
      "cell_type": "markdown",
      "metadata": {
        "id": "view-in-github",
        "colab_type": "text"
      },
      "source": [
        "<a href=\"https://colab.research.google.com/github/isys5002-itp/ISYS5002-2024-S2/blob/main/06_3_testing_with_doctest_Mon9AM.ipynb\" target=\"_parent\"><img src=\"https://colab.research.google.com/assets/colab-badge.svg\" alt=\"Open In Colab\"/></a>"
      ]
    },
    {
      "cell_type": "markdown",
      "source": [
        "# Testing with doctest\n",
        "\n",
        "In this notebook we introduct another testing strategy using the package [doctest](https://docs.python.org/3/library/doctest.html). A Python doctest is written as though it is a comment with an example of the function and the expected output.  "
      ],
      "metadata": {
        "id": "xr1cG_-IhGrb"
      }
    },
    {
      "cell_type": "markdown",
      "source": [
        "https://www.digitalocean.com/community/tutorials/how-to-write-doctests-in-python"
      ],
      "metadata": {
        "id": "Y6-qvpk7pMUb"
      }
    },
    {
      "cell_type": "code",
      "execution_count": 1,
      "metadata": {
        "id": "rguWIpskg6pf"
      },
      "outputs": [],
      "source": [
        "def add(x, y):\n",
        "    '''Add two numbers'''\n",
        "    return x + y\n",
        "\n",
        "def divide(x, y):\n",
        "    '''Divide first by second number'''\n",
        "    return x / y\n",
        "\n",
        "def multiply(x, y):\n",
        "    '''Multiple two numbers'''\n",
        "    return x * y\n",
        "\n",
        "def subtract(x, y):\n",
        "    '''Subtract two numbers'''\n",
        "    return x - y"
      ]
    },
    {
      "cell_type": "code",
      "source": [
        "# the add function\n",
        "\n",
        "def add(x, y):\n",
        "    '''Add two numbers'''\n",
        "    if ((type(x) == int or type(x) == float) and\n",
        "        (type(y) == int or type(y) == float)):\n",
        "      return x + y\n",
        "    return 'Not a number'"
      ],
      "metadata": {
        "id": "FfQto8b-1fIq"
      },
      "execution_count": 2,
      "outputs": []
    },
    {
      "cell_type": "markdown",
      "source": [
        "# Test Table\n",
        "\n",
        "We will use out test table from previous notebook.\n",
        "\n",
        "| Test # | Type    | Data     | Expected | Actual | Pass/Fail |\n",
        "|--------|---------|----------|----------|--------|-----------|\n",
        "|  1     | Valid   |0,0       | 0        |        |           |\n",
        "|  2     | Valid   |1,1       | 2        |        |           |\n",
        "|  3     | Valid   |-1,-1     | -2       |        |           |\n",
        "|  4     | Valid   |1.1,1.1   | 2.2      |        |           |\n",
        "|  5     | Valid   |-1.1,-1.1 | 2.2      |        |           |\n",
        "|  6     | Invalid |'0',0     | 'Not a number'|   |           |\n",
        "|  7     | Invalid |'One','0' | 'Not a number'|   |           |\n",
        "|  8     | Invalid |[1],[1]   | 'Not a number'|   |           |\n",
        "|  9     | Invalid |{1},{1}   | 'Not a number'|   |           |\n",
        "\n",
        "\n",
        "\n",
        "# `doctest`\n",
        "\n",
        "Documentation and testing are core components of every software development process. <br>\n",
        "> Docutest is a Python package that allows you to specify test in a functions docstring.  \n",
        "\n",
        "Let us consider the add() function.\n",
        "\n",
        "To add a test we simulate a interactive python session by calling the function after the interactive prompt ```>>>```.  The next line will contain the expected output.  The module doctest will search pieces of text within comments that look like interactive Python sessions and then build up the test case and execute the tests.\n"
      ],
      "metadata": {
        "id": "Ouf_I-wOkLW_"
      }
    },
    {
      "cell_type": "code",
      "source": [
        "import doctest #import doctest module\n",
        "\n",
        "def add(x, y):\n",
        "    '''Add two numbers\n",
        "    >>> add(0,0)\n",
        "    0\n",
        "    '''\n",
        "    return x + y"
      ],
      "metadata": {
        "id": "iOFin6zwj94Y"
      },
      "execution_count": 4,
      "outputs": []
    },
    {
      "cell_type": "code",
      "source": [
        "# call the 'doctest.testmod()' function to run the tests\n",
        "\n",
        "doctest.testmod()"
      ],
      "metadata": {
        "id": "urKQEJyHIsnn",
        "colab": {
          "base_uri": "https://localhost:8080/"
        },
        "outputId": "67242ede-0a83-427c-cb49-05643ef64794"
      },
      "execution_count": 5,
      "outputs": [
        {
          "output_type": "stream",
          "name": "stderr",
          "text": [
            "\n",
            "PYDEV DEBUGGER WARNING:\n",
            "sys.settrace() should not be used when the debugger is being used.\n",
            "This may cause the debugger to stop working correctly.\n",
            "If this is needed, please check: \n",
            "http://pydev.blogspot.com/2007/06/why-cant-pydev-debugger-work-with.html\n",
            "to see how to restore the debug tracing back correctly.\n",
            "Call Location:\n",
            "  File \"/usr/lib/python3.10/doctest.py\", line 1501, in run\n",
            "    sys.settrace(save_trace)\n",
            "\n"
          ]
        },
        {
          "output_type": "execute_result",
          "data": {
            "text/plain": [
              "TestResults(failed=0, attempted=1)"
            ]
          },
          "metadata": {},
          "execution_count": 5
        }
      ]
    },
    {
      "cell_type": "markdown",
      "source": [
        "The output keeps track of the number of test that failed and total tests completed. Okay, let's add more tests"
      ],
      "metadata": {
        "id": "8Ronne_wG1rR"
      }
    },
    {
      "cell_type": "code",
      "source": [
        "import doctest\n",
        "\n",
        "def add(x, y):\n",
        "    '''Add two numbers\n",
        "    >>> add(0,0)\n",
        "    0\n",
        "    >>> add(1,1)\n",
        "    2\n",
        "    >>> add(-1,-1)\n",
        "    -2\n",
        "    >>> add(1.1,1.1)\n",
        "    2.2\n",
        "\n",
        "    '''\n",
        "    return x + y\n"
      ],
      "metadata": {
        "id": "EbGuwNLBoUtR"
      },
      "execution_count": 6,
      "outputs": []
    },
    {
      "cell_type": "code",
      "source": [
        "doctest.testmod()"
      ],
      "metadata": {
        "id": "5HJof108oWVS",
        "colab": {
          "base_uri": "https://localhost:8080/"
        },
        "outputId": "b504e7c3-9abe-4f74-da75-8c057136bf5e"
      },
      "execution_count": 7,
      "outputs": [
        {
          "output_type": "execute_result",
          "data": {
            "text/plain": [
              "TestResults(failed=0, attempted=4)"
            ]
          },
          "metadata": {},
          "execution_count": 7
        }
      ]
    },
    {
      "cell_type": "markdown",
      "source": [
        "Let's try with an invalid case"
      ],
      "metadata": {
        "id": "nBArgAJJoW0a"
      }
    },
    {
      "cell_type": "code",
      "source": [
        "import doctest\n",
        "\n",
        "def add(x, y):\n",
        "    '''Add two numbers\n",
        "    >>> add(0,0)\n",
        "    0\n",
        "    >>> add(1,1)\n",
        "    2\n",
        "    >>> add(-1,-1)\n",
        "    -2\n",
        "    >>> add(1.1,1.1)\n",
        "    2.2\n",
        "\n",
        "    Invalid Case\n",
        "    >>> add('0',0)\n",
        "    'Not a number'\n",
        "    '''\n",
        "    return x + y\n"
      ],
      "metadata": {
        "id": "ip-5bULUGjuz"
      },
      "execution_count": 8,
      "outputs": []
    },
    {
      "cell_type": "code",
      "source": [
        "doctest.testmod()"
      ],
      "metadata": {
        "id": "8K7QJd0zDNsH",
        "colab": {
          "base_uri": "https://localhost:8080/"
        },
        "outputId": "16910e4d-7bbd-4350-b864-c3566758e99f"
      },
      "execution_count": 9,
      "outputs": [
        {
          "output_type": "stream",
          "name": "stdout",
          "text": [
            "**********************************************************************\n",
            "File \"__main__\", line 15, in __main__.add\n",
            "Failed example:\n",
            "    add('0',0)\n",
            "Exception raised:\n",
            "    Traceback (most recent call last):\n",
            "      File \"/usr/lib/python3.10/doctest.py\", line 1350, in __run\n",
            "        exec(compile(example.source, filename, \"single\",\n",
            "      File \"<doctest __main__.add[4]>\", line 1, in <module>\n",
            "        add('0',0)\n",
            "      File \"<ipython-input-8-3874a4afba7e>\", line 18, in add\n",
            "        return x + y\n",
            "    TypeError: can only concatenate str (not \"int\") to str\n",
            "**********************************************************************\n",
            "1 items had failures:\n",
            "   1 of   5 in __main__.add\n",
            "***Test Failed*** 1 failures.\n"
          ]
        },
        {
          "output_type": "execute_result",
          "data": {
            "text/plain": [
              "TestResults(failed=1, attempted=5)"
            ]
          },
          "metadata": {},
          "execution_count": 9
        }
      ]
    },
    {
      "cell_type": "markdown",
      "source": [
        "With\n",
        "```\n",
        "  >>> add('0',0)\n",
        "  'Not a number'\n",
        "```\n",
        "\n",
        "* The add() function above is expected to handle cases where the inputs are not numbers.  \n",
        "* However, the implementation of the add function doesn't account for this scenario.\n",
        "* To fix it, you would need to modify the function to handle cases where the inputs are not valid numbers and return the appropriate error message, such as 'Not a number'."
      ],
      "metadata": {
        "id": "QHUnB2oxnqpZ"
      }
    },
    {
      "cell_type": "markdown",
      "source": [
        "As in the previous notebook, lets update our `add()` function and write a support function `isNumber()` to check is a argumnet is a number."
      ],
      "metadata": {
        "id": "LQyUbfeDHetW"
      }
    },
    {
      "cell_type": "code",
      "source": [
        "# isNUmber function to check if the value is a number\n",
        "def isNumber(value):\n",
        "  return (type(value) == int or type(value) == float)\n",
        "\n",
        "# add function\n",
        "def add(x, y):\n",
        "    ''' this fucntion takes two numeric values and\n",
        "        adds the two numbers/values\n",
        "\n",
        "    With valid input\n",
        "    >>> add(0,0)\n",
        "    0\n",
        "    >>> add(1,1)\n",
        "    2\n",
        "    >>> add(-1,-1)\n",
        "    -2\n",
        "    >>> add(1.1,1.1)\n",
        "    2.2\n",
        "\n",
        "    Invalid inputs\n",
        "    >>> add('0',0)\n",
        "    'Not a number'\n",
        "    '''\n",
        "    if isNumber(x) and isNumber(y):\n",
        "      return x + y\n",
        "    else:\n",
        "      return 'Not a number'"
      ],
      "metadata": {
        "id": "4ZeCUHbrHNrx"
      },
      "execution_count": 17,
      "outputs": []
    },
    {
      "cell_type": "markdown",
      "source": [
        "Run the test again"
      ],
      "metadata": {
        "id": "Vb-y189zIhE0"
      }
    },
    {
      "cell_type": "code",
      "source": [
        "doctest.testmod()"
      ],
      "metadata": {
        "id": "ghOF4kxLIlgF",
        "colab": {
          "base_uri": "https://localhost:8080/"
        },
        "outputId": "4acddb9f-c4ee-4db2-8477-7f448b7087f2"
      },
      "execution_count": 11,
      "outputs": [
        {
          "output_type": "execute_result",
          "data": {
            "text/plain": [
              "TestResults(failed=0, attempted=5)"
            ]
          },
          "metadata": {},
          "execution_count": 11
        }
      ]
    },
    {
      "cell_type": "code",
      "source": [
        "help(add)"
      ],
      "metadata": {
        "colab": {
          "base_uri": "https://localhost:8080/"
        },
        "id": "wpWtDtsGfU2J",
        "outputId": "40375940-8da1-401e-dc32-8836099d17f2"
      },
      "execution_count": 18,
      "outputs": [
        {
          "output_type": "stream",
          "name": "stdout",
          "text": [
            "Help on function add in module __main__:\n",
            "\n",
            "add(x, y)\n",
            "    this fucntion takes two numeric values and\n",
            "        adds the two numbers/values\n",
            "    \n",
            "    With valid input\n",
            "    >>> add(0,0)\n",
            "    0\n",
            "    >>> add(1,1)\n",
            "    2\n",
            "    >>> add(-1,-1)\n",
            "    -2\n",
            "    >>> add(1.1,1.1)\n",
            "    2.2\n",
            "    \n",
            "    Invalid inputs\n",
            "    >>> add('0',0)\n",
            "    'Not a number'\n",
            "\n"
          ]
        }
      ]
    },
    {
      "cell_type": "code",
      "source": [
        "help(print)"
      ],
      "metadata": {
        "colab": {
          "base_uri": "https://localhost:8080/"
        },
        "id": "Jyj02aUmf5Do",
        "outputId": "39214c41-eb2a-4eaf-c0dd-0f8ce7c8ff1a"
      },
      "execution_count": 20,
      "outputs": [
        {
          "output_type": "stream",
          "name": "stdout",
          "text": [
            "Help on built-in function print in module builtins:\n",
            "\n",
            "print(...)\n",
            "    print(value, ..., sep=' ', end='\\n', file=sys.stdout, flush=False)\n",
            "    \n",
            "    Prints the values to a stream, or to sys.stdout by default.\n",
            "    Optional keyword arguments:\n",
            "    file:  a file-like object (stream); defaults to the current sys.stdout.\n",
            "    sep:   string inserted between values, default a space.\n",
            "    end:   string appended after the last value, default a newline.\n",
            "    flush: whether to forcibly flush the stream.\n",
            "\n"
          ]
        }
      ]
    }
  ]
}