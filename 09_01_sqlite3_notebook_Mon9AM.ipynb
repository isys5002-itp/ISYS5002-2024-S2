{
  "cells": [
    {
      "cell_type": "markdown",
      "metadata": {
        "id": "view-in-github",
        "colab_type": "text"
      },
      "source": [
        "<a href=\"https://colab.research.google.com/github/isys5002-itp/ISYS5002-2024-S2/blob/main/09_01_sqlite3_notebook_Mon9AM.ipynb\" target=\"_parent\"><img src=\"https://colab.research.google.com/assets/colab-badge.svg\" alt=\"Open In Colab\"/></a>"
      ]
    },
    {
      "cell_type": "markdown",
      "metadata": {
        "id": "mbsVgk4dW_nz"
      },
      "source": [
        "#SQL and Python (and a little Pandas)\n",
        "\n",
        "When it comes to data retrieval and basic statistics, SQL shines, while Python shines for in-depth, flexible exploratory data analysis or data science. What if you could combine the two programming languages into a single application?\n",
        "\n",
        "We will use SQLite3 which is part of the standard Python 3 package, so nothing to install. Let’s take a quick look at the data types that are available:\n",
        "\n",
        "| SQL | Python |\n",
        "|-----|--------|\n",
        "| NULL — Includes a NULL value | none\n",
        "| INTEGER — Includes an integer | int\n",
        "| REAL — Includes a floating-point (decimal) value | float\n",
        "| TEXT. — Includes text | str\n",
        "| BLOB. — Includes a binary large object that is stored exactly as input | bytes\n",
        "\n",
        "In this notebook, we’ll demonstrate\n",
        "\n",
        "* Loading the library\n",
        "* Creating and connecting to your database\n",
        "* Creating database tables\n",
        "* Adding data\n",
        "* Querying data\n",
        "* Deleting data\n",
        "\n",
        "\n",
        "\n",
        "## Import the library\n",
        "\n",
        "Let’s start off the tutorial by loading in the library. We can do this by using the following command"
      ]
    },
    {
      "cell_type": "code",
      "execution_count": 1,
      "metadata": {
        "id": "LPimUgLJW-zI"
      },
      "outputs": [],
      "source": [
        "import sqlite3"
      ]
    },
    {
      "cell_type": "markdown",
      "metadata": {
        "id": "Hw8dIXJ-XmD3"
      },
      "source": [
        "## Create a connection\n",
        "\n",
        "We use the connect method and pass the name of the database. Let's create an *superheroes.db*."
      ]
    },
    {
      "cell_type": "code",
      "execution_count": 2,
      "metadata": {
        "id": "mrad4SnyXxgQ"
      },
      "outputs": [],
      "source": [
        "conn = sqlite3.connect('superheroes.db')"
      ]
    },
    {
      "cell_type": "markdown",
      "metadata": {
        "id": "mejA7Nv4XyPH"
      },
      "source": [
        "We’ve created a new connection object, as well as a new file called *superheroes.db* in the directory in which you’re working.\n",
        "\n",
        "\n",
        "## Create a cursor object\n",
        "\n",
        "Now that we’ve created a database connection object, our next task is to create a cursor object. A cursor object allows us to execute SQL queries against a database. A cursor acts a middleware between a connection and SQL query"
      ]
    },
    {
      "cell_type": "code",
      "execution_count": 3,
      "metadata": {
        "id": "ZTlVz29LYR9b"
      },
      "outputs": [],
      "source": [
        "cur = conn.cursor() #something like 'row' returned from a table"
      ]
    },
    {
      "cell_type": "markdown",
      "metadata": {
        "id": "Sn6PJmYtYdWr"
      },
      "source": [
        "# Create Table\n",
        "\n",
        "Use a common 'pattern'\n",
        "\n",
        "1. Create a SQL command as a string\n",
        "2. User cursor to execture the command\n",
        "3. If needed fetch the results"
      ]
    },
    {
      "cell_type": "code",
      "execution_count": 5,
      "metadata": {
        "id": "SIGT5zH0Ykd4"
      },
      "outputs": [],
      "source": [
        "sql = \"\"\"\n",
        "CREATE TABLE IF NOT EXISTS users(\n",
        "   userid INT PRIMARY KEY,\n",
        "   fname TEXT,\n",
        "   lname TEXT,\n",
        "   superhero TEXT,\n",
        "   gender TEXT);\n",
        "\"\"\"\n",
        "\n",
        "# Execute query and commit transaction\n",
        "\n",
        "cur.execute(sql)\n",
        "conn.commit()"
      ]
    },
    {
      "cell_type": "markdown",
      "metadata": {
        "id": "pn3Pj3hlYsBK"
      },
      "source": [
        "The IF NOT EXISTS will help us when reconnecting to the database. The query will allow us to check if the table exists, and if it does, nothing is changed.\n",
        "\n",
        "# Insert into Table\n",
        "\n",
        "Let’s take a look at how to add data with SQLite in Python to the database we just created. Similar to the table generation query, the query to add data uses the cursor object to execute the query."
      ]
    },
    {
      "cell_type": "code",
      "source": [
        "'''\n",
        "INSERT INTO users(userid, fname, lname, superhero, gender)\n",
        "   VALUES('00001', 'Bruce', 'Wayne', 'Batman', 'male');\n",
        "'''"
      ],
      "metadata": {
        "colab": {
          "base_uri": "https://localhost:8080/",
          "height": 35
        },
        "id": "DgdHz1nNfixb",
        "outputId": "32d1ddd5-b63e-4de6-d5d0-18b1bacd8674"
      },
      "execution_count": 6,
      "outputs": [
        {
          "output_type": "execute_result",
          "data": {
            "text/plain": [
              "\"\\nINSERT INTO users(userid, fname, lname, superhero, gender)\\n   VALUES('00001', 'Bruce', 'Wayne', 'Batman', 'male');\\n\""
            ],
            "application/vnd.google.colaboratory.intrinsic+json": {
              "type": "string"
            }
          },
          "metadata": {},
          "execution_count": 6
        }
      ]
    },
    {
      "cell_type": "code",
      "execution_count": 7,
      "metadata": {
        "id": "sDDF56NqYy1D"
      },
      "outputs": [],
      "source": [
        "sql = '''\n",
        "INSERT INTO users(userid, fname, lname, superhero, gender)\n",
        "   VALUES('00006', 'Bruce', 'Wayne', 'Batman', 'male');\n",
        "'''\n",
        "\n",
        "# Execute query and commit transaction\n",
        "cur.execute(sql)\n",
        "conn.commit()"
      ]
    },
    {
      "cell_type": "code",
      "source": [
        "sql = '''\n",
        "SELECT * FROM users;\n",
        "'''\n",
        "cur.execute(sql)\n",
        "all_results = cur.fetchall()\n",
        "(all_results)"
      ],
      "metadata": {
        "id": "pbdLC19ie7oy",
        "colab": {
          "base_uri": "https://localhost:8080/"
        },
        "outputId": "17a1df21-0bfb-4fa7-b460-3192cc08c3f0"
      },
      "execution_count": 8,
      "outputs": [
        {
          "output_type": "execute_result",
          "data": {
            "text/plain": [
              "[(6, 'Bruce', 'Wayne', 'Batman', 'male')]"
            ]
          },
          "metadata": {},
          "execution_count": 8
        }
      ]
    },
    {
      "cell_type": "markdown",
      "metadata": {
        "id": "yGNPSuQ7SDzr"
      },
      "source": [
        "Often, when we’re working within Python, we’ll have variables that hold values for us. For example, we may have a tuple that contains that information about a user which might look like this:"
      ]
    },
    {
      "cell_type": "code",
      "execution_count": 9,
      "metadata": {
        "id": "tELkllTPSDT6"
      },
      "outputs": [],
      "source": [
        "user = ('00002', 'Sue', 'Storm', 'Invisible Woman', 'female') # MUST BE A TUPLE!"
      ]
    },
    {
      "cell_type": "markdown",
      "metadata": {
        "id": "lr_29ZdcSQpO"
      },
      "source": [
        "If we wanted to load this data into our database, we would use a different convention:\n",
        "\n"
      ]
    },
    {
      "cell_type": "code",
      "execution_count": 10,
      "metadata": {
        "id": "dt35M6mJSO0Q"
      },
      "outputs": [],
      "source": [
        "cur.execute(\"INSERT INTO users VALUES(?, ?, ?, ?, ?);\", user)\n",
        "conn.commit()"
      ]
    },
    {
      "cell_type": "code",
      "source": [
        "sql = '''\n",
        "SELECT * FROM users;\n",
        "'''\n",
        "cur.execute(sql)\n",
        "all_results = cur.fetchall()\n",
        "(all_results)"
      ],
      "metadata": {
        "colab": {
          "base_uri": "https://localhost:8080/"
        },
        "id": "wGuVYEd3cKVH",
        "outputId": "baf666e5-4ff9-4dda-c9a0-0ea9eabb8581"
      },
      "execution_count": 11,
      "outputs": [
        {
          "output_type": "execute_result",
          "data": {
            "text/plain": [
              "[(6, 'Bruce', 'Wayne', 'Batman', 'male'),\n",
              " (2, 'Sue', 'Storm', 'Invisible Woman', 'female')]"
            ]
          },
          "metadata": {},
          "execution_count": 11
        }
      ]
    },
    {
      "cell_type": "markdown",
      "metadata": {
        "id": "wZHJs2QPShjF"
      },
      "source": [
        "Incidentally, using the (?, ?, …) method we noted above also helps protect against SQL injection attacks.\n",
        "\n",
        "It’s important to note here that the **SQLite expects the values to be in tuple-format**. However, the variable can contain a list, as long as the list items are tuples. For example, we could add more users using the variable:"
      ]
    },
    {
      "cell_type": "code",
      "execution_count": 12,
      "metadata": {
        "id": "BgWey1J_UXZt"
      },
      "outputs": [],
      "source": [
        "more_users = [('00003', 'Peter', 'Parker', 'Spider Man', 'male'),\n",
        "              ('00004', 'Tony', 'Stark', 'Ironman', 'male'),\n",
        "              ('00005', 'Diana', 'Princess', 'Wonder Woman', 'female')]"
      ]
    },
    {
      "cell_type": "code",
      "execution_count": 13,
      "metadata": {
        "id": "b9xk5aOPSs1W"
      },
      "outputs": [],
      "source": [
        "cur.executemany(\"INSERT INTO users VALUES(?, ?, ?, ?, ?);\", more_users)\n",
        "conn.commit()"
      ]
    },
    {
      "cell_type": "code",
      "source": [
        "sql = '''\n",
        "SELECT * FROM users;\n",
        "'''\n",
        "cur.execute(sql)\n",
        "all_results = cur.fetchall()\n",
        "(all_results)"
      ],
      "metadata": {
        "colab": {
          "base_uri": "https://localhost:8080/"
        },
        "id": "BOfli_iWdSZM",
        "outputId": "ebec7898-9da3-400e-ad5f-7d7beabd91f5"
      },
      "execution_count": 14,
      "outputs": [
        {
          "output_type": "execute_result",
          "data": {
            "text/plain": [
              "[(6, 'Bruce', 'Wayne', 'Batman', 'male'),\n",
              " (2, 'Sue', 'Storm', 'Invisible Woman', 'female'),\n",
              " (3, 'Peter', 'Parker', 'Spider Man', 'male'),\n",
              " (4, 'Tony', 'Stark', 'Ironman', 'male'),\n",
              " (5, 'Diana', 'Princess', 'Wonder Woman', 'female')]"
            ]
          },
          "metadata": {},
          "execution_count": 14
        }
      ]
    },
    {
      "cell_type": "markdown",
      "metadata": {
        "id": "0q9-ZbAHY30U"
      },
      "source": [
        "In this case, instead of using the execute function, we’ll want to use the executemany function\n",
        "\n",
        "## Fetching Data\n",
        "\n",
        "Here we take a look at how to select data with SQLite in Python! We’ll follow a similar structure as we did to execute queries above"
      ]
    },
    {
      "cell_type": "code",
      "execution_count": 15,
      "metadata": {
        "id": "K8Qw26zu1rTD",
        "colab": {
          "base_uri": "https://localhost:8080/"
        },
        "outputId": "def14948-c1a3-4c22-8181-b108b38148c6"
      },
      "outputs": [
        {
          "output_type": "stream",
          "name": "stdout",
          "text": [
            "(6, 'Bruce', 'Wayne', 'Batman', 'male')\n",
            "(2, 'Sue', 'Storm', 'Invisible Woman', 'female')\n",
            "(3, 'Peter', 'Parker', 'Spider Man', 'male')\n",
            "(4, 'Tony', 'Stark', 'Ironman', 'male')\n",
            "(5, 'Diana', 'Princess', 'Wonder Woman', 'female')\n"
          ]
        }
      ],
      "source": [
        "sql = '''\n",
        "SELECT * FROM users;\n",
        "'''\n",
        "rows = cur.execute(sql)\n",
        "for row in rows:\n",
        "  print(row)"
      ]
    },
    {
      "cell_type": "markdown",
      "metadata": {
        "id": "3wSHZTo210RD"
      },
      "source": [
        "Some useful methods"
      ]
    },
    {
      "cell_type": "code",
      "execution_count": 16,
      "metadata": {
        "id": "6fft_Fo-Y6TM",
        "colab": {
          "base_uri": "https://localhost:8080/"
        },
        "outputId": "13addfd4-5df7-4296-b6a7-f583896e38d9"
      },
      "outputs": [
        {
          "output_type": "stream",
          "name": "stdout",
          "text": [
            "(6, 'Bruce', 'Wayne', 'Batman', 'male')\n"
          ]
        }
      ],
      "source": [
        "sql = '''\n",
        "SELECT * FROM users;\n",
        "'''\n",
        "cur.execute(sql)\n",
        "one_result = cur.fetchone()\n",
        "print(one_result)"
      ]
    },
    {
      "cell_type": "markdown",
      "metadata": {
        "id": "r-FjLFyOTjAV"
      },
      "source": [
        "We wanted to return more than only one result, we could use the fetchmany()"
      ]
    },
    {
      "cell_type": "code",
      "execution_count": 18,
      "metadata": {
        "id": "Z77jiumJTcVk",
        "colab": {
          "base_uri": "https://localhost:8080/"
        },
        "outputId": "000830ce-8990-4643-d89a-cba4fc8ac4cd"
      },
      "outputs": [
        {
          "output_type": "stream",
          "name": "stdout",
          "text": [
            "[(6, 'Bruce', 'Wayne', 'Batman', 'male'), (2, 'Sue', 'Storm', 'Invisible Woman', 'female')]\n"
          ]
        }
      ],
      "source": [
        "sql = '''\n",
        "SELECT * FROM users;\n",
        "'''\n",
        "cur.execute(sql)\n",
        "three_results = cur.fetchmany(2)\n",
        "print(three_results)"
      ]
    },
    {
      "cell_type": "markdown",
      "metadata": {
        "id": "C9lg9VV_TwTE"
      },
      "source": [
        "We canuse the fetchall() function to return all the results."
      ]
    },
    {
      "cell_type": "code",
      "execution_count": 19,
      "metadata": {
        "id": "vXtmKQQ2T2MQ",
        "colab": {
          "base_uri": "https://localhost:8080/"
        },
        "outputId": "f049c41c-9d9f-488a-eb5e-a7f2a3687889"
      },
      "outputs": [
        {
          "output_type": "stream",
          "name": "stdout",
          "text": [
            "[(6, 'Bruce', 'Wayne', 'Batman', 'male'), (2, 'Sue', 'Storm', 'Invisible Woman', 'female'), (3, 'Peter', 'Parker', 'Spider Man', 'male'), (4, 'Tony', 'Stark', 'Ironman', 'male'), (5, 'Diana', 'Princess', 'Wonder Woman', 'female')]\n"
          ]
        }
      ],
      "source": [
        "sql = '''\n",
        "SELECT * FROM users;\n",
        "'''\n",
        "cur.execute(sql)\n",
        "all_results = cur.fetchall()\n",
        "print(all_results)"
      ]
    },
    {
      "cell_type": "code",
      "source": [
        "sql = '''\n",
        "SELECT superhero, gender FROM users;\n",
        "'''\n",
        "cur.execute(sql)\n",
        "all_results = cur.fetchall()\n",
        "print(all_results)"
      ],
      "metadata": {
        "id": "ovH7pqm-kpZl",
        "colab": {
          "base_uri": "https://localhost:8080/"
        },
        "outputId": "f437f21f-d3be-4894-d0b2-f2fe775c9740"
      },
      "execution_count": 20,
      "outputs": [
        {
          "output_type": "stream",
          "name": "stdout",
          "text": [
            "[('Batman', 'male'), ('Invisible Woman', 'female'), ('Spider Man', 'male'), ('Ironman', 'male'), ('Wonder Woman', 'female')]\n"
          ]
        }
      ]
    },
    {
      "cell_type": "markdown",
      "metadata": {
        "id": "-tk5M9E9ZBPO"
      },
      "source": [
        "## Delete Data"
      ]
    },
    {
      "cell_type": "code",
      "source": [
        "sql='''\n",
        "DELETE FROM users WHERE userid='6';\n",
        "'''\n",
        "cur.execute(sql)\n",
        "conn.commit()"
      ],
      "metadata": {
        "id": "CBxbA97kjTHo"
      },
      "execution_count": 21,
      "outputs": []
    },
    {
      "cell_type": "code",
      "execution_count": 23,
      "metadata": {
        "id": "VI52gWODZCsF"
      },
      "outputs": [],
      "source": [
        "sql='''\n",
        "DELETE FROM users WHERE lname='Parker';\n",
        "'''\n",
        "cur.execute(sql)\n",
        "conn.commit()"
      ]
    },
    {
      "cell_type": "code",
      "source": [
        "sql = '''\n",
        "SELECT * FROM users;\n",
        "'''\n",
        "cur.execute(sql)\n",
        "all_results = cur.fetchall()\n",
        "(all_results)"
      ],
      "metadata": {
        "colab": {
          "base_uri": "https://localhost:8080/"
        },
        "id": "q6yMnMEXetqL",
        "outputId": "875a4b03-5eb5-42ca-8fe3-e9da4916bb3d"
      },
      "execution_count": 24,
      "outputs": [
        {
          "output_type": "execute_result",
          "data": {
            "text/plain": [
              "[(2, 'Sue', 'Storm', 'Invisible Woman', 'female'),\n",
              " (4, 'Tony', 'Stark', 'Ironman', 'male'),\n",
              " (5, 'Diana', 'Princess', 'Wonder Woman', 'female')]"
            ]
          },
          "metadata": {},
          "execution_count": 24
        }
      ]
    },
    {
      "cell_type": "markdown",
      "metadata": {
        "id": "tTH1AnLeU85R"
      },
      "source": [
        "Did it work?"
      ]
    },
    {
      "cell_type": "code",
      "source": [
        "sql='''\n",
        "select * from users where lname='Parker';\n",
        "'''\n",
        "cur.execute(sql)\n",
        "cur.fetchall()"
      ],
      "metadata": {
        "colab": {
          "base_uri": "https://localhost:8080/"
        },
        "id": "JDx_IzerfYdq",
        "outputId": "d525677d-e96e-466d-8d9e-b36e3acbaf9e"
      },
      "execution_count": 31,
      "outputs": [
        {
          "output_type": "execute_result",
          "data": {
            "text/plain": [
              "[]"
            ]
          },
          "metadata": {},
          "execution_count": 31
        }
      ]
    },
    {
      "cell_type": "code",
      "execution_count": 30,
      "metadata": {
        "id": "ebIjc2LHU9mt",
        "colab": {
          "base_uri": "https://localhost:8080/"
        },
        "outputId": "2c6e3423-eabe-4b16-adb1-98f485b60baf"
      },
      "outputs": [
        {
          "output_type": "execute_result",
          "data": {
            "text/plain": [
              "[(5, 'Diana', 'Princess', 'Wonder Woman', 'female')]"
            ]
          },
          "metadata": {},
          "execution_count": 30
        }
      ],
      "source": [
        "sql='''\n",
        "select * from users where lname='Princess';\n",
        "'''\n",
        "cur.execute(sql)\n",
        "cur.fetchall()"
      ]
    },
    {
      "cell_type": "code",
      "source": [
        "sql='''\n",
        "select * from users where userid ='2';\n",
        "'''\n",
        "cur.execute(sql)\n",
        "cur.fetchall()"
      ],
      "metadata": {
        "colab": {
          "base_uri": "https://localhost:8080/"
        },
        "id": "GJVMicgsfLpa",
        "outputId": "cad4e8c6-82c0-4cec-eef0-1cf5496f4788"
      },
      "execution_count": 27,
      "outputs": [
        {
          "output_type": "execute_result",
          "data": {
            "text/plain": [
              "[(2, 'Sue', 'Storm', 'Invisible Woman', 'female')]"
            ]
          },
          "metadata": {},
          "execution_count": 27
        }
      ]
    },
    {
      "cell_type": "markdown",
      "metadata": {
        "id": "KbQjJ0YGVWUD"
      },
      "source": [
        "This prints out an empty list, confirming that the record has been deleted.\n",
        "\n",
        "## pandas\n",
        "\n",
        "We can use the pandas package to read a SQLite database"
      ]
    },
    {
      "cell_type": "code",
      "execution_count": null,
      "metadata": {
        "id": "Ss4ULSPbXEc0"
      },
      "outputs": [],
      "source": [
        "import pandas as pd\n",
        "\n",
        "sql='''\n",
        "SELECT * from users;\n",
        "'''\n",
        "# Load the data into a DataFrame\n",
        "users_df = pd.read_sql_query(sql, conn)\n",
        "users_df"
      ]
    },
    {
      "cell_type": "markdown",
      "metadata": {
        "id": "LF_y3uQsXAP2"
      },
      "source": [
        "and create table from a dataframe"
      ]
    },
    {
      "cell_type": "code",
      "execution_count": null,
      "metadata": {
        "id": "r9qF-okMYcEp"
      },
      "outputs": [],
      "source": [
        "# Select only data for females\n",
        "users_female_df = users_df[users_df.gender == 'female']\n",
        "\n",
        "# Write the new DataFrame to a new SQLite table\n",
        "users_female_df.to_sql(\"females\", conn, if_exists='replace')"
      ]
    },
    {
      "cell_type": "markdown",
      "source": [
        "## Activity\n",
        "\n",
        "- insert Spiderman info\n",
        "- create 'male' sperheroes table"
      ],
      "metadata": {
        "id": "pwqsbs3vmM4M"
      }
    },
    {
      "cell_type": "code",
      "source": [
        "sql = '''\n",
        "\n",
        "'''\n",
        "\n",
        "# Execute query and commit transaction\n",
        "cur.execute(sql)\n",
        "conn.commit()"
      ],
      "metadata": {
        "id": "B3hKIegYmIkw"
      },
      "execution_count": null,
      "outputs": []
    },
    {
      "cell_type": "code",
      "source": [
        "# Select only data for males\n",
        "users_male_df =\n",
        "\n",
        "# Write the new DataFrame to a new SQLite table\n"
      ],
      "metadata": {
        "id": "kleJB0rSmuB8"
      },
      "execution_count": null,
      "outputs": []
    },
    {
      "cell_type": "markdown",
      "metadata": {
        "id": "ZqFcuamRZJ9W"
      },
      "source": [
        "## View Schema\n",
        "\n",
        "Was the new table added.  Lets have a look at the schema."
      ]
    },
    {
      "cell_type": "code",
      "execution_count": null,
      "metadata": {
        "id": "1Ovfl-_OZOPk"
      },
      "outputs": [],
      "source": [
        "sql='''\n",
        "SELECT name FROM sqlite_master WHERE type='table';\n",
        "'''\n",
        "cur.execute(sql)\n",
        "cur.fetchall()"
      ]
    },
    {
      "cell_type": "markdown",
      "metadata": {
        "id": "HxepPCmHZZr4"
      },
      "source": [
        "Now lets get details on a table"
      ]
    },
    {
      "cell_type": "code",
      "execution_count": null,
      "metadata": {
        "id": "tCo1Xrd_ZMR0"
      },
      "outputs": [],
      "source": [
        "sql='''\n",
        "PRAGMA table_info('users');\n",
        "'''\n",
        "cur.execute(sql)\n",
        "cur.fetchall()"
      ]
    },
    {
      "cell_type": "markdown",
      "metadata": {
        "id": "-ldwT9WyZE-2"
      },
      "source": [
        "## Delete (Drop) Table\n",
        "\n",
        "When the IF EXISTS clause is used along with DROP TABLE syntax SQLite will not report any error message if the table does not exist."
      ]
    },
    {
      "cell_type": "code",
      "execution_count": null,
      "metadata": {
        "id": "cyFWke0AZHI-"
      },
      "outputs": [],
      "source": [
        "sql='''\n",
        "DROP TABLE IF EXISTS males;\n",
        "'''\n",
        "cur.execute(sql)\n",
        "cur.fetchall()"
      ]
    },
    {
      "cell_type": "markdown",
      "metadata": {
        "id": "Ni6mB6QsaKmP"
      },
      "source": [
        "Did it work?"
      ]
    },
    {
      "cell_type": "code",
      "execution_count": null,
      "metadata": {
        "id": "PJwfJLZoaLG4"
      },
      "outputs": [],
      "source": [
        "sql='''\n",
        "SELECT name FROM sqlite_master WHERE type='table';\n",
        "'''\n",
        "cur.execute(sql)\n",
        "cur.fetchall()"
      ]
    },
    {
      "cell_type": "markdown",
      "source": [
        "## Activity - Order the table by 'userid' and display the result"
      ],
      "metadata": {
        "id": "iTX9zLLCnxim"
      }
    },
    {
      "cell_type": "code",
      "source": [
        "\n",
        "sql = '''\n",
        "\n",
        "'''\n"
      ],
      "metadata": {
        "id": "u1om93Tgn3oq"
      },
      "execution_count": null,
      "outputs": []
    },
    {
      "cell_type": "markdown",
      "metadata": {
        "id": "Y8sPnYirV152"
      },
      "source": [
        "## Close the connection\n",
        "\n",
        "The connection must be closed at the end of the session"
      ]
    },
    {
      "cell_type": "code",
      "execution_count": null,
      "metadata": {
        "id": "Mvp_-UkEV7cu"
      },
      "outputs": [],
      "source": [
        "conn.close()"
      ]
    }
  ],
  "metadata": {
    "colab": {
      "provenance": [],
      "include_colab_link": true
    },
    "kernelspec": {
      "display_name": "Python 3 (ipykernel)",
      "language": "python",
      "name": "python3"
    },
    "language_info": {
      "codemirror_mode": {
        "name": "ipython",
        "version": 3
      },
      "file_extension": ".py",
      "mimetype": "text/x-python",
      "name": "python",
      "nbconvert_exporter": "python",
      "pygments_lexer": "ipython3",
      "version": "3.9.7"
    }
  },
  "nbformat": 4,
  "nbformat_minor": 0
}