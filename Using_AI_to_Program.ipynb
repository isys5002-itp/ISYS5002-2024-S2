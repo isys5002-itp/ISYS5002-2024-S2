{
  "nbformat": 4,
  "nbformat_minor": 0,
  "metadata": {
    "colab": {
      "provenance": [],
      "authorship_tag": "ABX9TyOgyS3EYC98nysBtTVBOpgA",
      "include_colab_link": true
    },
    "kernelspec": {
      "name": "python3",
      "display_name": "Python 3"
    },
    "language_info": {
      "name": "python"
    }
  },
  "cells": [
    {
      "cell_type": "markdown",
      "metadata": {
        "id": "view-in-github",
        "colab_type": "text"
      },
      "source": [
        "<a href=\"https://colab.research.google.com/github/isys5002-itp/ISYS5002-2024-S2/blob/main/Using_AI_to_Program.ipynb\" target=\"_parent\"><img src=\"https://colab.research.google.com/assets/colab-badge.svg\" alt=\"Open In Colab\"/></a>"
      ]
    },
    {
      "cell_type": "markdown",
      "source": [
        "## AI as a Learning Assistant\n",
        "This exercise is based on context of 'Payslip Program' ` 03.1_payslip.ipynb`.\n"
      ],
      "metadata": {
        "id": "NMB0BbkiTLDf"
      }
    },
    {
      "cell_type": "markdown",
      "source": [
        "### **Task:** Code understanding and Explanation\n",
        "\n",
        "* Identify and explain the data types and/or data structures used in the code\n",
        "* Discuss the purpose and definition of the generate_payslip function, how parameters are passed, and what it prints.\n",
        "* Explain the use of loops and conditional statements to control the flow of the program.\n",
        "* Describe the concept of string formatting used in the print statements.\n",
        "\n"
      ],
      "metadata": {
        "id": "D5pkF5VdjFQU"
      }
    },
    {
      "cell_type": "code",
      "source": [
        "employees = [\n",
        "    {\"name\": \"Ram\", \"salary\": 20000, \"sales\": 10000},\n",
        "    {\"name\": \"Rae\", \"salary\": 25000, \"sales\": 15000},\n",
        "    {\"name\": \"Radha\", \"salary\": 30000, \"sales\": 22000}\n",
        "]\n"
      ],
      "metadata": {
        "id": "BRWHH5DacFom"
      },
      "execution_count": null,
      "outputs": []
    },
    {
      "cell_type": "code",
      "source": [
        "commission_tiers = [\n",
        "    (20000, 0.05),\n",
        "    (15000, 0.04),\n",
        "    (10000, 0.03),\n",
        "    (0, 0.02)\n",
        "]\n"
      ],
      "metadata": {
        "id": "b034mpPBiB9s"
      },
      "execution_count": null,
      "outputs": []
    },
    {
      "cell_type": "code",
      "source": [
        "# Define the function to generate a payslip\n",
        "def calculate_pay(name, salary, sales, commission_rate, tax_rate):\n",
        "    # Calculate the commission\n",
        "    commission = commission_rate * sales\n",
        "\n",
        "    # Calculate the tax\n",
        "    tax = (salary + commission) * tax_rate\n",
        "\n",
        "    # Calculate the pay\n",
        "    pay = salary + commission - tax\n",
        "\n",
        "    return commission, tax, pay\n"
      ],
      "metadata": {
        "id": "i5kdvT-Vgwjc"
      },
      "execution_count": null,
      "outputs": []
    },
    {
      "cell_type": "markdown",
      "source": [
        "**Task:** Step through and  trace data flow through each line, showing variable updates."
      ],
      "metadata": {
        "id": "rlsJ8DYumC7i"
      }
    },
    {
      "cell_type": "code",
      "source": [
        "commission, tax, pay = calculate_pay(\"Ram\", 20000, 10000, 0.05, 0.10)"
      ],
      "metadata": {
        "id": "7pATFa3uljan"
      },
      "execution_count": null,
      "outputs": []
    },
    {
      "cell_type": "code",
      "source": [
        "def print_payslip(name, salary, commission, tax, pay):\n",
        "    print(f'=== Payslip of {name} ===')\n",
        "    print(f\"Salary: {salary:9} \\nCommission: {commission:.2f} \\nTax: {tax:.2f}\")\n",
        "    print(f\"Total pay: {pay:.2f}\\n\")"
      ],
      "metadata": {
        "id": "v9qz8P8Op10b"
      },
      "execution_count": null,
      "outputs": []
    },
    {
      "cell_type": "markdown",
      "source": [
        "**Tasks:**  Step-through, explain and comment each line of this code block."
      ],
      "metadata": {
        "id": "lZ7TEocFkZg0"
      }
    },
    {
      "cell_type": "code",
      "source": [
        "# Calculate commissions based on tiers\n",
        "for employee in employees:\n",
        "    commission = 0\n",
        "    for threshold, rate in commission_tiers:\n",
        "        if employee[\"sales\"] >= threshold:\n",
        "            commission = employee[\"sales\"] * rate\n",
        "            break  # Stop at the highest applicable tier\n",
        "    employee[\"commission\"] = commission\n",
        "\n"
      ],
      "metadata": {
        "id": "vuF_dXWKg6Am"
      },
      "execution_count": null,
      "outputs": []
    },
    {
      "cell_type": "markdown",
      "source": [
        "**Task:** Step through and  trace data flow through each line, showing variable updates."
      ],
      "metadata": {
        "id": "KexoTQx3naAF"
      }
    },
    {
      "cell_type": "code",
      "source": [
        "# Calculate commissions based on tiers\n",
        "for employee in employees:\n",
        "    commission = 0\n",
        "    for threshold, rate in commission_tiers:\n",
        "        if employee[\"sales\"] >= threshold:\n",
        "            commission = employee[\"sales\"] * rate\n",
        "            break  # Stop at the highest applicable tier\n",
        "    employee[\"commission\"] = commission\n",
        "\n"
      ],
      "metadata": {
        "id": "SMdZxqDpnaAG"
      },
      "execution_count": null,
      "outputs": []
    },
    {
      "cell_type": "markdown",
      "source": [
        "**Tasks:** Provide the algorithm/pseudocode (code flow) of this code block\n",
        "code logic - detailed understanding of how the code works step by step"
      ],
      "metadata": {
        "id": "2LhMhxEUna63"
      }
    },
    {
      "cell_type": "code",
      "source": [
        "# Calculate commissions based on tiers\n",
        "for employee in employees:\n",
        "    commission = 0\n",
        "    for threshold, rate in commission_tiers:\n",
        "        if employee[\"sales\"] >= threshold:\n",
        "            commission = employee[\"sales\"] * rate\n",
        "            break  # Stop at the highest applicable tier\n",
        "    employee[\"commission\"] = commission\n",
        "\n"
      ],
      "metadata": {
        "id": "fM8dDuXVna64"
      },
      "execution_count": null,
      "outputs": []
    },
    {
      "cell_type": "code",
      "source": [
        "for employee in employees:\n",
        "    commission, tax, pay = calculate_pay(employee[\"name\"], employee[\"salary\"], employee[\"sales\"], employee[\"commission\"] / employee[\"sales\"], 0.10)\n",
        "    print_payslip(employee[\"name\"], employee[\"salary\"], commission, tax, pay)\n"
      ],
      "metadata": {
        "id": "Zjs4iFXFc4m9"
      },
      "execution_count": null,
      "outputs": []
    },
    {
      "cell_type": "markdown",
      "source": [
        "### **Task:** Explain the input, output, and computation in the above code"
      ],
      "metadata": {
        "id": "d3zGMvF6ZZwl"
      }
    },
    {
      "cell_type": "markdown",
      "source": [],
      "metadata": {
        "id": "HAGzFHKZidsE"
      }
    }
  ]
}