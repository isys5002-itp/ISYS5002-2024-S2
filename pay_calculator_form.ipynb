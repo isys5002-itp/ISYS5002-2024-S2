{
  "nbformat": 4,
  "nbformat_minor": 0,
  "metadata": {
    "colab": {
      "provenance": [],
      "include_colab_link": true
    },
    "kernelspec": {
      "name": "python3",
      "display_name": "Python 3"
    },
    "language_info": {
      "name": "python"
    }
  },
  "cells": [
    {
      "cell_type": "markdown",
      "metadata": {
        "id": "view-in-github",
        "colab_type": "text"
      },
      "source": [
        "<a href=\"https://colab.research.google.com/github/isys5002-itp/ISYS5002-2024-S2/blob/main/pay_calculator_form.ipynb\" target=\"_parent\"><img src=\"https://colab.research.google.com/assets/colab-badge.svg\" alt=\"Open In Colab\"/></a>"
      ]
    },
    {
      "cell_type": "markdown",
      "source": [
        "# Pay Calculator\n",
        "\n",
        "Use this calculator to quickly estimate how much tax you will pay on your weekly income. This calculator conforms to official Australian Tax Office rates and formulas."
      ],
      "metadata": {
        "id": "t4G8SVevOtOe"
      }
    },
    {
      "cell_type": "code",
      "execution_count": 3,
      "metadata": {
        "id": "JETzvqg4zJ6s",
        "colab": {
          "base_uri": "https://localhost:8080/"
        },
        "outputId": "814d90f5-37b5-4f82-a841-d273fa1da52f"
      },
      "outputs": [
        {
          "output_type": "stream",
          "name": "stdout",
          "text": [
            "Payslip of Joe Blogs for week of 2022-05-27\n",
            "Weekly Salary: $1600.00 Commission: $80.00 Tax: $358.60\n",
            "Take Home Pay $1321.40\n"
          ]
        }
      ],
      "source": [
        "def calculate_ato_tax(income):\n",
        "  '''\n",
        "  Calculate the tax payable on yearly income based on the Australian Tax\n",
        "  Office Resident tax rates 2021–22 Taxable Income\n",
        "  '''\n",
        "  tax_payable = 0 # if income <= 18200:\n",
        "  if 18201 <= income <= 45000:\n",
        "    tax_payable = 0.19 * (income - 18200)\n",
        "  elif 45001 <= income <= 120000:\n",
        "    tax_payable = 5092 + 0.32 * (income - 45000)\n",
        "  elif 120001 <= income <= 180000:\n",
        "    tax_payable = 29467 + 0.37 * (income - 120000)\n",
        "  elif income >= 180001:\n",
        "    tax_payable = 51667 + 0.45 * (income - 180000)\n",
        "  return tax_payable\n",
        "\n",
        "\n",
        "def print_payslip(name, date, salary, sales):\n",
        "  '''\n",
        "  Print pay details given a salary and sales\n",
        "  '''\n",
        "  commission = 0.02 * sales\n",
        "  earnings = salary + commission\n",
        "  income = earnings * 52\n",
        "  tax = calculate_ato_tax(income) / 52\n",
        "  pay = earnings - tax\n",
        "\n",
        "  # Print pay slip\n",
        "  print(f'Payslip of {name} for week of {date}')\n",
        "  print(f'Weekly Salary: ${salary:.2f} Commission: ${commission:.2f} Tax: ${tax:.2f}')\n",
        "  print(f'Take Home Pay ${pay:.2f}')\n",
        "\n",
        "\n",
        "'''\n",
        "name = 'Joe Blogs'\n",
        "date = '2022-05-27'\n",
        "salary =   1600\n",
        "sales = 4000\n",
        "'''\n",
        "# print_payslip(name, date, salary, sales)"
      ]
    },
    {
      "cell_type": "code",
      "source": [
        "# @title Payslip\n",
        "name = \"Joe\" # @param {\"type\":\"string\"}\n",
        "date = \"2024-09-30\" # @param {\"type\":\"date\"}\n",
        "salary = 40000 # @param {\"type\":\"number\"}\n",
        "sales = 35000 # @param {\"type\":\"number\"}\n",
        "\n",
        "'''\n",
        "name  = input(\"Please enter staff name: \")\n",
        "date  = input(\"Please enter the date: \")\n",
        "salary  = int(input(\"Please enter salary: \"))\n",
        "sales  = int(input(\"Please enter sales: \"))\n",
        "'''\n",
        "\n",
        "print_payslip(name, date, salary, sales)"
      ],
      "metadata": {
        "id": "5Sbh5hiw_QNV",
        "colab": {
          "base_uri": "https://localhost:8080/"
        },
        "cellView": "form",
        "outputId": "775512b6-78c4-4ca1-aada-d265192ad8ae"
      },
      "execution_count": 5,
      "outputs": [
        {
          "output_type": "stream",
          "name": "stdout",
          "text": [
            "Payslip of Joe for week of 2024-09-30\n",
            "Weekly Salary: $40000.00 Commission: $700.00 Tax: $17750.90\n",
            "Take Home Pay $22949.10\n"
          ]
        }
      ]
    }
  ]
}