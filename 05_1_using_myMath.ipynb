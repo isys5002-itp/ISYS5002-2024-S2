{
  "nbformat": 4,
  "nbformat_minor": 0,
  "metadata": {
    "colab": {
      "provenance": [],
      "include_colab_link": true
    },
    "kernelspec": {
      "name": "python3",
      "display_name": "Python 3"
    },
    "language_info": {
      "name": "python"
    }
  },
  "cells": [
    {
      "cell_type": "markdown",
      "metadata": {
        "id": "view-in-github",
        "colab_type": "text"
      },
      "source": [
        "<a href=\"https://colab.research.google.com/github/isys5002-itp/ISYS5002-2024-S2/blob/main/05_1_using_myMath.ipynb\" target=\"_parent\"><img src=\"https://colab.research.google.com/assets/colab-badge.svg\" alt=\"Open In Colab\"/></a>"
      ]
    },
    {
      "cell_type": "markdown",
      "source": [
        "# Test Module: my_math.ipynb\n",
        "\n",
        "In this notebook, write some code to test the functions in *my_math.ipynb* by importing the file as python module. *my_math.ipynb* has some basic arithmetic functions in it.\n",
        "\n",
        "We will try importing as a python script and as a notebook.\n",
        "\n",
        "## Task 0 - Import this notebook to GitHub\n",
        "Save the notebook to your local GitHub repository.\n",
        "\n",
        "## Task 1 - Import as a Python script\n",
        "To do this you will need to:\n",
        "* open my_math.ipynb from the Worksheets repository\n",
        "* download/save as my_math.py\n",
        "* from this notebook upload my_math.py.  This will put it in the same folder as this notebook.\n",
        "* Import the my_math module\n",
        "\n",
        "    import my_math\n",
        "* write some code to test the functions in my_math module"
      ],
      "metadata": {
        "id": "pM6Ipzg-fJzT"
      }
    },
    {
      "cell_type": "code",
      "execution_count": null,
      "metadata": {
        "id": "vc2SBxd8fDyE"
      },
      "outputs": [],
      "source": [
        "import myMath"
      ]
    },
    {
      "cell_type": "code",
      "source": [
        "help(myMath)"
      ],
      "metadata": {
        "id": "F0ngF3gL5qq0"
      },
      "execution_count": null,
      "outputs": []
    },
    {
      "cell_type": "code",
      "source": [
        "myMath.add(2,3)"
      ],
      "metadata": {
        "id": "0RJG6pu99xPc"
      },
      "execution_count": null,
      "outputs": []
    },
    {
      "cell_type": "code",
      "source": [
        "myMath.divide(4, 2)"
      ],
      "metadata": {
        "id": "QOOQhfvIiOss"
      },
      "execution_count": null,
      "outputs": []
    },
    {
      "cell_type": "code",
      "source": [
        "'''\n",
        "Errors should captured/handled by developer.\n",
        "Developer should implement mechanism to capture all possible errors\n",
        "'''\n",
        "myMath.divide(2,0)"
      ],
      "metadata": {
        "id": "DGtPcNXuMu20"
      },
      "execution_count": null,
      "outputs": []
    },
    {
      "cell_type": "markdown",
      "source": [
        "# Alternate Methods\n",
        "To use functions from a `.ipynb` file as a module in another Jupyter notebook, you can use one of the following methods:\n"
      ],
      "metadata": {
        "id": "cKk6I94Z6Unk"
      }
    },
    {
      "cell_type": "markdown",
      "source": [
        "### **Using `nbconvert`:**\n",
        "You can programmatically convert the `.ipynb` to a `.py` file using the `nbconvert` utility within a notebook.\n",
        "\n",
        "**Steps:**\n",
        "\n",
        "- Use the following code to convert a notebook to a Python script:\n",
        "\n",
        "    ```python\n",
        "    !jupyter nbconvert --to script my_math.ipynb\n",
        "    ```\n",
        "\n",
        "- Once converted, import the module as you would with any `.py` file:\n",
        "\n",
        "    ```python\n",
        "    import my_math\n",
        "    ```\n",
        "\n",
        "\n",
        "The command `!jupyter nbconvert --to python myMath.ipynb --output myMath` converts a Jupyter notebook (`myMath.ipynb`) into a Python script (`myMath.py`).\n",
        "\n",
        "1. **`!`**: Runs shell commands from the notebook.\n",
        "2. **`jupyter nbconvert`**: Converts notebooks to various formats, like Python scripts.\n",
        "3. **`--to python`**: Specifies that the output should be a `.py` file.\n",
        "4. **`myMath.ipynb`**: The input notebook file.\n",
        "5. **`--output myMath`**: Names the output file `myMath.py`.\n"
      ],
      "metadata": {
        "id": "UWtMchGz6GNM"
      }
    },
    {
      "cell_type": "code",
      "source": [
        "!jupyter nbconvert --to python myMath.ipynb --output myMath"
      ],
      "metadata": {
        "id": "vMtAkOJ34edr"
      },
      "execution_count": null,
      "outputs": []
    },
    {
      "cell_type": "markdown",
      "source": [
        "### **Using `nbimporter`:**\n",
        "The `nbimporter` library allows you to import Jupyter notebooks as if they were regular Python modules.\n",
        "\n",
        "**Steps:**\n",
        "\n",
        "- Install the `nbimporter` package if you don't have it installed already:\n",
        "\n",
        "    ```python\n",
        "    !pip install nbimporter\n",
        "    ```\n",
        "\n",
        "- Import the notebook using `nbimporter`:\n",
        "\n",
        "    ```python\n",
        "    import nbimporter\n",
        "    import my_math  # Assuming my_math.ipynb is in the same directory\n",
        "    ```\n",
        "\n",
        "**Limitations:**\n",
        "\n",
        "- This method allows you to import notebooks as modules, but it requires the notebook to be in the same directory as your current notebook or within the Python path.\n"
      ],
      "metadata": {
        "id": "7si3q1rg621c"
      }
    },
    {
      "cell_type": "code",
      "source": [
        "!pip install nbimporter"
      ],
      "metadata": {
        "id": "aY6SK5Je6-rj"
      },
      "execution_count": null,
      "outputs": []
    },
    {
      "cell_type": "code",
      "source": [
        "  import nbimporter\n",
        "  import myMath  # Assuming my_math.ipynb is in the same directory"
      ],
      "metadata": {
        "id": "ZcRzKeiA7AoC"
      },
      "execution_count": null,
      "outputs": []
    },
    {
      "cell_type": "code",
      "source": [
        "help(myMath)"
      ],
      "metadata": {
        "id": "zVoPEgnm7FTb"
      },
      "execution_count": null,
      "outputs": []
    },
    {
      "cell_type": "code",
      "source": [
        "myMath.multiply(3, 2)"
      ],
      "metadata": {
        "id": "diGQqaAz7JMT"
      },
      "execution_count": null,
      "outputs": []
    }
  ]
}