{
  "nbformat": 4,
  "nbformat_minor": 0,
  "metadata": {
    "colab": {
      "provenance": [],
      "include_colab_link": true
    },
    "kernelspec": {
      "name": "python3",
      "display_name": "Python 3"
    },
    "language_info": {
      "name": "python"
    }
  },
  "cells": [
    {
      "cell_type": "markdown",
      "metadata": {
        "id": "view-in-github",
        "colab_type": "text"
      },
      "source": [
        "<a href=\"https://colab.research.google.com/github/isys5002-itp/ISYS5002-2024-S2/blob/main/05_1_using_myMath.ipynb\" target=\"_parent\"><img src=\"https://colab.research.google.com/assets/colab-badge.svg\" alt=\"Open In Colab\"/></a>"
      ]
    },
    {
      "cell_type": "markdown",
      "source": [
        "# Test Module: my_math.ipynb\n",
        "\n",
        "In this notebook, write some code to test the functions in *my_math.ipynb* by importing the file as python module. *my_math.ipynb* has some basic arithmetic functions in it.\n",
        "\n",
        "We will try importing as a python script and as a notebook.\n",
        "\n",
        "## Task 0 - Import this notebook to GitHub\n",
        "Save the notebook to your local GitHub repository.\n",
        "\n",
        "## Task 1 - Import as a Python script\n",
        "To do this you will need to:\n",
        "* open my_math.ipynb from the Worksheets repository\n",
        "* download/save as my_math.py\n",
        "* from this notebook upload my_math.py.  This will put it in the same folder as this notebook.\n",
        "* Import the my_math module\n",
        "\n",
        "    import my_math\n",
        "* write some code to test the functions in my_math module"
      ],
      "metadata": {
        "id": "pM6Ipzg-fJzT"
      }
    },
    {
      "cell_type": "code",
      "execution_count": null,
      "metadata": {
        "id": "vc2SBxd8fDyE"
      },
      "outputs": [],
      "source": [
        "import myMath\n",
        "\n",
        "help(myMath)\n"
      ]
    },
    {
      "cell_type": "code",
      "source": [
        "myMath.add(2,3)"
      ],
      "metadata": {
        "id": "0RJG6pu99xPc"
      },
      "execution_count": null,
      "outputs": []
    },
    {
      "cell_type": "code",
      "source": [
        "myMath.divide(4, 2)"
      ],
      "metadata": {
        "id": "QOOQhfvIiOss"
      },
      "execution_count": null,
      "outputs": []
    },
    {
      "cell_type": "code",
      "source": [
        "'''\n",
        "Errors should captured/handled by developer.\n",
        "Developer should implement mechanism to capture all possible errors\n",
        "'''\n",
        "myMath.divide(2,0)"
      ],
      "metadata": {
        "colab": {
          "base_uri": "https://localhost:8080/"
        },
        "id": "DGtPcNXuMu20",
        "outputId": "a41b4e36-2dd4-4890-d5d1-6b9a2089e58b"
      },
      "execution_count": null,
      "outputs": [
        {
          "output_type": "execute_result",
          "data": {
            "text/plain": [
              "1.0"
            ]
          },
          "metadata": {},
          "execution_count": 8
        }
      ]
    }
  ]
}