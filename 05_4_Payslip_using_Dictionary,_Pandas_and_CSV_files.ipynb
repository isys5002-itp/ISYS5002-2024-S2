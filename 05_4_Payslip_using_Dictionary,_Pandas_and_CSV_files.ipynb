{
  "nbformat": 4,
  "nbformat_minor": 0,
  "metadata": {
    "colab": {
      "provenance": [],
      "authorship_tag": "ABX9TyNKktJjL1A6p4ylsi6kpvcs",
      "include_colab_link": true
    },
    "kernelspec": {
      "name": "python3",
      "display_name": "Python 3"
    },
    "language_info": {
      "name": "python"
    }
  },
  "cells": [
    {
      "cell_type": "markdown",
      "metadata": {
        "id": "view-in-github",
        "colab_type": "text"
      },
      "source": [
        "<a href=\"https://colab.research.google.com/github/isys5002-itp/ISYS5002-2024-S2/blob/main/05_4_Payslip_using_Dictionary%2C_Pandas_and_CSV_files.ipynb\" target=\"_parent\"><img src=\"https://colab.research.google.com/assets/colab-badge.svg\" alt=\"Open In Colab\"/></a>"
      ]
    },
    {
      "cell_type": "markdown",
      "source": [
        "# Let's continue working on our **``payslip``** program\n",
        "Using dictionaries, lists, CSV file,  pandas and matplotlib modules\n",
        "* store data as a list of dictionaries\n",
        "* save this data to a CSV file using the ``pandas`` module\n",
        "* read the ``CSV`` file using ``pandas`` to plot graphs using ``matplotlib`` based on the data."
      ],
      "metadata": {
        "id": "gRl-y3e-WAca"
      }
    },
    {
      "cell_type": "markdown",
      "source": [
        "## **Task:** Complete the code below\n",
        "\n",
        "Implement the following functions: `get_input()`, `calculate_tax()`, and `calculate_pay()`.\n",
        "\n",
        "- **get_input()**: This function should prompt the user to enter employee details such as name, salary, and sales, and return these values.\n",
        "- **calculate_tax()**: This function should take the total income as input and return the calculated tax based on predefined tax brackets.\n",
        "- **calculate_pay()**: This function should compute the commission, tax, and net pay using the salary, sales, and the `calculate_tax()` function.\n",
        "\n",
        "Use the provided comments as placeholders for where each function should be implemented.\n",
        "\n"
      ],
      "metadata": {
        "id": "vMdn-AAYcmxI"
      }
    },
    {
      "cell_type": "code",
      "source": [
        "# FUNCTION: get_input\n",
        "\n",
        "\n",
        "\n",
        "# FUNCTION: calculate_tax\n",
        "\n",
        "\n",
        "\n",
        "# FUNCTION: calculate_pay\n",
        "\n"
      ],
      "metadata": {
        "id": "kw2ygkZWcmxJ"
      },
      "execution_count": null,
      "outputs": []
    },
    {
      "cell_type": "markdown",
      "source": [
        "## **Task:** Complete the code below\n",
        "* Gather input from the user, calculate pay details, and append the results to the `payslip_data` list.\n",
        "* Continue the loop until the user chooses to stop entering data.\n",
        "\n"
      ],
      "metadata": {
        "id": "wGB-Hl0RWEOx"
      }
    },
    {
      "cell_type": "code",
      "source": [
        "payslip_data = []  # Initialise an empty list to store the payslip data\n",
        "\n",
        "while True:\n",
        "\n",
        "  # Call get_input() and assign its returned values to separate variables.\n",
        "\n",
        "\n",
        "  # Call calculate_pay(salary, sales and assign its returned values to separate variables.\n",
        "\n",
        "\n",
        "  # Append the data to the paylist_data list\n",
        "  payslip_data.append({\"name\": name, \"salary\": salary, \"sales\": sales, \"commission\": commission, \"tax\": tax, \"net_pay\": net_pay})\n",
        "\n",
        "   # Ask the user if they want to continue\n",
        "\n",
        "\n",
        "\n"
      ],
      "metadata": {
        "id": "RhSL-4Z4QDQZ"
      },
      "execution_count": null,
      "outputs": []
    },
    {
      "cell_type": "markdown",
      "source": [
        "## Save data in the payslip_data list into csv file using ``pandas``"
      ],
      "metadata": {
        "id": "2J-eYLnvWJXK"
      }
    },
    {
      "cell_type": "code",
      "source": [
        "import pandas as pd\n",
        "\n",
        "# save items in payslip_data list into csv file\n",
        "filename = 'payslip_data.csv'\n",
        "\n",
        "df = pd.DataFrame(payslip_data)\n",
        "df.to_csv(filename, index=False)\n",
        "print(f\"Payslip data has been saved to {filename}.\")\n"
      ],
      "metadata": {
        "id": "bKdkiltYOY0y"
      },
      "execution_count": null,
      "outputs": []
    },
    {
      "cell_type": "markdown",
      "source": [
        "## Reading data from csv file and plotting graph"
      ],
      "metadata": {
        "id": "fdE2MMHcWSMp"
      }
    },
    {
      "cell_type": "code",
      "source": [
        "import matplotlib.pyplot as plt\n",
        "\n",
        "# read csv file\n",
        "filename='payslip_data.csv'\n",
        "\n",
        "df = pd.read_csv(filename)\n",
        "print(df)\n",
        "\n",
        "\n",
        "# Plotting the sales vs net pay\n",
        "plt.figure(figsize=(10, 6))\n",
        "\n",
        "# Plot sales\n",
        "plt.subplot(2, 1, 1)\n",
        "plt.bar(df['name'], df['sales'], color='blue')\n",
        "plt.xlabel('Employee Name')\n",
        "plt.ylabel('Sales')\n",
        "plt.title('Sales by Employee')\n",
        "\n",
        "\n",
        "plt.tight_layout()\n",
        "plt.show()\n",
        "\n"
      ],
      "metadata": {
        "id": "6RQbvPfaQB4y"
      },
      "execution_count": null,
      "outputs": []
    },
    {
      "cell_type": "markdown",
      "source": [
        "## **Task:** Modify the code above to allow the user to plot one of two possible graphs based on their input.\n",
        "* Employee vs Sales\n",
        "* Employee vs Net Pay"
      ],
      "metadata": {
        "id": "sav2M7x0ZR8p"
      }
    },
    {
      "cell_type": "code",
      "source": [],
      "metadata": {
        "id": "FnyTtwj6ZWo4"
      },
      "execution_count": null,
      "outputs": []
    }
  ]
}