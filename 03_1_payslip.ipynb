{
  "cells": [
    {
      "cell_type": "markdown",
      "metadata": {
        "id": "view-in-github",
        "colab_type": "text"
      },
      "source": [
        "<a href=\"https://colab.research.google.com/github/isys5002-itp/ISYS5002-2024-S2/blob/main/03_1_payslip.ipynb\" target=\"_parent\"><img src=\"https://colab.research.google.com/assets/colab-badge.svg\" alt=\"Open In Colab\"/></a>"
      ]
    },
    {
      "cell_type": "markdown",
      "metadata": {
        "id": "kF8ldRydTDPx"
      },
      "source": [
        "# Payslip\n",
        "\n",
        "A payslip is a document that shows their total wages earned for a set period.\n",
        "This might be from a salary, hourly wages or commission. Payslips are also know as ‘pay advice’.  Traditionally the payslip was a paper document attached. Today\n",
        "most organisations provide them electronically.\n",
        "\n",
        "## Task 0 - Import into GitHub\n",
        "First, import the notebook into Colab and save an initial copy to GitHub.\n",
        "\n",
        "## Task 1 - Start Simple\n",
        "\n",
        "Writing complete robust programs can take time.  Often the more we understand a problem the easier it is to implement the solution.   One approach is to implement the simplest version of a program and then slowly add functionality.\n",
        "\n",
        "This notebook aims to start simple and slowly build up the program.\n",
        "The approach we take below is one way to understand a problem, step 1 of our development process. Complex projects, often follow a similar idea\n",
        "where they implement a minimal program, and each week or month has intense periods where the team adds functionality.  These advanced methodologies are beyond the scope of an introductory programming course but by starting small and slowly adding functionality we do capture the essence of the process.\n",
        "\n",
        "\n",
        "### The Initial (minimal) Program\n",
        "\n",
        "Consider 'Ram' who has a salary of \\$25,000.  They have sold goods worth $20,000 and earn a 2% commission on the sales. They fall into the 10% tax bracket. We will talk about tax brackets in another notebook. Before making payments the organisation needs to deduct 10% tax.\n",
        "\n",
        "We need to program to print out a payslip for salespeople. Our payslip\n",
        "is very simple, we need a title, the amount of salary, the amount of commission, the amount of tax, and the total pay.\n",
        "\n",
        "Run the following program for one person."
      ]
    },
    {
      "cell_type": "code",
      "execution_count": 1,
      "metadata": {
        "id": "2UenEHfcTuLz",
        "colab": {
          "base_uri": "https://localhost:8080/",
          "height": 0
        },
        "outputId": "fc968b9e-13fb-4ae8-fd8b-4b14b96d7014"
      },
      "outputs": [
        {
          "output_type": "stream",
          "name": "stdout",
          "text": [
            "=== Payslip of Ram ===\n",
            "Salary:     25000 \n",
            "Commission: 400.0 \n",
            "Tax:        2540.0\n",
            "Total pay:  22860.0\n"
          ]
        }
      ],
      "source": [
        "# assign values for salary and sales\n",
        "salary = 25000 # assign the value - base sslary 25000 in variable named 'salary'\n",
        "sales = 20000 # asisgn total sales by the salesperson OR assign value 20000 into variable named 'sales'\n",
        "\n",
        "# calculate the commision\n",
        "commission = 0.02 * sales # compute the commission by multiplying the value in 'sales' with 2%\n",
        "\n",
        "# calculate the tax\n",
        "tax = (salary + commission) * 0.10 # compute the tax by first adding salary and computed commission and then multiplying it by 10%\n",
        "\n",
        "# calculate the pay\n",
        "pay = salary + commission - tax # compute the net pay by subtracting tax from total of gross pay which is total of salary and commission\n",
        "\n",
        "# print the payslip\n",
        "print('=== Payslip of Ram ===') # print the name of salesperson\n",
        "print(f\"Salary: {salary:9} \\nCommission: {commission:} \\nTax: {tax:13}\")\n",
        "print(f\"Total pay: {pay:8}\")\n"
      ]
    },
    {
      "cell_type": "code",
      "source": [
        "print(\"Salary:\", salary)"
      ],
      "metadata": {
        "colab": {
          "base_uri": "https://localhost:8080/",
          "height": 0
        },
        "id": "eprdMwDSMqr0",
        "outputId": "12ba6179-0840-4331-dfd3-ab57ff201d59"
      },
      "execution_count": 3,
      "outputs": [
        {
          "output_type": "stream",
          "name": "stdout",
          "text": [
            "Salary: 25000\n"
          ]
        }
      ]
    },
    {
      "cell_type": "code",
      "source": [
        "print(f\"Salary: {salary:9} \\tCommission: {commission:} \\nTax: {tax:13}\")"
      ],
      "metadata": {
        "colab": {
          "base_uri": "https://localhost:8080/",
          "height": 0
        },
        "id": "LZz2OT1SMlLo",
        "outputId": "a06fcaef-d142-4f1b-c82c-14a68c13041d"
      },
      "execution_count": 8,
      "outputs": [
        {
          "output_type": "stream",
          "name": "stdout",
          "text": [
            "Salary:     25000 \tCommission: 400.0 \n",
            "Tax:        2540.0\n"
          ]
        }
      ]
    },
    {
      "cell_type": "markdown",
      "metadata": {
        "id": "QzcJGzRBUDz2"
      },
      "source": [
        "Now, consider 'Radha' who has a salary of \\$30,000.  They have sold goods worth $40,000 and earns 2.5% commision on the sales. They fall into the 10% tax bracket and so before making payments we need to deduct 10% form their total payout."
      ]
    },
    {
      "cell_type": "code",
      "source": [
        "# assign values for salary and sales\n",
        "salary = 30000 # assign the value - base sslary 25000 in variable named 'salary'\n",
        "sales = 40000 # asisgn total sales by the salesperson OR assign value 20000 into variable named 'sales'\n",
        "\n",
        "# calculate the commision\n",
        "commission = 0.025 * sales # compute the commission by multiplying the value in 'sales' with 2.5%\n",
        "\n",
        "# calculate the tax\n",
        "tax = (salary + commission) * 0.10 # compute the tax by first adding salary and computed commission and then multiplying it by 10%\n",
        "\n",
        "# calculate the pay\n",
        "pay = salary + commission - tax # compute the net pay by subtracting tax from total of gross pay which is total of salary and commission\n",
        "\n",
        "# print the payslip\n",
        "print('=== Payslip of Radha ===') # print the name of salesperson\n",
        "print(f\"Salary: {salary:9} \\nCommission: {commission:} \\nTax: {tax:13}\")\n",
        "print(f\"Total pay: {pay:8}\")"
      ],
      "metadata": {
        "id": "HjnjWgpUPQN-",
        "colab": {
          "base_uri": "https://localhost:8080/",
          "height": 0
        },
        "outputId": "56392377-5bc6-4572-823b-02a147a88fbd"
      },
      "execution_count": 9,
      "outputs": [
        {
          "output_type": "stream",
          "name": "stdout",
          "text": [
            "=== Payslip of Radha ===\n",
            "Salary:     30000 \n",
            "Commission: 1000.0 \n",
            "Tax:        3100.0\n",
            "Total pay:  27900.0\n"
          ]
        }
      ]
    },
    {
      "cell_type": "markdown",
      "source": [
        "**Task:** instead of fixing the salary and sales, let's get those values as input from users."
      ],
      "metadata": {
        "id": "LS4NOByDOkgc"
      }
    },
    {
      "cell_type": "code",
      "source": [
        "# assign values for salary and sales\n",
        "name = input(\"Please enter the employee name: \")\n",
        "\n",
        "# get input from user - salary and sales - and convert the values into float.\n",
        "salary = float(input(\"Please enter the employee salary: \"))\n",
        "sales = float(input(\"Please enter the employee sales: \"))\n",
        "\n",
        "# calculate the commision\n",
        "commission = 0.025 * sales # compute the commission by multiplying the value in 'sales' with 2.5%\n",
        "\n",
        "# calculate the tax\n",
        "tax = (salary + commission) * 0.10 # compute the tax by first adding salary and computed commission and then multiplying it by 10%\n",
        "\n",
        "# calculate the pay\n",
        "pay = salary + commission - tax # compute the net pay by subtracting tax from total of gross pay which is total of salary and commission\n",
        "\n",
        "# print the payslip\n",
        "print(f'\\n=== Payslip of {name} ===') # print the name of salesperson\n",
        "print(f\"Salary: {salary:9} \\nCommission: {commission:} \\nTax: {tax:13}\")\n",
        "print(f\"Total pay: {pay:8}\")"
      ],
      "metadata": {
        "colab": {
          "base_uri": "https://localhost:8080/"
        },
        "id": "yiGLuN6FOugE",
        "outputId": "0c10957b-d267-48f5-8baf-4f9135534b22"
      },
      "execution_count": 11,
      "outputs": [
        {
          "output_type": "stream",
          "name": "stdout",
          "text": [
            "Please enter the employee name: Radha\n",
            "Please enter the employee salary: 30000\n",
            "Please enter the employee sales: 45000\n",
            "\n",
            "=== Payslip of Radha ===\n",
            "Salary:   30000.0 \n",
            "Commission: 1125.0 \n",
            "Tax:        3112.5\n",
            "Total pay:  28012.5\n"
          ]
        }
      ]
    },
    {
      "cell_type": "markdown",
      "metadata": {
        "id": "UFGObxq7UlvE"
      },
      "source": [
        "## Task 2 - Generalise\n",
        "\n",
        "What details did we change from Ram to Radha?"
      ]
    },
    {
      "cell_type": "code",
      "execution_count": null,
      "metadata": {
        "id": "zMEi9q1dUr36"
      },
      "outputs": [],
      "source": []
    },
    {
      "cell_type": "markdown",
      "metadata": {
        "id": "7PrlmDmYV6iX"
      },
      "source": [
        "Make what we changed as inputs (parameters) to a function"
      ]
    },
    {
      "cell_type": "code",
      "execution_count": 14,
      "metadata": {
        "id": "cJwgf8nZWDF6"
      },
      "outputs": [],
      "source": [
        "# FUNCTION callcuate_pay\n",
        "\n",
        "def calculate_pay(salary, sales):\n",
        "  # calculate the commision\n",
        "  commission = 0.025 * sales # compute the commission by multiplying the value in 'sales' with 2.5%\n",
        "\n",
        "  # calculate the tax\n",
        "  tax = (salary + commission) * 0.10 # compute the tax by first adding salary and computed commission and then multiplying it by 10%\n",
        "\n",
        "  # calculate the pay\n",
        "  pay = salary + commission - tax\n",
        "\n",
        "  return commission, tax, pay\n"
      ]
    },
    {
      "cell_type": "code",
      "source": [
        "calculate_pay(30000, 45000) # call the function"
      ],
      "metadata": {
        "id": "s5l_wkNuTrdj"
      },
      "execution_count": null,
      "outputs": []
    },
    {
      "cell_type": "code",
      "source": [
        "# FUNCTION for printing payslip\n",
        "\n",
        "def print_payslip(name, salary, comm, calc_tax, net_pay):\n",
        "  # print the payslip\n",
        "  print(f'\\n=== Payslip of {name} ===') # print the name of salesperson\n",
        "  print(f\"Salary: {salary:9} \\nCommission: {commission:} \\nTax: {tax:13}\")\n",
        "  print(f\"Total pay: {pay:8}\")"
      ],
      "metadata": {
        "id": "txb3Ix9PUzET"
      },
      "execution_count": 17,
      "outputs": []
    },
    {
      "cell_type": "code",
      "source": [
        "# INPUT\n",
        "# assign values for salary and sales\n",
        "name = input(\"Please enter the employee name: \")\n",
        "# get input from user - salary and sales - and convert the values into float.\n",
        "salary = float(input(\"Please enter the employee salary: \"))\n",
        "sales = float(input(\"Please enter the employee sales: \"))\n",
        "\n",
        "# COMPUTATION\n",
        "comm, calc_tax, net_pay = calculate_pay(salary, sales)\n",
        "\n",
        "# OUTPUT\n",
        "print_payslip(name, salary, comm, calc_tax, net_pay)"
      ],
      "metadata": {
        "id": "rUmE3SS6UT97"
      },
      "execution_count": null,
      "outputs": []
    },
    {
      "cell_type": "markdown",
      "source": [
        "**Task:**\n",
        "* if sales is more than 20000 then comm rate is 5%\n",
        "* if sales is more than 10000 and less than 15000 - comm rate 4%\n",
        "* if sales is less than 10000 - comm rate 3%"
      ],
      "metadata": {
        "id": "Mc6MMxG0WHIw"
      }
    },
    {
      "cell_type": "code",
      "source": [],
      "metadata": {
        "id": "I0nBWZb3VSrd"
      },
      "execution_count": null,
      "outputs": []
    }
  ],
  "metadata": {
    "colab": {
      "provenance": [],
      "include_colab_link": true
    },
    "kernelspec": {
      "display_name": "Python 3",
      "language": "python",
      "name": "python3"
    },
    "language_info": {
      "codemirror_mode": {
        "name": "ipython",
        "version": 3
      },
      "file_extension": ".py",
      "mimetype": "text/x-python",
      "name": "python",
      "nbconvert_exporter": "python",
      "pygments_lexer": "ipython3",
      "version": "3.8.8"
    }
  },
  "nbformat": 4,
  "nbformat_minor": 0
}